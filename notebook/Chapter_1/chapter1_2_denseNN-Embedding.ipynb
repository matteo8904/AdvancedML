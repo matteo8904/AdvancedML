{
 "cells": [
  {
   "cell_type": "code",
   "execution_count": null,
   "metadata": {},
   "outputs": [],
   "source": [
    "# !pip install tensorflow"
   ]
  },
  {
   "cell_type": "code",
   "execution_count": 1,
   "metadata": {},
   "outputs": [],
   "source": [
    "import pandas as pd\n",
    "import numpy as np\n",
    "import os\n",
    "\n",
    "DATA_FOLDER = \"data\""
   ]
  },
  {
   "cell_type": "code",
   "execution_count": 2,
   "metadata": {},
   "outputs": [],
   "source": [
    "filename = os.path.join(DATA_FOLDER, \"auto_price.csv\")\n",
    "df=pd.read_csv(filename) \n",
    "df.drop_duplicates(inplace = True)\n",
    "df = df[df[\"price\"]< 600000].copy()"
   ]
  },
  {
   "cell_type": "code",
   "execution_count": 3,
   "metadata": {},
   "outputs": [
    {
     "data": {
      "text/plain": [
       "Index(['price', 'MatriculationMonth', 'MatriculationYear', 'km', 'cv',\n",
       "       'FuelType', 'gearboxType', 'Consume', 'city', 'province', 'Brand',\n",
       "       'Model', 'Preparation', 'Engine', 'Seats', 'ConsumeFuel',\n",
       "       'ConsumeFuelNotUrban', 'Emissions', 'Color', 'Metallizzato', 'Airbag',\n",
       "       'NumberDoors', 'EmissionClass', 'AirConditioning', 'Interior'],\n",
       "      dtype='object')"
      ]
     },
     "execution_count": 3,
     "metadata": {},
     "output_type": "execute_result"
    }
   ],
   "source": [
    "df.columns"
   ]
  },
  {
   "cell_type": "code",
   "execution_count": 4,
   "metadata": {},
   "outputs": [
    {
     "data": {
      "text/html": [
       "<div>\n",
       "<style scoped>\n",
       "    .dataframe tbody tr th:only-of-type {\n",
       "        vertical-align: middle;\n",
       "    }\n",
       "\n",
       "    .dataframe tbody tr th {\n",
       "        vertical-align: top;\n",
       "    }\n",
       "\n",
       "    .dataframe thead th {\n",
       "        text-align: right;\n",
       "    }\n",
       "</style>\n",
       "<table border=\"1\" class=\"dataframe\">\n",
       "  <thead>\n",
       "    <tr style=\"text-align: right;\">\n",
       "      <th></th>\n",
       "      <th>price</th>\n",
       "      <th>MatriculationMonth</th>\n",
       "      <th>MatriculationYear</th>\n",
       "      <th>km</th>\n",
       "      <th>cv</th>\n",
       "      <th>FuelType</th>\n",
       "      <th>gearboxType</th>\n",
       "      <th>Consume</th>\n",
       "      <th>city</th>\n",
       "      <th>province</th>\n",
       "      <th>...</th>\n",
       "      <th>ConsumeFuel</th>\n",
       "      <th>ConsumeFuelNotUrban</th>\n",
       "      <th>Emissions</th>\n",
       "      <th>Color</th>\n",
       "      <th>Metallizzato</th>\n",
       "      <th>Airbag</th>\n",
       "      <th>NumberDoors</th>\n",
       "      <th>EmissionClass</th>\n",
       "      <th>AirConditioning</th>\n",
       "      <th>Interior</th>\n",
       "    </tr>\n",
       "  </thead>\n",
       "  <tbody>\n",
       "    <tr>\n",
       "      <th>0</th>\n",
       "      <td>15500</td>\n",
       "      <td>Luglio</td>\n",
       "      <td>2013</td>\n",
       "      <td>82914.0</td>\n",
       "      <td>85.0</td>\n",
       "      <td>Diesel</td>\n",
       "      <td>Cambio automatico</td>\n",
       "      <td>4.1</td>\n",
       "      <td>Modena</td>\n",
       "      <td>Modena</td>\n",
       "      <td>...</td>\n",
       "      <td>4.1</td>\n",
       "      <td>3.6</td>\n",
       "      <td>109.0</td>\n",
       "      <td>NaN</td>\n",
       "      <td>NaN</td>\n",
       "      <td>NaN</td>\n",
       "      <td>NaN</td>\n",
       "      <td>NaN</td>\n",
       "      <td>NaN</td>\n",
       "      <td>NaN</td>\n",
       "    </tr>\n",
       "    <tr>\n",
       "      <th>1</th>\n",
       "      <td>3900</td>\n",
       "      <td>Novembre</td>\n",
       "      <td>2006</td>\n",
       "      <td>161038.0</td>\n",
       "      <td>75.0</td>\n",
       "      <td>Benzina</td>\n",
       "      <td>Cambio manuale</td>\n",
       "      <td>7.2</td>\n",
       "      <td>Modena</td>\n",
       "      <td>Modena</td>\n",
       "      <td>...</td>\n",
       "      <td>7.2</td>\n",
       "      <td>5.6</td>\n",
       "      <td>176.0</td>\n",
       "      <td>Blu</td>\n",
       "      <td>NaN</td>\n",
       "      <td>NaN</td>\n",
       "      <td>NaN</td>\n",
       "      <td>NaN</td>\n",
       "      <td>NaN</td>\n",
       "      <td>NaN</td>\n",
       "    </tr>\n",
       "    <tr>\n",
       "      <th>2</th>\n",
       "      <td>15900</td>\n",
       "      <td>Giugno</td>\n",
       "      <td>2014</td>\n",
       "      <td>114830.0</td>\n",
       "      <td>80.0</td>\n",
       "      <td>Diesel</td>\n",
       "      <td>Cambio manuale</td>\n",
       "      <td>3.8</td>\n",
       "      <td>Modena</td>\n",
       "      <td>Modena</td>\n",
       "      <td>...</td>\n",
       "      <td>3.8</td>\n",
       "      <td>3.3</td>\n",
       "      <td>98.0</td>\n",
       "      <td>Grigio</td>\n",
       "      <td>NaN</td>\n",
       "      <td>NaN</td>\n",
       "      <td>NaN</td>\n",
       "      <td>NaN</td>\n",
       "      <td>NaN</td>\n",
       "      <td>NaN</td>\n",
       "    </tr>\n",
       "    <tr>\n",
       "      <th>3</th>\n",
       "      <td>54900</td>\n",
       "      <td>Maggio</td>\n",
       "      <td>2016</td>\n",
       "      <td>61700.0</td>\n",
       "      <td>183.0</td>\n",
       "      <td>Diesel</td>\n",
       "      <td>Cambio automatico</td>\n",
       "      <td>5.9</td>\n",
       "      <td>Padova</td>\n",
       "      <td>Padova</td>\n",
       "      <td>...</td>\n",
       "      <td>5.9</td>\n",
       "      <td>5.5</td>\n",
       "      <td>156.0</td>\n",
       "      <td>Nero</td>\n",
       "      <td>NaN</td>\n",
       "      <td>NaN</td>\n",
       "      <td>NaN</td>\n",
       "      <td>NaN</td>\n",
       "      <td>NaN</td>\n",
       "      <td>NaN</td>\n",
       "    </tr>\n",
       "    <tr>\n",
       "      <th>4</th>\n",
       "      <td>45900</td>\n",
       "      <td>Settembre</td>\n",
       "      <td>2014</td>\n",
       "      <td>25790.0</td>\n",
       "      <td>190.0</td>\n",
       "      <td>Diesel</td>\n",
       "      <td>Cambio automatico</td>\n",
       "      <td>6.2</td>\n",
       "      <td>Padova</td>\n",
       "      <td>Padova</td>\n",
       "      <td>...</td>\n",
       "      <td>6.2</td>\n",
       "      <td>5.7</td>\n",
       "      <td>162.0</td>\n",
       "      <td>Grigio</td>\n",
       "      <td>Sì</td>\n",
       "      <td>NaN</td>\n",
       "      <td>NaN</td>\n",
       "      <td>NaN</td>\n",
       "      <td>NaN</td>\n",
       "      <td>NaN</td>\n",
       "    </tr>\n",
       "  </tbody>\n",
       "</table>\n",
       "<p>5 rows × 25 columns</p>\n",
       "</div>"
      ],
      "text/plain": [
       "   price MatriculationMonth  MatriculationYear        km     cv FuelType  \\\n",
       "0  15500             Luglio               2013   82914.0   85.0   Diesel   \n",
       "1   3900           Novembre               2006  161038.0   75.0  Benzina   \n",
       "2  15900             Giugno               2014  114830.0   80.0   Diesel   \n",
       "3  54900             Maggio               2016   61700.0  183.0   Diesel   \n",
       "4  45900          Settembre               2014   25790.0  190.0   Diesel   \n",
       "\n",
       "         gearboxType Consume    city province  ... ConsumeFuel  \\\n",
       "0  Cambio automatico     4.1  Modena   Modena  ...         4.1   \n",
       "1     Cambio manuale     7.2  Modena   Modena  ...         7.2   \n",
       "2     Cambio manuale     3.8  Modena   Modena  ...         3.8   \n",
       "3  Cambio automatico     5.9  Padova   Padova  ...         5.9   \n",
       "4  Cambio automatico     6.2  Padova   Padova  ...         6.2   \n",
       "\n",
       "  ConsumeFuelNotUrban Emissions   Color  Metallizzato  Airbag  NumberDoors  \\\n",
       "0                 3.6     109.0     NaN           NaN     NaN          NaN   \n",
       "1                 5.6     176.0     Blu           NaN     NaN          NaN   \n",
       "2                 3.3      98.0  Grigio           NaN     NaN          NaN   \n",
       "3                 5.5     156.0    Nero           NaN     NaN          NaN   \n",
       "4                 5.7     162.0  Grigio            Sì     NaN          NaN   \n",
       "\n",
       "   EmissionClass AirConditioning Interior  \n",
       "0            NaN             NaN      NaN  \n",
       "1            NaN             NaN      NaN  \n",
       "2            NaN             NaN      NaN  \n",
       "3            NaN             NaN      NaN  \n",
       "4            NaN             NaN      NaN  \n",
       "\n",
       "[5 rows x 25 columns]"
      ]
     },
     "execution_count": 4,
     "metadata": {},
     "output_type": "execute_result"
    }
   ],
   "source": [
    "df.head()"
   ]
  },
  {
   "cell_type": "code",
   "execution_count": 5,
   "metadata": {},
   "outputs": [
    {
     "data": {
      "text/plain": [
       "(131828, 25)"
      ]
     },
     "execution_count": 5,
     "metadata": {},
     "output_type": "execute_result"
    }
   ],
   "source": [
    "df.shape"
   ]
  },
  {
   "cell_type": "code",
   "execution_count": 6,
   "metadata": {},
   "outputs": [],
   "source": [
    "col_to_keep = [\"MatriculationYear\", \"km\", \"cv\", \"FuelType\", \"gearboxType\", \"Engine\", \"Brand\", \"price\"]\n",
    "df = df[col_to_keep].copy()"
   ]
  },
  {
   "cell_type": "code",
   "execution_count": 7,
   "metadata": {},
   "outputs": [
    {
     "data": {
      "text/html": [
       "<div>\n",
       "<style scoped>\n",
       "    .dataframe tbody tr th:only-of-type {\n",
       "        vertical-align: middle;\n",
       "    }\n",
       "\n",
       "    .dataframe tbody tr th {\n",
       "        vertical-align: top;\n",
       "    }\n",
       "\n",
       "    .dataframe thead th {\n",
       "        text-align: right;\n",
       "    }\n",
       "</style>\n",
       "<table border=\"1\" class=\"dataframe\">\n",
       "  <thead>\n",
       "    <tr style=\"text-align: right;\">\n",
       "      <th></th>\n",
       "      <th>MatriculationYear</th>\n",
       "      <th>km</th>\n",
       "      <th>cv</th>\n",
       "      <th>FuelType</th>\n",
       "      <th>gearboxType</th>\n",
       "      <th>Engine</th>\n",
       "      <th>Brand</th>\n",
       "      <th>price</th>\n",
       "    </tr>\n",
       "  </thead>\n",
       "  <tbody>\n",
       "    <tr>\n",
       "      <th>0</th>\n",
       "      <td>2013</td>\n",
       "      <td>82914.0</td>\n",
       "      <td>85.0</td>\n",
       "      <td>Diesel</td>\n",
       "      <td>Cambio automatico</td>\n",
       "      <td>1995.0</td>\n",
       "      <td>BMW</td>\n",
       "      <td>15500</td>\n",
       "    </tr>\n",
       "    <tr>\n",
       "      <th>1</th>\n",
       "      <td>2006</td>\n",
       "      <td>161038.0</td>\n",
       "      <td>75.0</td>\n",
       "      <td>Benzina</td>\n",
       "      <td>Cambio manuale</td>\n",
       "      <td>1595.0</td>\n",
       "      <td>VOLKSWAGEN</td>\n",
       "      <td>3900</td>\n",
       "    </tr>\n",
       "    <tr>\n",
       "      <th>2</th>\n",
       "      <td>2014</td>\n",
       "      <td>114830.0</td>\n",
       "      <td>80.0</td>\n",
       "      <td>Diesel</td>\n",
       "      <td>Cambio manuale</td>\n",
       "      <td>1461.0</td>\n",
       "      <td>MERCEDES BENZ</td>\n",
       "      <td>15900</td>\n",
       "    </tr>\n",
       "    <tr>\n",
       "      <th>3</th>\n",
       "      <td>2016</td>\n",
       "      <td>61700.0</td>\n",
       "      <td>183.0</td>\n",
       "      <td>Diesel</td>\n",
       "      <td>Cambio automatico</td>\n",
       "      <td>2993.0</td>\n",
       "      <td>BMW</td>\n",
       "      <td>54900</td>\n",
       "    </tr>\n",
       "    <tr>\n",
       "      <th>4</th>\n",
       "      <td>2014</td>\n",
       "      <td>25790.0</td>\n",
       "      <td>190.0</td>\n",
       "      <td>Diesel</td>\n",
       "      <td>Cambio automatico</td>\n",
       "      <td>2993.0</td>\n",
       "      <td>BMW</td>\n",
       "      <td>45900</td>\n",
       "    </tr>\n",
       "  </tbody>\n",
       "</table>\n",
       "</div>"
      ],
      "text/plain": [
       "   MatriculationYear        km     cv FuelType        gearboxType  Engine  \\\n",
       "0               2013   82914.0   85.0   Diesel  Cambio automatico  1995.0   \n",
       "1               2006  161038.0   75.0  Benzina     Cambio manuale  1595.0   \n",
       "2               2014  114830.0   80.0   Diesel     Cambio manuale  1461.0   \n",
       "3               2016   61700.0  183.0   Diesel  Cambio automatico  2993.0   \n",
       "4               2014   25790.0  190.0   Diesel  Cambio automatico  2993.0   \n",
       "\n",
       "           Brand  price  \n",
       "0            BMW  15500  \n",
       "1     VOLKSWAGEN   3900  \n",
       "2  MERCEDES BENZ  15900  \n",
       "3            BMW  54900  \n",
       "4            BMW  45900  "
      ]
     },
     "execution_count": 7,
     "metadata": {},
     "output_type": "execute_result"
    }
   ],
   "source": [
    "df.head()"
   ]
  },
  {
   "cell_type": "code",
   "execution_count": 8,
   "metadata": {},
   "outputs": [],
   "source": [
    "from datetime import datetime\n",
    "currentYear = datetime.now().year\n",
    "df[\"year\"]=df[\"MatriculationYear\"].apply(lambda x: currentYear-int(x))"
   ]
  },
  {
   "cell_type": "code",
   "execution_count": 9,
   "metadata": {},
   "outputs": [],
   "source": [
    "df.drop([\"MatriculationYear\"], axis=1, inplace=True)"
   ]
  },
  {
   "cell_type": "code",
   "execution_count": 10,
   "metadata": {},
   "outputs": [
    {
     "data": {
      "text/html": [
       "<div>\n",
       "<style scoped>\n",
       "    .dataframe tbody tr th:only-of-type {\n",
       "        vertical-align: middle;\n",
       "    }\n",
       "\n",
       "    .dataframe tbody tr th {\n",
       "        vertical-align: top;\n",
       "    }\n",
       "\n",
       "    .dataframe thead th {\n",
       "        text-align: right;\n",
       "    }\n",
       "</style>\n",
       "<table border=\"1\" class=\"dataframe\">\n",
       "  <thead>\n",
       "    <tr style=\"text-align: right;\">\n",
       "      <th></th>\n",
       "      <th>km</th>\n",
       "      <th>cv</th>\n",
       "      <th>FuelType</th>\n",
       "      <th>gearboxType</th>\n",
       "      <th>Engine</th>\n",
       "      <th>Brand</th>\n",
       "      <th>price</th>\n",
       "      <th>year</th>\n",
       "    </tr>\n",
       "  </thead>\n",
       "  <tbody>\n",
       "    <tr>\n",
       "      <th>0</th>\n",
       "      <td>82914.0</td>\n",
       "      <td>85.0</td>\n",
       "      <td>Diesel</td>\n",
       "      <td>Cambio automatico</td>\n",
       "      <td>1995.0</td>\n",
       "      <td>BMW</td>\n",
       "      <td>15500</td>\n",
       "      <td>10</td>\n",
       "    </tr>\n",
       "    <tr>\n",
       "      <th>1</th>\n",
       "      <td>161038.0</td>\n",
       "      <td>75.0</td>\n",
       "      <td>Benzina</td>\n",
       "      <td>Cambio manuale</td>\n",
       "      <td>1595.0</td>\n",
       "      <td>VOLKSWAGEN</td>\n",
       "      <td>3900</td>\n",
       "      <td>17</td>\n",
       "    </tr>\n",
       "    <tr>\n",
       "      <th>2</th>\n",
       "      <td>114830.0</td>\n",
       "      <td>80.0</td>\n",
       "      <td>Diesel</td>\n",
       "      <td>Cambio manuale</td>\n",
       "      <td>1461.0</td>\n",
       "      <td>MERCEDES BENZ</td>\n",
       "      <td>15900</td>\n",
       "      <td>9</td>\n",
       "    </tr>\n",
       "    <tr>\n",
       "      <th>3</th>\n",
       "      <td>61700.0</td>\n",
       "      <td>183.0</td>\n",
       "      <td>Diesel</td>\n",
       "      <td>Cambio automatico</td>\n",
       "      <td>2993.0</td>\n",
       "      <td>BMW</td>\n",
       "      <td>54900</td>\n",
       "      <td>7</td>\n",
       "    </tr>\n",
       "    <tr>\n",
       "      <th>4</th>\n",
       "      <td>25790.0</td>\n",
       "      <td>190.0</td>\n",
       "      <td>Diesel</td>\n",
       "      <td>Cambio automatico</td>\n",
       "      <td>2993.0</td>\n",
       "      <td>BMW</td>\n",
       "      <td>45900</td>\n",
       "      <td>9</td>\n",
       "    </tr>\n",
       "  </tbody>\n",
       "</table>\n",
       "</div>"
      ],
      "text/plain": [
       "         km     cv FuelType        gearboxType  Engine          Brand  price  \\\n",
       "0   82914.0   85.0   Diesel  Cambio automatico  1995.0            BMW  15500   \n",
       "1  161038.0   75.0  Benzina     Cambio manuale  1595.0     VOLKSWAGEN   3900   \n",
       "2  114830.0   80.0   Diesel     Cambio manuale  1461.0  MERCEDES BENZ  15900   \n",
       "3   61700.0  183.0   Diesel  Cambio automatico  2993.0            BMW  54900   \n",
       "4   25790.0  190.0   Diesel  Cambio automatico  2993.0            BMW  45900   \n",
       "\n",
       "   year  \n",
       "0    10  \n",
       "1    17  \n",
       "2     9  \n",
       "3     7  \n",
       "4     9  "
      ]
     },
     "execution_count": 10,
     "metadata": {},
     "output_type": "execute_result"
    }
   ],
   "source": [
    "df.head()"
   ]
  },
  {
   "cell_type": "code",
   "execution_count": 11,
   "metadata": {},
   "outputs": [
    {
     "data": {
      "text/plain": [
       "km             21354\n",
       "cv              8146\n",
       "FuelType         656\n",
       "gearboxType      761\n",
       "Engine          5912\n",
       "Brand            143\n",
       "price              0\n",
       "year               0\n",
       "dtype: int64"
      ]
     },
     "execution_count": 11,
     "metadata": {},
     "output_type": "execute_result"
    }
   ],
   "source": [
    "df.isna().sum()"
   ]
  },
  {
   "cell_type": "code",
   "execution_count": 12,
   "metadata": {},
   "outputs": [],
   "source": [
    "df.dropna(inplace = True)"
   ]
  },
  {
   "cell_type": "code",
   "execution_count": 13,
   "metadata": {},
   "outputs": [],
   "source": [
    "conteggio=df[\"Brand\"].value_counts().reset_index()\n",
    "lista=conteggio[conteggio[\"Brand\"]>500][\"index\"].values"
   ]
  },
  {
   "cell_type": "code",
   "execution_count": 14,
   "metadata": {},
   "outputs": [
    {
     "data": {
      "text/plain": [
       "array(['FIAT', 'BMW', 'MERCEDES BENZ', 'AUDI', 'VOLKSWAGEN', 'FORD',\n",
       "       'MINI', 'RENAULT', 'NISSAN', 'OPEL', 'PEUGEOT', 'CITROEN',\n",
       "       'ALFA ROMEO', 'TOYOTA', 'LANCIA', 'SMART', 'LAND ROVER', 'JEEP',\n",
       "       'VOLVO', 'KIA', 'PORSCHE', 'HYUNDAI', 'SKODA', 'SEAT', 'SUZUKI',\n",
       "       'JAGUAR', 'DACIA', 'CHEVROLET'], dtype=object)"
      ]
     },
     "execution_count": 14,
     "metadata": {},
     "output_type": "execute_result"
    }
   ],
   "source": [
    "lista"
   ]
  },
  {
   "cell_type": "code",
   "execution_count": 15,
   "metadata": {},
   "outputs": [],
   "source": [
    "df[\"Brand\"]=df[\"Brand\"].apply(lambda x:  x if x in lista else \"Other\")"
   ]
  },
  {
   "cell_type": "code",
   "execution_count": 16,
   "metadata": {},
   "outputs": [
    {
     "data": {
      "text/html": [
       "<div>\n",
       "<style scoped>\n",
       "    .dataframe tbody tr th:only-of-type {\n",
       "        vertical-align: middle;\n",
       "    }\n",
       "\n",
       "    .dataframe tbody tr th {\n",
       "        vertical-align: top;\n",
       "    }\n",
       "\n",
       "    .dataframe thead th {\n",
       "        text-align: right;\n",
       "    }\n",
       "</style>\n",
       "<table border=\"1\" class=\"dataframe\">\n",
       "  <thead>\n",
       "    <tr style=\"text-align: right;\">\n",
       "      <th></th>\n",
       "      <th>km</th>\n",
       "      <th>cv</th>\n",
       "      <th>FuelType</th>\n",
       "      <th>gearboxType</th>\n",
       "      <th>Engine</th>\n",
       "      <th>Brand</th>\n",
       "      <th>price</th>\n",
       "      <th>year</th>\n",
       "    </tr>\n",
       "  </thead>\n",
       "  <tbody>\n",
       "    <tr>\n",
       "      <th>0</th>\n",
       "      <td>82914.0</td>\n",
       "      <td>85.0</td>\n",
       "      <td>Diesel</td>\n",
       "      <td>Cambio automatico</td>\n",
       "      <td>1995.0</td>\n",
       "      <td>BMW</td>\n",
       "      <td>15500</td>\n",
       "      <td>10</td>\n",
       "    </tr>\n",
       "    <tr>\n",
       "      <th>1</th>\n",
       "      <td>161038.0</td>\n",
       "      <td>75.0</td>\n",
       "      <td>Benzina</td>\n",
       "      <td>Cambio manuale</td>\n",
       "      <td>1595.0</td>\n",
       "      <td>VOLKSWAGEN</td>\n",
       "      <td>3900</td>\n",
       "      <td>17</td>\n",
       "    </tr>\n",
       "    <tr>\n",
       "      <th>2</th>\n",
       "      <td>114830.0</td>\n",
       "      <td>80.0</td>\n",
       "      <td>Diesel</td>\n",
       "      <td>Cambio manuale</td>\n",
       "      <td>1461.0</td>\n",
       "      <td>MERCEDES BENZ</td>\n",
       "      <td>15900</td>\n",
       "      <td>9</td>\n",
       "    </tr>\n",
       "    <tr>\n",
       "      <th>3</th>\n",
       "      <td>61700.0</td>\n",
       "      <td>183.0</td>\n",
       "      <td>Diesel</td>\n",
       "      <td>Cambio automatico</td>\n",
       "      <td>2993.0</td>\n",
       "      <td>BMW</td>\n",
       "      <td>54900</td>\n",
       "      <td>7</td>\n",
       "    </tr>\n",
       "    <tr>\n",
       "      <th>4</th>\n",
       "      <td>25790.0</td>\n",
       "      <td>190.0</td>\n",
       "      <td>Diesel</td>\n",
       "      <td>Cambio automatico</td>\n",
       "      <td>2993.0</td>\n",
       "      <td>BMW</td>\n",
       "      <td>45900</td>\n",
       "      <td>9</td>\n",
       "    </tr>\n",
       "  </tbody>\n",
       "</table>\n",
       "</div>"
      ],
      "text/plain": [
       "         km     cv FuelType        gearboxType  Engine          Brand  price  \\\n",
       "0   82914.0   85.0   Diesel  Cambio automatico  1995.0            BMW  15500   \n",
       "1  161038.0   75.0  Benzina     Cambio manuale  1595.0     VOLKSWAGEN   3900   \n",
       "2  114830.0   80.0   Diesel     Cambio manuale  1461.0  MERCEDES BENZ  15900   \n",
       "3   61700.0  183.0   Diesel  Cambio automatico  2993.0            BMW  54900   \n",
       "4   25790.0  190.0   Diesel  Cambio automatico  2993.0            BMW  45900   \n",
       "\n",
       "   year  \n",
       "0    10  \n",
       "1    17  \n",
       "2     9  \n",
       "3     7  \n",
       "4     9  "
      ]
     },
     "execution_count": 16,
     "metadata": {},
     "output_type": "execute_result"
    }
   ],
   "source": [
    "df.head()"
   ]
  },
  {
   "cell_type": "code",
   "execution_count": 17,
   "metadata": {},
   "outputs": [],
   "source": [
    "cat_features = [\"FuelType\", \"gearboxType\", \"Brand\"]\n",
    "num_features = [\"km\", \"cv\", \"Engine\", \"year\"]\n",
    "\n",
    "y_vars = [\"price\"]\n",
    "x_vars = cat_features + num_features"
   ]
  },
  {
   "cell_type": "code",
   "execution_count": 18,
   "metadata": {},
   "outputs": [],
   "source": [
    "from sklearn import preprocessing\n",
    "label_encoder_dict = {}\n",
    "for col in cat_features:\n",
    "    le = preprocessing.LabelEncoder()\n",
    "    df[col] = le.fit_transform(df[col])\n",
    "    label_encoder_dict[col] = le\n",
    "    #df[col] = df[col].apply(lambda x: np.array([x]))\n"
   ]
  },
  {
   "cell_type": "code",
   "execution_count": 21,
   "metadata": {},
   "outputs": [],
   "source": [
    "#df[\"gearboxType\"].value_counts()"
   ]
  },
  {
   "cell_type": "code",
   "execution_count": 22,
   "metadata": {},
   "outputs": [],
   "source": [
    "x = df[x_vars].copy()\n",
    "y = df[y_vars].copy()"
   ]
  },
  {
   "cell_type": "code",
   "execution_count": 23,
   "metadata": {},
   "outputs": [],
   "source": [
    "#y"
   ]
  },
  {
   "cell_type": "code",
   "execution_count": 24,
   "metadata": {},
   "outputs": [
    {
     "name": "stdout",
     "output_type": "stream",
     "text": [
      "(79156, 7) (79156, 1) (19790, 7) (19790, 1)\n"
     ]
    }
   ],
   "source": [
    "from sklearn.model_selection import train_test_split\n",
    "x_train, x_test,  y_train, y_test = train_test_split(x, y, test_size=0.2, random_state=0)\n",
    "print(x_train.shape, y_train.shape, x_test.shape,y_test.shape )"
   ]
  },
  {
   "cell_type": "code",
   "execution_count": 25,
   "metadata": {},
   "outputs": [],
   "source": [
    "from sklearn.preprocessing import StandardScaler\n",
    "sd = StandardScaler()\n",
    "sd.fit(x_train[num_features])\n",
    "\n",
    "x_train[num_features] = sd.transform(x_train[num_features])\n",
    "x_test[num_features] = sd.transform(x_test[num_features])"
   ]
  },
  {
   "cell_type": "code",
   "execution_count": 26,
   "metadata": {},
   "outputs": [],
   "source": [
    "#train_x"
   ]
  },
  {
   "cell_type": "code",
   "execution_count": 27,
   "metadata": {},
   "outputs": [],
   "source": [
    "from tensorflow import keras\n",
    "from tensorflow.keras import layers"
   ]
  },
  {
   "cell_type": "code",
   "execution_count": 28,
   "metadata": {},
   "outputs": [
    {
     "data": {
      "text/plain": [
       "28"
      ]
     },
     "execution_count": 28,
     "metadata": {},
     "output_type": "execute_result"
    }
   ],
   "source": [
    "df[\"Brand\"].max()"
   ]
  },
  {
   "cell_type": "code",
   "execution_count": 29,
   "metadata": {},
   "outputs": [
    {
     "name": "stdout",
     "output_type": "stream",
     "text": [
      "FuelType 9\n",
      "gearboxType 3\n",
      "Brand 29\n"
     ]
    }
   ],
   "source": [
    "inputss = []\n",
    "embeddings = []\n",
    "for c in cat_features:\n",
    "    inputs = keras.Input(shape=(1,), name='input_sparse_'+c)\n",
    "    no_of_unique_cat = df[c].max()+1\n",
    "    embedding_size = 2\n",
    "    print(c, no_of_unique_cat )\n",
    "    embedding = layers.Embedding(no_of_unique_cat, embedding_size, input_length = 1)(inputs)\n",
    "    embedding = layers.Flatten()(embedding)\n",
    "    inputss.append(inputs)\n",
    "    embeddings.append(embedding)\n",
    "x = layers.Concatenate()(embeddings)"
   ]
  },
  {
   "cell_type": "code",
   "execution_count": 30,
   "metadata": {},
   "outputs": [],
   "source": [
    "num_inputs = keras.Input(shape=(len(num_features),))\n",
    "inputss.append(num_inputs)\n",
    "\n",
    "a_1 = layers.Dense(64, activation=\"relu\")(num_inputs)\n",
    "hidd_1 = layers.Concatenate()([x,a_1])\n",
    "a_2 = layers.Dense(128, activation=\"relu\")(hidd_1)\n",
    "a_3 = layers.Dense(256, activation=\"relu\")(a_2)\n",
    "outputs = layers.Dense(1, activation=\"relu\")(a_3)"
   ]
  },
  {
   "cell_type": "code",
   "execution_count": 31,
   "metadata": {},
   "outputs": [
    {
     "data": {
      "text/plain": [
       "[<KerasTensor: shape=(None, 1) dtype=float32 (created by layer 'input_sparse_FuelType')>,\n",
       " <KerasTensor: shape=(None, 1) dtype=float32 (created by layer 'input_sparse_gearboxType')>,\n",
       " <KerasTensor: shape=(None, 1) dtype=float32 (created by layer 'input_sparse_Brand')>,\n",
       " <KerasTensor: shape=(None, 4) dtype=float32 (created by layer 'input_1')>]"
      ]
     },
     "execution_count": 31,
     "metadata": {},
     "output_type": "execute_result"
    }
   ],
   "source": [
    "inputss "
   ]
  },
  {
   "cell_type": "code",
   "execution_count": 32,
   "metadata": {},
   "outputs": [],
   "source": [
    "model = keras.Model(inputs=inputss, outputs=outputs, name=\"car_model\")"
   ]
  },
  {
   "cell_type": "code",
   "execution_count": 33,
   "metadata": {},
   "outputs": [
    {
     "name": "stdout",
     "output_type": "stream",
     "text": [
      "Model: \"car_model\"\n",
      "__________________________________________________________________________________________________\n",
      " Layer (type)                   Output Shape         Param #     Connected to                     \n",
      "==================================================================================================\n",
      " input_sparse_FuelType (InputLa  [(None, 1)]         0           []                               \n",
      " yer)                                                                                             \n",
      "                                                                                                  \n",
      " input_sparse_gearboxType (Inpu  [(None, 1)]         0           []                               \n",
      " tLayer)                                                                                          \n",
      "                                                                                                  \n",
      " input_sparse_Brand (InputLayer  [(None, 1)]         0           []                               \n",
      " )                                                                                                \n",
      "                                                                                                  \n",
      " embedding (Embedding)          (None, 1, 2)         18          ['input_sparse_FuelType[0][0]']  \n",
      "                                                                                                  \n",
      " embedding_1 (Embedding)        (None, 1, 2)         6           ['input_sparse_gearboxType[0][0]'\n",
      "                                                                 ]                                \n",
      "                                                                                                  \n",
      " embedding_2 (Embedding)        (None, 1, 2)         58          ['input_sparse_Brand[0][0]']     \n",
      "                                                                                                  \n",
      " flatten (Flatten)              (None, 2)            0           ['embedding[0][0]']              \n",
      "                                                                                                  \n",
      " flatten_1 (Flatten)            (None, 2)            0           ['embedding_1[0][0]']            \n",
      "                                                                                                  \n",
      " flatten_2 (Flatten)            (None, 2)            0           ['embedding_2[0][0]']            \n",
      "                                                                                                  \n",
      " input_1 (InputLayer)           [(None, 4)]          0           []                               \n",
      "                                                                                                  \n",
      " concatenate (Concatenate)      (None, 6)            0           ['flatten[0][0]',                \n",
      "                                                                  'flatten_1[0][0]',              \n",
      "                                                                  'flatten_2[0][0]']              \n",
      "                                                                                                  \n",
      " dense (Dense)                  (None, 64)           320         ['input_1[0][0]']                \n",
      "                                                                                                  \n",
      " concatenate_1 (Concatenate)    (None, 70)           0           ['concatenate[0][0]',            \n",
      "                                                                  'dense[0][0]']                  \n",
      "                                                                                                  \n",
      " dense_1 (Dense)                (None, 128)          9088        ['concatenate_1[0][0]']          \n",
      "                                                                                                  \n",
      " dense_2 (Dense)                (None, 256)          33024       ['dense_1[0][0]']                \n",
      "                                                                                                  \n",
      " dense_3 (Dense)                (None, 1)            257         ['dense_2[0][0]']                \n",
      "                                                                                                  \n",
      "==================================================================================================\n",
      "Total params: 42,771\n",
      "Trainable params: 42,771\n",
      "Non-trainable params: 0\n",
      "__________________________________________________________________________________________________\n"
     ]
    }
   ],
   "source": [
    "model.summary()"
   ]
  },
  {
   "cell_type": "code",
   "execution_count": 34,
   "metadata": {},
   "outputs": [],
   "source": [
    "#keras.utils.plot_model(model, show_shapes=True)"
   ]
  },
  {
   "cell_type": "code",
   "execution_count": 35,
   "metadata": {},
   "outputs": [],
   "source": [
    "callback = keras.callbacks.EarlyStopping(monitor='val_loss', patience=5, verbose=1)\n",
    "\n",
    "model.compile(\n",
    "    loss=keras.losses.mean_squared_error,\n",
    "    optimizer=keras.optimizers.Adam(),\n",
    "    metrics=[\"mse\"]\n",
    ")"
   ]
  },
  {
   "cell_type": "code",
   "execution_count": 36,
   "metadata": {},
   "outputs": [],
   "source": [
    "#keras.optimizers.Adam"
   ]
  },
  {
   "cell_type": "code",
   "execution_count": 37,
   "metadata": {},
   "outputs": [],
   "source": [
    "#y_train"
   ]
  },
  {
   "cell_type": "code",
   "execution_count": 38,
   "metadata": {},
   "outputs": [
    {
     "name": "stdout",
     "output_type": "stream",
     "text": [
      "Epoch 1/250\n",
      "990/990 [==============================] - 2s 2ms/step - loss: 297860736.0000 - mse: 297860736.0000 - val_loss: 255401680.0000 - val_mse: 255401680.0000\n",
      "Epoch 2/250\n",
      "990/990 [==============================] - 2s 2ms/step - loss: 191658736.0000 - mse: 191658736.0000 - val_loss: 223821232.0000 - val_mse: 223821232.0000\n",
      "Epoch 3/250\n",
      "990/990 [==============================] - 2s 2ms/step - loss: 183926880.0000 - mse: 183926880.0000 - val_loss: 216838816.0000 - val_mse: 216838816.0000\n",
      "Epoch 4/250\n",
      "990/990 [==============================] - 2s 2ms/step - loss: 176389360.0000 - mse: 176389360.0000 - val_loss: 210121968.0000 - val_mse: 210121968.0000\n",
      "Epoch 5/250\n",
      "990/990 [==============================] - 2s 2ms/step - loss: 178012208.0000 - mse: 178012208.0000 - val_loss: 205000512.0000 - val_mse: 205000512.0000\n",
      "Epoch 6/250\n",
      "990/990 [==============================] - 2s 2ms/step - loss: 170333584.0000 - mse: 170333584.0000 - val_loss: 209406784.0000 - val_mse: 209406784.0000\n",
      "Epoch 7/250\n",
      "990/990 [==============================] - 2s 2ms/step - loss: 169953520.0000 - mse: 169953520.0000 - val_loss: 202449168.0000 - val_mse: 202449168.0000\n",
      "Epoch 8/250\n",
      "990/990 [==============================] - 2s 2ms/step - loss: 170448496.0000 - mse: 170448496.0000 - val_loss: 199914320.0000 - val_mse: 199914320.0000\n",
      "Epoch 9/250\n",
      "990/990 [==============================] - 2s 2ms/step - loss: 167838944.0000 - mse: 167838944.0000 - val_loss: 194555904.0000 - val_mse: 194555904.0000\n",
      "Epoch 10/250\n",
      "990/990 [==============================] - 2s 2ms/step - loss: 164488080.0000 - mse: 164488080.0000 - val_loss: 200301776.0000 - val_mse: 200301776.0000\n",
      "Epoch 11/250\n",
      "990/990 [==============================] - 2s 2ms/step - loss: 161289344.0000 - mse: 161289344.0000 - val_loss: 193892736.0000 - val_mse: 193892736.0000\n",
      "Epoch 12/250\n",
      "990/990 [==============================] - 2s 2ms/step - loss: 162846512.0000 - mse: 162846512.0000 - val_loss: 189446192.0000 - val_mse: 189446192.0000\n",
      "Epoch 13/250\n",
      "990/990 [==============================] - 2s 2ms/step - loss: 159243808.0000 - mse: 159243808.0000 - val_loss: 182136368.0000 - val_mse: 182136368.0000\n",
      "Epoch 14/250\n",
      "990/990 [==============================] - 2s 2ms/step - loss: 153483456.0000 - mse: 153483456.0000 - val_loss: 176540432.0000 - val_mse: 176540432.0000\n",
      "Epoch 15/250\n",
      "990/990 [==============================] - 2s 2ms/step - loss: 150891904.0000 - mse: 150891904.0000 - val_loss: 170318368.0000 - val_mse: 170318368.0000\n",
      "Epoch 16/250\n",
      "990/990 [==============================] - 2s 2ms/step - loss: 145326336.0000 - mse: 145326336.0000 - val_loss: 166678928.0000 - val_mse: 166678928.0000\n",
      "Epoch 17/250\n",
      "990/990 [==============================] - 2s 2ms/step - loss: 139175232.0000 - mse: 139175232.0000 - val_loss: 158875136.0000 - val_mse: 158875136.0000\n",
      "Epoch 18/250\n",
      "990/990 [==============================] - 2s 2ms/step - loss: 133275296.0000 - mse: 133275296.0000 - val_loss: 150915520.0000 - val_mse: 150915520.0000\n",
      "Epoch 19/250\n",
      "990/990 [==============================] - 2s 2ms/step - loss: 127457376.0000 - mse: 127457376.0000 - val_loss: 143580384.0000 - val_mse: 143580384.0000\n",
      "Epoch 20/250\n",
      "990/990 [==============================] - 2s 2ms/step - loss: 121235752.0000 - mse: 121235752.0000 - val_loss: 135721296.0000 - val_mse: 135721296.0000\n",
      "Epoch 21/250\n",
      "990/990 [==============================] - 2s 2ms/step - loss: 115555832.0000 - mse: 115555832.0000 - val_loss: 127992488.0000 - val_mse: 127992488.0000\n",
      "Epoch 22/250\n",
      "990/990 [==============================] - 2s 2ms/step - loss: 109199888.0000 - mse: 109199888.0000 - val_loss: 118369952.0000 - val_mse: 118369952.0000\n",
      "Epoch 23/250\n",
      "990/990 [==============================] - 2s 2ms/step - loss: 104802720.0000 - mse: 104802720.0000 - val_loss: 113574664.0000 - val_mse: 113574664.0000\n",
      "Epoch 24/250\n",
      "990/990 [==============================] - 2s 2ms/step - loss: 101621064.0000 - mse: 101621064.0000 - val_loss: 109594696.0000 - val_mse: 109594696.0000\n",
      "Epoch 25/250\n",
      "990/990 [==============================] - 2s 2ms/step - loss: 98416768.0000 - mse: 98416768.0000 - val_loss: 107417440.0000 - val_mse: 107417440.0000\n",
      "Epoch 26/250\n",
      "990/990 [==============================] - 2s 2ms/step - loss: 96359472.0000 - mse: 96359472.0000 - val_loss: 104823280.0000 - val_mse: 104823280.0000\n",
      "Epoch 27/250\n",
      "990/990 [==============================] - 2s 2ms/step - loss: 94335944.0000 - mse: 94335944.0000 - val_loss: 102758696.0000 - val_mse: 102758696.0000\n",
      "Epoch 28/250\n",
      "990/990 [==============================] - 2s 2ms/step - loss: 93160928.0000 - mse: 93160928.0000 - val_loss: 101341160.0000 - val_mse: 101341160.0000\n",
      "Epoch 29/250\n",
      "990/990 [==============================] - 2s 2ms/step - loss: 92363120.0000 - mse: 92363120.0000 - val_loss: 99182024.0000 - val_mse: 99182024.0000\n",
      "Epoch 30/250\n",
      "990/990 [==============================] - 2s 2ms/step - loss: 90813144.0000 - mse: 90813144.0000 - val_loss: 99379072.0000 - val_mse: 99379072.0000\n",
      "Epoch 31/250\n",
      "990/990 [==============================] - 2s 2ms/step - loss: 90046088.0000 - mse: 90046088.0000 - val_loss: 100719568.0000 - val_mse: 100719568.0000\n",
      "Epoch 32/250\n",
      "990/990 [==============================] - 2s 2ms/step - loss: 88746424.0000 - mse: 88746424.0000 - val_loss: 96069112.0000 - val_mse: 96069112.0000\n",
      "Epoch 33/250\n",
      "990/990 [==============================] - 2s 2ms/step - loss: 87827936.0000 - mse: 87827936.0000 - val_loss: 93068576.0000 - val_mse: 93068576.0000\n",
      "Epoch 34/250\n",
      "990/990 [==============================] - 2s 2ms/step - loss: 87031104.0000 - mse: 87031104.0000 - val_loss: 99331056.0000 - val_mse: 99331056.0000\n",
      "Epoch 35/250\n",
      "990/990 [==============================] - 2s 2ms/step - loss: 85973920.0000 - mse: 85973920.0000 - val_loss: 90451632.0000 - val_mse: 90451632.0000\n",
      "Epoch 36/250\n",
      "990/990 [==============================] - 2s 2ms/step - loss: 85069992.0000 - mse: 85069992.0000 - val_loss: 92035768.0000 - val_mse: 92035768.0000\n",
      "Epoch 37/250\n",
      "990/990 [==============================] - 2s 2ms/step - loss: 84394928.0000 - mse: 84394928.0000 - val_loss: 89185760.0000 - val_mse: 89185760.0000\n",
      "Epoch 38/250\n",
      "990/990 [==============================] - 2s 2ms/step - loss: 83880208.0000 - mse: 83880208.0000 - val_loss: 87693288.0000 - val_mse: 87693288.0000\n",
      "Epoch 39/250\n",
      "990/990 [==============================] - 2s 2ms/step - loss: 83057744.0000 - mse: 83057744.0000 - val_loss: 86604912.0000 - val_mse: 86604912.0000\n",
      "Epoch 40/250\n",
      "990/990 [==============================] - 2s 2ms/step - loss: 82326920.0000 - mse: 82326920.0000 - val_loss: 86787088.0000 - val_mse: 86787088.0000\n",
      "Epoch 41/250\n",
      "990/990 [==============================] - 2s 2ms/step - loss: 81654664.0000 - mse: 81654664.0000 - val_loss: 85615640.0000 - val_mse: 85615640.0000\n",
      "Epoch 42/250\n",
      "990/990 [==============================] - 2s 2ms/step - loss: 80834696.0000 - mse: 80834696.0000 - val_loss: 85459888.0000 - val_mse: 85459888.0000\n",
      "Epoch 43/250\n",
      "990/990 [==============================] - 2s 2ms/step - loss: 80674312.0000 - mse: 80674312.0000 - val_loss: 88523944.0000 - val_mse: 88523944.0000\n",
      "Epoch 44/250\n",
      "990/990 [==============================] - 2s 2ms/step - loss: 80175064.0000 - mse: 80175064.0000 - val_loss: 83277640.0000 - val_mse: 83277640.0000\n",
      "Epoch 45/250\n",
      "990/990 [==============================] - 2s 2ms/step - loss: 79451520.0000 - mse: 79451520.0000 - val_loss: 83901864.0000 - val_mse: 83901864.0000\n",
      "Epoch 46/250\n",
      "990/990 [==============================] - 2s 2ms/step - loss: 78824048.0000 - mse: 78824048.0000 - val_loss: 82632352.0000 - val_mse: 82632352.0000\n",
      "Epoch 47/250\n",
      "990/990 [==============================] - 2s 2ms/step - loss: 78526440.0000 - mse: 78526440.0000 - val_loss: 80398712.0000 - val_mse: 80398712.0000\n",
      "Epoch 48/250\n",
      "990/990 [==============================] - 2s 2ms/step - loss: 77785360.0000 - mse: 77785360.0000 - val_loss: 81163808.0000 - val_mse: 81163808.0000\n",
      "Epoch 49/250\n",
      "990/990 [==============================] - 2s 2ms/step - loss: 77507816.0000 - mse: 77507816.0000 - val_loss: 79726256.0000 - val_mse: 79726256.0000\n",
      "Epoch 50/250\n",
      "990/990 [==============================] - 2s 2ms/step - loss: 76884768.0000 - mse: 76884768.0000 - val_loss: 80838512.0000 - val_mse: 80838512.0000\n"
     ]
    },
    {
     "name": "stdout",
     "output_type": "stream",
     "text": [
      "Epoch 51/250\n",
      "990/990 [==============================] - 2s 2ms/step - loss: 76739008.0000 - mse: 76739008.0000 - val_loss: 79621128.0000 - val_mse: 79621128.0000\n",
      "Epoch 52/250\n",
      "990/990 [==============================] - 2s 2ms/step - loss: 76339544.0000 - mse: 76339544.0000 - val_loss: 78491008.0000 - val_mse: 78491008.0000\n",
      "Epoch 53/250\n",
      "990/990 [==============================] - 2s 2ms/step - loss: 76016088.0000 - mse: 76016088.0000 - val_loss: 76962808.0000 - val_mse: 76962808.0000\n",
      "Epoch 54/250\n",
      "990/990 [==============================] - 2s 2ms/step - loss: 75498480.0000 - mse: 75498480.0000 - val_loss: 77555024.0000 - val_mse: 77555024.0000\n",
      "Epoch 55/250\n",
      "990/990 [==============================] - 2s 2ms/step - loss: 75686448.0000 - mse: 75686448.0000 - val_loss: 79327360.0000 - val_mse: 79327360.0000\n",
      "Epoch 56/250\n",
      "990/990 [==============================] - 2s 2ms/step - loss: 75092712.0000 - mse: 75092712.0000 - val_loss: 76116184.0000 - val_mse: 76116184.0000\n",
      "Epoch 57/250\n",
      "990/990 [==============================] - 2s 2ms/step - loss: 74544936.0000 - mse: 74544936.0000 - val_loss: 76422600.0000 - val_mse: 76422600.0000\n",
      "Epoch 58/250\n",
      "990/990 [==============================] - 2s 2ms/step - loss: 74474976.0000 - mse: 74474976.0000 - val_loss: 75154056.0000 - val_mse: 75154056.0000\n",
      "Epoch 59/250\n",
      "990/990 [==============================] - 2s 2ms/step - loss: 74131544.0000 - mse: 74131544.0000 - val_loss: 74612152.0000 - val_mse: 74612152.0000\n",
      "Epoch 60/250\n",
      "990/990 [==============================] - 2s 2ms/step - loss: 73899408.0000 - mse: 73899408.0000 - val_loss: 73960488.0000 - val_mse: 73960488.0000\n",
      "Epoch 61/250\n",
      "990/990 [==============================] - 2s 2ms/step - loss: 73660752.0000 - mse: 73660752.0000 - val_loss: 76981856.0000 - val_mse: 76981856.0000\n",
      "Epoch 62/250\n",
      "990/990 [==============================] - 2s 2ms/step - loss: 73538968.0000 - mse: 73538968.0000 - val_loss: 73461976.0000 - val_mse: 73461976.0000\n",
      "Epoch 63/250\n",
      "990/990 [==============================] - 2s 2ms/step - loss: 72616840.0000 - mse: 72616840.0000 - val_loss: 72875880.0000 - val_mse: 72875880.0000\n",
      "Epoch 64/250\n",
      "990/990 [==============================] - 2s 2ms/step - loss: 72965136.0000 - mse: 72965136.0000 - val_loss: 76433056.0000 - val_mse: 76433056.0000\n",
      "Epoch 65/250\n",
      "990/990 [==============================] - 2s 2ms/step - loss: 72926392.0000 - mse: 72926392.0000 - val_loss: 73843224.0000 - val_mse: 73843224.0000\n",
      "Epoch 66/250\n",
      "990/990 [==============================] - 2s 2ms/step - loss: 72507648.0000 - mse: 72507648.0000 - val_loss: 74100696.0000 - val_mse: 74100696.0000\n",
      "Epoch 67/250\n",
      "990/990 [==============================] - 2s 2ms/step - loss: 73081896.0000 - mse: 73081896.0000 - val_loss: 73131232.0000 - val_mse: 73131232.0000\n",
      "Epoch 68/250\n",
      "990/990 [==============================] - 2s 2ms/step - loss: 72259592.0000 - mse: 72259592.0000 - val_loss: 71962752.0000 - val_mse: 71962752.0000\n",
      "Epoch 69/250\n",
      "990/990 [==============================] - 2s 2ms/step - loss: 71917648.0000 - mse: 71917648.0000 - val_loss: 72423536.0000 - val_mse: 72423536.0000\n",
      "Epoch 70/250\n",
      "990/990 [==============================] - 2s 2ms/step - loss: 71604592.0000 - mse: 71604592.0000 - val_loss: 74568680.0000 - val_mse: 74568680.0000\n",
      "Epoch 71/250\n",
      "990/990 [==============================] - 2s 2ms/step - loss: 71392904.0000 - mse: 71392904.0000 - val_loss: 75243624.0000 - val_mse: 75243624.0000\n",
      "Epoch 72/250\n",
      "990/990 [==============================] - 2s 2ms/step - loss: 71299944.0000 - mse: 71299944.0000 - val_loss: 72938848.0000 - val_mse: 72938848.0000\n",
      "Epoch 73/250\n",
      "990/990 [==============================] - 2s 2ms/step - loss: 71791560.0000 - mse: 71791560.0000 - val_loss: 71765432.0000 - val_mse: 71765432.0000\n",
      "Epoch 74/250\n",
      "990/990 [==============================] - 2s 2ms/step - loss: 71100576.0000 - mse: 71100576.0000 - val_loss: 70064152.0000 - val_mse: 70064152.0000\n",
      "Epoch 75/250\n",
      "990/990 [==============================] - 2s 2ms/step - loss: 70247312.0000 - mse: 70247312.0000 - val_loss: 70246456.0000 - val_mse: 70246456.0000\n",
      "Epoch 76/250\n",
      "990/990 [==============================] - 2s 2ms/step - loss: 70485176.0000 - mse: 70485176.0000 - val_loss: 70414648.0000 - val_mse: 70414648.0000\n",
      "Epoch 77/250\n",
      "990/990 [==============================] - 2s 2ms/step - loss: 70743344.0000 - mse: 70743344.0000 - val_loss: 71479016.0000 - val_mse: 71479016.0000\n",
      "Epoch 78/250\n",
      "990/990 [==============================] - 2s 2ms/step - loss: 70915584.0000 - mse: 70915584.0000 - val_loss: 71556040.0000 - val_mse: 71556040.0000\n",
      "Epoch 79/250\n",
      "990/990 [==============================] - 2s 2ms/step - loss: 70277800.0000 - mse: 70277800.0000 - val_loss: 69825472.0000 - val_mse: 69825472.0000\n",
      "Epoch 80/250\n",
      "990/990 [==============================] - 2s 2ms/step - loss: 70345168.0000 - mse: 70345168.0000 - val_loss: 70128064.0000 - val_mse: 70128064.0000\n",
      "Epoch 81/250\n",
      "990/990 [==============================] - 2s 2ms/step - loss: 69779160.0000 - mse: 69779160.0000 - val_loss: 71403712.0000 - val_mse: 71403712.0000\n",
      "Epoch 82/250\n",
      "990/990 [==============================] - 2s 2ms/step - loss: 69450544.0000 - mse: 69450544.0000 - val_loss: 70184824.0000 - val_mse: 70184824.0000\n",
      "Epoch 83/250\n",
      "990/990 [==============================] - 2s 2ms/step - loss: 69749296.0000 - mse: 69749296.0000 - val_loss: 69319896.0000 - val_mse: 69319896.0000\n",
      "Epoch 84/250\n",
      "990/990 [==============================] - 2s 2ms/step - loss: 69552816.0000 - mse: 69552816.0000 - val_loss: 70079120.0000 - val_mse: 70079120.0000\n",
      "Epoch 85/250\n",
      "990/990 [==============================] - 2s 2ms/step - loss: 68608208.0000 - mse: 68608208.0000 - val_loss: 68050432.0000 - val_mse: 68050432.0000\n",
      "Epoch 86/250\n",
      "990/990 [==============================] - 2s 2ms/step - loss: 69613776.0000 - mse: 69613776.0000 - val_loss: 69831832.0000 - val_mse: 69831832.0000\n",
      "Epoch 87/250\n",
      "990/990 [==============================] - 2s 2ms/step - loss: 68747224.0000 - mse: 68747224.0000 - val_loss: 69003784.0000 - val_mse: 69003784.0000\n",
      "Epoch 88/250\n",
      "990/990 [==============================] - 2s 2ms/step - loss: 69433096.0000 - mse: 69433096.0000 - val_loss: 67806496.0000 - val_mse: 67806496.0000\n",
      "Epoch 89/250\n",
      "990/990 [==============================] - 2s 2ms/step - loss: 68699680.0000 - mse: 68699680.0000 - val_loss: 66843696.0000 - val_mse: 66843696.0000\n",
      "Epoch 90/250\n",
      "990/990 [==============================] - 2s 2ms/step - loss: 68439008.0000 - mse: 68439008.0000 - val_loss: 67515040.0000 - val_mse: 67515040.0000\n",
      "Epoch 91/250\n",
      "990/990 [==============================] - 2s 2ms/step - loss: 67868024.0000 - mse: 67868024.0000 - val_loss: 67808872.0000 - val_mse: 67808872.0000\n",
      "Epoch 92/250\n",
      "990/990 [==============================] - 2s 2ms/step - loss: 67782344.0000 - mse: 67782344.0000 - val_loss: 67815376.0000 - val_mse: 67815376.0000\n",
      "Epoch 93/250\n",
      "990/990 [==============================] - 2s 2ms/step - loss: 68064560.0000 - mse: 68064560.0000 - val_loss: 66334040.0000 - val_mse: 66334040.0000\n",
      "Epoch 94/250\n",
      "990/990 [==============================] - 2s 2ms/step - loss: 67631680.0000 - mse: 67631680.0000 - val_loss: 67188752.0000 - val_mse: 67188752.0000\n",
      "Epoch 95/250\n",
      "990/990 [==============================] - 2s 2ms/step - loss: 67904872.0000 - mse: 67904872.0000 - val_loss: 70808792.0000 - val_mse: 70808792.0000\n",
      "Epoch 96/250\n",
      "990/990 [==============================] - 2s 2ms/step - loss: 67576400.0000 - mse: 67576400.0000 - val_loss: 66819408.0000 - val_mse: 66819408.0000\n",
      "Epoch 97/250\n",
      "990/990 [==============================] - 2s 2ms/step - loss: 67014332.0000 - mse: 67014332.0000 - val_loss: 65909956.0000 - val_mse: 65909956.0000\n",
      "Epoch 98/250\n",
      "990/990 [==============================] - 2s 2ms/step - loss: 67030828.0000 - mse: 67030828.0000 - val_loss: 69986832.0000 - val_mse: 69986832.0000\n",
      "Epoch 99/250\n",
      "990/990 [==============================] - 2s 2ms/step - loss: 67243688.0000 - mse: 67243688.0000 - val_loss: 65911780.0000 - val_mse: 65911780.0000\n",
      "Epoch 100/250\n",
      "990/990 [==============================] - 2s 2ms/step - loss: 67137576.0000 - mse: 67137576.0000 - val_loss: 65870812.0000 - val_mse: 65870812.0000\n",
      "Epoch 101/250\n"
     ]
    },
    {
     "name": "stdout",
     "output_type": "stream",
     "text": [
      "990/990 [==============================] - 2s 2ms/step - loss: 66967932.0000 - mse: 66967932.0000 - val_loss: 66113480.0000 - val_mse: 66113480.0000\n",
      "Epoch 102/250\n",
      "990/990 [==============================] - 2s 2ms/step - loss: 66643708.0000 - mse: 66643708.0000 - val_loss: 70275904.0000 - val_mse: 70275904.0000\n",
      "Epoch 103/250\n",
      "990/990 [==============================] - 2s 2ms/step - loss: 66402892.0000 - mse: 66402892.0000 - val_loss: 65925336.0000 - val_mse: 65925336.0000\n",
      "Epoch 104/250\n",
      "990/990 [==============================] - 2s 2ms/step - loss: 66470432.0000 - mse: 66470432.0000 - val_loss: 67025692.0000 - val_mse: 67025692.0000\n",
      "Epoch 105/250\n",
      "990/990 [==============================] - 2s 2ms/step - loss: 65878468.0000 - mse: 65878468.0000 - val_loss: 65704304.0000 - val_mse: 65704304.0000\n",
      "Epoch 106/250\n",
      "990/990 [==============================] - 2s 2ms/step - loss: 65928308.0000 - mse: 65928308.0000 - val_loss: 66948232.0000 - val_mse: 66948232.0000\n",
      "Epoch 107/250\n",
      "990/990 [==============================] - 2s 2ms/step - loss: 65856488.0000 - mse: 65856488.0000 - val_loss: 65223512.0000 - val_mse: 65223512.0000\n",
      "Epoch 108/250\n",
      "990/990 [==============================] - 2s 2ms/step - loss: 66139232.0000 - mse: 66139232.0000 - val_loss: 66023092.0000 - val_mse: 66023092.0000\n",
      "Epoch 109/250\n",
      "990/990 [==============================] - 2s 2ms/step - loss: 65926736.0000 - mse: 65926736.0000 - val_loss: 64616640.0000 - val_mse: 64616640.0000\n",
      "Epoch 110/250\n",
      "990/990 [==============================] - 2s 2ms/step - loss: 65029460.0000 - mse: 65029460.0000 - val_loss: 65614968.0000 - val_mse: 65614968.0000\n",
      "Epoch 111/250\n",
      "990/990 [==============================] - 2s 2ms/step - loss: 65169824.0000 - mse: 65169824.0000 - val_loss: 66177632.0000 - val_mse: 66177632.0000\n",
      "Epoch 112/250\n",
      "990/990 [==============================] - 2s 2ms/step - loss: 65087372.0000 - mse: 65087372.0000 - val_loss: 64130652.0000 - val_mse: 64130652.0000\n",
      "Epoch 113/250\n",
      "990/990 [==============================] - 2s 2ms/step - loss: 64206064.0000 - mse: 64206064.0000 - val_loss: 64314768.0000 - val_mse: 64314768.0000\n",
      "Epoch 114/250\n",
      "990/990 [==============================] - 2s 2ms/step - loss: 65166756.0000 - mse: 65166756.0000 - val_loss: 65985068.0000 - val_mse: 65985068.0000\n",
      "Epoch 115/250\n",
      "990/990 [==============================] - 2s 2ms/step - loss: 64468956.0000 - mse: 64468956.0000 - val_loss: 63912764.0000 - val_mse: 63912764.0000\n",
      "Epoch 116/250\n",
      "990/990 [==============================] - 2s 2ms/step - loss: 64633848.0000 - mse: 64633848.0000 - val_loss: 63984960.0000 - val_mse: 63984960.0000\n",
      "Epoch 117/250\n",
      "990/990 [==============================] - 2s 2ms/step - loss: 64512976.0000 - mse: 64512976.0000 - val_loss: 64971952.0000 - val_mse: 64971952.0000\n",
      "Epoch 118/250\n",
      "990/990 [==============================] - 2s 2ms/step - loss: 64682044.0000 - mse: 64682044.0000 - val_loss: 66195012.0000 - val_mse: 66195012.0000\n",
      "Epoch 119/250\n",
      "990/990 [==============================] - 2s 2ms/step - loss: 63740588.0000 - mse: 63740588.0000 - val_loss: 66276140.0000 - val_mse: 66276140.0000\n",
      "Epoch 120/250\n",
      "990/990 [==============================] - 2s 2ms/step - loss: 64305128.0000 - mse: 64305128.0000 - val_loss: 64619288.0000 - val_mse: 64619288.0000\n",
      "Epoch 120: early stopping\n"
     ]
    }
   ],
   "source": [
    "history = model.fit([x_train[\"FuelType\"].values, x_train[\"gearboxType\"].values, \n",
    "                     x_train[\"Brand\"].values, x_train[num_features].values], \n",
    "                    y_train.values, \n",
    "                    batch_size=64, \n",
    "                    epochs=250, \n",
    "                    validation_split = 0.2, callbacks=[callback])"
   ]
  },
  {
   "cell_type": "code",
   "execution_count": 39,
   "metadata": {},
   "outputs": [
    {
     "data": {
      "image/png": "[encoded data removed]",
      "text/plain": [
       "<Figure size 720x360 with 1 Axes>"
      ]
     },
     "metadata": {
      "needs_background": "light"
     },
     "output_type": "display_data"
    }
   ],
   "source": [
    "import matplotlib.pyplot as plt\n",
    "fig , ax = plt.subplots(1,1, figsize = (10,5))\n",
    "\n",
    "ax.plot(history.history['mse'], label = \"train\")\n",
    "ax.plot(history.history['val_mse'], label =\"valid\")\n",
    "ax.set_xlabel(\"epoch\")\n",
    "ax.set_ylabel(\"metric\")\n",
    "ax.legend()\n",
    "plt.show()"
   ]
  },
  {
   "cell_type": "code",
   "execution_count": 40,
   "metadata": {},
   "outputs": [
    {
     "name": "stdout",
     "output_type": "stream",
     "text": [
      "619/619 [==============================] - 1s 728us/step\n"
     ]
    }
   ],
   "source": [
    "y_predict = model.predict([x_test[\"FuelType\"].values, x_test[\"gearboxType\"].values, \n",
    "                     x_test[\"Brand\"].values, x_test[num_features].values])#, y_test, verbose=2)"
   ]
  },
  {
   "cell_type": "code",
   "execution_count": 41,
   "metadata": {},
   "outputs": [
    {
     "data": {
      "image/png": "[encoded data removed]",
      "text/plain": [
       "<Figure size 720x360 with 1 Axes>"
      ]
     },
     "metadata": {
      "needs_background": "light"
     },
     "output_type": "display_data"
    }
   ],
   "source": [
    "fig , ax = plt.subplots(1,1, figsize = (10,5))\n",
    "\n",
    "ax.scatter(y_test.values, y_predict.reshape(-1))\n",
    "ax.plot([0,250000], [0,250000], \"--\", c=\"red\")\n",
    "ax.set_xlabel(\"y_test\")\n",
    "ax.set_ylabel(\"y_predict\")\n",
    "plt.show()"
   ]
  },
  {
   "cell_type": "code",
   "execution_count": null,
   "metadata": {},
   "outputs": [],
   "source": [
    "#y_predict.reshape(-1)"
   ]
  },
  {
   "cell_type": "code",
   "execution_count": 42,
   "metadata": {},
   "outputs": [
    {
     "data": {
      "text/plain": [
       "array(['ALFA ROMEO', 'AUDI', 'BMW', 'CHEVROLET', 'CITROEN', 'DACIA',\n",
       "       'FIAT', 'FORD', 'HYUNDAI', 'JAGUAR', 'JEEP', 'KIA', 'LANCIA',\n",
       "       'LAND ROVER', 'MERCEDES BENZ', 'MINI', 'NISSAN', 'OPEL', 'Other',\n",
       "       'PEUGEOT', 'PORSCHE', 'RENAULT', 'SEAT', 'SKODA', 'SMART',\n",
       "       'SUZUKI', 'TOYOTA', 'VOLKSWAGEN', 'VOLVO'], dtype=object)"
      ]
     },
     "execution_count": 42,
     "metadata": {},
     "output_type": "execute_result"
    }
   ],
   "source": [
    "label_encoder_dict[\"Brand\"].inverse_transform([i for i in np.arange(0,29,1)])"
   ]
  },
  {
   "cell_type": "code",
   "execution_count": 43,
   "metadata": {},
   "outputs": [],
   "source": [
    "from tensorflow.keras import backend as K"
   ]
  },
  {
   "cell_type": "code",
   "execution_count": null,
   "metadata": {},
   "outputs": [],
   "source": []
  },
  {
   "cell_type": "code",
   "execution_count": 44,
   "metadata": {},
   "outputs": [],
   "source": [
    "outputs = [layer.output for layer in model.layers]          # all layer outputs\n",
    "#functors = [K.function([inp], [out]) for out in outputs]    # evaluation functions"
   ]
  },
  {
   "cell_type": "code",
   "execution_count": 45,
   "metadata": {},
   "outputs": [],
   "source": [
    "functors = K.function([inputss[2]], [outputs[8]])"
   ]
  },
  {
   "cell_type": "code",
   "execution_count": 47,
   "metadata": {},
   "outputs": [],
   "source": [
    "embds = [functors(i)[0] for i in range(0,29,1)]"
   ]
  },
  {
   "cell_type": "code",
   "execution_count": 48,
   "metadata": {},
   "outputs": [],
   "source": [
    "embds_reshape = [vec.reshape(1,-1)[0] for vec in embds]"
   ]
  },
  {
   "cell_type": "code",
   "execution_count": 49,
   "metadata": {},
   "outputs": [],
   "source": [
    "res = np.vstack(embds_reshape)"
   ]
  },
  {
   "cell_type": "code",
   "execution_count": 50,
   "metadata": {},
   "outputs": [
    {
     "data": {
      "image/png": "[encoded data removed]",
      "text/plain": [
       "<Figure size 720x360 with 1 Axes>"
      ]
     },
     "metadata": {
      "needs_background": "light"
     },
     "output_type": "display_data"
    }
   ],
   "source": [
    "fig , ax = plt.subplots(1,1, figsize=(10,5))\n",
    "ax.scatter(res[:,0], res[:,1])\n",
    "ax.set_xlabel(\"Embedding dim 1\", fontsize=14)\n",
    "ax.set_ylabel(\"Embedding dim 2\", fontsize=14)\n",
    "\n",
    "text_brand = list(le.inverse_transform([i for i in np.arange(0,29,1)]))\n",
    "\n",
    "for i, text in enumerate(text_brand):\n",
    "    ax.annotate(text, (res[i,0], res[i,1]))\n",
    "\n",
    "plt.show()\n",
    "\n"
   ]
  },
  {
   "cell_type": "code",
   "execution_count": null,
   "metadata": {},
   "outputs": [],
   "source": [
    "#len(text_brand)"
   ]
  },
  {
   "cell_type": "code",
   "execution_count": null,
   "metadata": {},
   "outputs": [],
   "source": []
  }
 ],
 "metadata": {
  "kernelspec": {
   "display_name": "Python 3 (ipykernel)",
   "language": "python",
   "name": "python3"
  },
  "language_info": {
   "codemirror_mode": {
    "name": "ipython",
    "version": 3
   },
   "file_extension": ".py",
   "mimetype": "text/x-python",
   "name": "python",
   "nbconvert_exporter": "python",
   "pygments_lexer": "ipython3",
   "version": "3.8.10"
  }
 },
 "nbformat": 4,
 "nbformat_minor": 2
}
