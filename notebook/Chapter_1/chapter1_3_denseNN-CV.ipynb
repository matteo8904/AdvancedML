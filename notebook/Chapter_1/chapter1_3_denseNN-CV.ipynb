{
 "cells": [
  {
   "cell_type": "code",
   "execution_count": null,
   "metadata": {},
   "outputs": [],
   "source": [
    "# !pip install tensorflow"
   ]
  },
  {
   "cell_type": "code",
   "execution_count": 1,
   "metadata": {},
   "outputs": [],
   "source": [
    "import pandas as pd\n",
    "import numpy as np\n",
    "import os\n",
    "\n",
    "DATA_FOLDER = \"data\""
   ]
  },
  {
   "cell_type": "code",
   "execution_count": 2,
   "metadata": {},
   "outputs": [],
   "source": [
    "filename = os.path.join(DATA_FOLDER, \"auto_price.csv\")\n",
    "df=pd.read_csv(filename) \n",
    "df.drop_duplicates(inplace = True)\n",
    "df = df[df[\"price\"]< 600000].copy()"
   ]
  },
  {
   "cell_type": "code",
   "execution_count": 3,
   "metadata": {},
   "outputs": [],
   "source": [
    "df = df.sample(10000)"
   ]
  },
  {
   "cell_type": "code",
   "execution_count": 4,
   "metadata": {},
   "outputs": [
    {
     "data": {
      "text/plain": [
       "Index(['price', 'MatriculationMonth', 'MatriculationYear', 'km', 'cv',\n",
       "       'FuelType', 'gearboxType', 'Consume', 'city', 'province', 'Brand',\n",
       "       'Model', 'Preparation', 'Engine', 'Seats', 'ConsumeFuel',\n",
       "       'ConsumeFuelNotUrban', 'Emissions', 'Color', 'Metallizzato', 'Airbag',\n",
       "       'NumberDoors', 'EmissionClass', 'AirConditioning', 'Interior'],\n",
       "      dtype='object')"
      ]
     },
     "execution_count": 4,
     "metadata": {},
     "output_type": "execute_result"
    }
   ],
   "source": [
    "df.columns"
   ]
  },
  {
   "cell_type": "code",
   "execution_count": 5,
   "metadata": {},
   "outputs": [
    {
     "data": {
      "text/html": [
       "<div>\n",
       "<style scoped>\n",
       "    .dataframe tbody tr th:only-of-type {\n",
       "        vertical-align: middle;\n",
       "    }\n",
       "\n",
       "    .dataframe tbody tr th {\n",
       "        vertical-align: top;\n",
       "    }\n",
       "\n",
       "    .dataframe thead th {\n",
       "        text-align: right;\n",
       "    }\n",
       "</style>\n",
       "<table border=\"1\" class=\"dataframe\">\n",
       "  <thead>\n",
       "    <tr style=\"text-align: right;\">\n",
       "      <th></th>\n",
       "      <th>price</th>\n",
       "      <th>MatriculationMonth</th>\n",
       "      <th>MatriculationYear</th>\n",
       "      <th>km</th>\n",
       "      <th>cv</th>\n",
       "      <th>FuelType</th>\n",
       "      <th>gearboxType</th>\n",
       "      <th>Consume</th>\n",
       "      <th>city</th>\n",
       "      <th>province</th>\n",
       "      <th>...</th>\n",
       "      <th>ConsumeFuel</th>\n",
       "      <th>ConsumeFuelNotUrban</th>\n",
       "      <th>Emissions</th>\n",
       "      <th>Color</th>\n",
       "      <th>Metallizzato</th>\n",
       "      <th>Airbag</th>\n",
       "      <th>NumberDoors</th>\n",
       "      <th>EmissionClass</th>\n",
       "      <th>AirConditioning</th>\n",
       "      <th>Interior</th>\n",
       "    </tr>\n",
       "  </thead>\n",
       "  <tbody>\n",
       "    <tr>\n",
       "      <th>48504</th>\n",
       "      <td>26800</td>\n",
       "      <td>Luglio</td>\n",
       "      <td>2009</td>\n",
       "      <td>77496.0</td>\n",
       "      <td>210.0</td>\n",
       "      <td>Diesel</td>\n",
       "      <td>Cambio automatico</td>\n",
       "      <td>7.2</td>\n",
       "      <td>Torino</td>\n",
       "      <td>Torino</td>\n",
       "      <td>...</td>\n",
       "      <td>7.2</td>\n",
       "      <td>5.8</td>\n",
       "      <td>190.0</td>\n",
       "      <td>Grigio</td>\n",
       "      <td>Sì</td>\n",
       "      <td>Airbag anteriori e laterali e di altro tipo</td>\n",
       "      <td>2 o 3 porte</td>\n",
       "      <td>Euro 4</td>\n",
       "      <td>Climatizzatore automatico</td>\n",
       "      <td>Nero</td>\n",
       "    </tr>\n",
       "    <tr>\n",
       "      <th>9518</th>\n",
       "      <td>9600</td>\n",
       "      <td>Aprile</td>\n",
       "      <td>2017</td>\n",
       "      <td>29560.0</td>\n",
       "      <td>54.0</td>\n",
       "      <td>Benzina</td>\n",
       "      <td>Cambio manuale</td>\n",
       "      <td>NaN</td>\n",
       "      <td>Roma</td>\n",
       "      <td>Roma</td>\n",
       "      <td>...</td>\n",
       "      <td>NaN</td>\n",
       "      <td>NaN</td>\n",
       "      <td>NaN</td>\n",
       "      <td>Grigio</td>\n",
       "      <td>NaN</td>\n",
       "      <td>NaN</td>\n",
       "      <td>4 o 5 porte</td>\n",
       "      <td>NaN</td>\n",
       "      <td>Senza climatizzatore</td>\n",
       "      <td>NaN</td>\n",
       "    </tr>\n",
       "    <tr>\n",
       "      <th>128237</th>\n",
       "      <td>14500</td>\n",
       "      <td>Febbraio</td>\n",
       "      <td>2016</td>\n",
       "      <td>22700.0</td>\n",
       "      <td>NaN</td>\n",
       "      <td>Diesel</td>\n",
       "      <td>Cambio manuale</td>\n",
       "      <td>NaN</td>\n",
       "      <td>Matera</td>\n",
       "      <td>Matera</td>\n",
       "      <td>...</td>\n",
       "      <td>NaN</td>\n",
       "      <td>NaN</td>\n",
       "      <td>NaN</td>\n",
       "      <td>Argento</td>\n",
       "      <td>NaN</td>\n",
       "      <td>Airbag conducente</td>\n",
       "      <td>NaN</td>\n",
       "      <td>NaN</td>\n",
       "      <td>Senza climatizzatore</td>\n",
       "      <td>NaN</td>\n",
       "    </tr>\n",
       "    <tr>\n",
       "      <th>34451</th>\n",
       "      <td>13500</td>\n",
       "      <td>Marzo</td>\n",
       "      <td>2017</td>\n",
       "      <td>17300.0</td>\n",
       "      <td>70.0</td>\n",
       "      <td>Diesel</td>\n",
       "      <td>Cambio manuale</td>\n",
       "      <td>3.4</td>\n",
       "      <td>Bastia Umbra</td>\n",
       "      <td>Perugia</td>\n",
       "      <td>...</td>\n",
       "      <td>3.4</td>\n",
       "      <td>3.0</td>\n",
       "      <td>89.0</td>\n",
       "      <td>Nero</td>\n",
       "      <td>NaN</td>\n",
       "      <td>Airbag anteriori e laterali</td>\n",
       "      <td>2 o 3 porte</td>\n",
       "      <td>Euro 6</td>\n",
       "      <td>Climatizzatore automatico</td>\n",
       "      <td>Grigio</td>\n",
       "    </tr>\n",
       "    <tr>\n",
       "      <th>138208</th>\n",
       "      <td>32900</td>\n",
       "      <td>No Mese</td>\n",
       "      <td>2018</td>\n",
       "      <td>NaN</td>\n",
       "      <td>133.0</td>\n",
       "      <td>Diesel</td>\n",
       "      <td>Cambio manuale</td>\n",
       "      <td>6.9</td>\n",
       "      <td>Denno</td>\n",
       "      <td>Trento</td>\n",
       "      <td>...</td>\n",
       "      <td>6.9</td>\n",
       "      <td>6.1</td>\n",
       "      <td>180.0</td>\n",
       "      <td>Nero</td>\n",
       "      <td>Sì</td>\n",
       "      <td>Airbag anteriori e laterali e di altro tipo</td>\n",
       "      <td>4 o 5 porte</td>\n",
       "      <td>Euro 6</td>\n",
       "      <td>Climatizzatore automatico</td>\n",
       "      <td>Nero</td>\n",
       "    </tr>\n",
       "  </tbody>\n",
       "</table>\n",
       "<p>5 rows × 25 columns</p>\n",
       "</div>"
      ],
      "text/plain": [
       "        price MatriculationMonth  MatriculationYear       km     cv FuelType  \\\n",
       "48504   26800             Luglio               2009  77496.0  210.0   Diesel   \n",
       "9518     9600             Aprile               2017  29560.0   54.0  Benzina   \n",
       "128237  14500           Febbraio               2016  22700.0    NaN   Diesel   \n",
       "34451   13500              Marzo               2017  17300.0   70.0   Diesel   \n",
       "138208  32900            No Mese               2018      NaN  133.0   Diesel   \n",
       "\n",
       "              gearboxType Consume          city province  ... ConsumeFuel  \\\n",
       "48504   Cambio automatico     7.2        Torino   Torino  ...         7.2   \n",
       "9518       Cambio manuale     NaN          Roma     Roma  ...         NaN   \n",
       "128237     Cambio manuale     NaN        Matera   Matera  ...         NaN   \n",
       "34451      Cambio manuale     3.4  Bastia Umbra  Perugia  ...         3.4   \n",
       "138208     Cambio manuale     6.9         Denno   Trento  ...         6.9   \n",
       "\n",
       "       ConsumeFuelNotUrban Emissions    Color  Metallizzato  \\\n",
       "48504                  5.8     190.0   Grigio            Sì   \n",
       "9518                   NaN       NaN   Grigio           NaN   \n",
       "128237                 NaN       NaN  Argento           NaN   \n",
       "34451                  3.0      89.0     Nero           NaN   \n",
       "138208                 6.1     180.0     Nero            Sì   \n",
       "\n",
       "                                             Airbag  NumberDoors  \\\n",
       "48504   Airbag anteriori e laterali e di altro tipo  2 o 3 porte   \n",
       "9518                                            NaN  4 o 5 porte   \n",
       "128237                            Airbag conducente          NaN   \n",
       "34451                   Airbag anteriori e laterali  2 o 3 porte   \n",
       "138208  Airbag anteriori e laterali e di altro tipo  4 o 5 porte   \n",
       "\n",
       "        EmissionClass            AirConditioning Interior  \n",
       "48504          Euro 4  Climatizzatore automatico     Nero  \n",
       "9518              NaN       Senza climatizzatore      NaN  \n",
       "128237            NaN       Senza climatizzatore      NaN  \n",
       "34451          Euro 6  Climatizzatore automatico   Grigio  \n",
       "138208         Euro 6  Climatizzatore automatico     Nero  \n",
       "\n",
       "[5 rows x 25 columns]"
      ]
     },
     "execution_count": 5,
     "metadata": {},
     "output_type": "execute_result"
    }
   ],
   "source": [
    "df.head()"
   ]
  },
  {
   "cell_type": "code",
   "execution_count": 6,
   "metadata": {},
   "outputs": [
    {
     "data": {
      "text/plain": [
       "(10000, 25)"
      ]
     },
     "execution_count": 6,
     "metadata": {},
     "output_type": "execute_result"
    }
   ],
   "source": [
    "df.shape"
   ]
  },
  {
   "cell_type": "code",
   "execution_count": 7,
   "metadata": {},
   "outputs": [],
   "source": [
    "col_to_keep = [\"MatriculationYear\", \"km\", \"cv\", \"FuelType\", \"gearboxType\", \"Engine\", \"Brand\", \"price\"]\n",
    "df = df[col_to_keep].copy()"
   ]
  },
  {
   "cell_type": "code",
   "execution_count": 8,
   "metadata": {},
   "outputs": [
    {
     "data": {
      "text/html": [
       "<div>\n",
       "<style scoped>\n",
       "    .dataframe tbody tr th:only-of-type {\n",
       "        vertical-align: middle;\n",
       "    }\n",
       "\n",
       "    .dataframe tbody tr th {\n",
       "        vertical-align: top;\n",
       "    }\n",
       "\n",
       "    .dataframe thead th {\n",
       "        text-align: right;\n",
       "    }\n",
       "</style>\n",
       "<table border=\"1\" class=\"dataframe\">\n",
       "  <thead>\n",
       "    <tr style=\"text-align: right;\">\n",
       "      <th></th>\n",
       "      <th>MatriculationYear</th>\n",
       "      <th>km</th>\n",
       "      <th>cv</th>\n",
       "      <th>FuelType</th>\n",
       "      <th>gearboxType</th>\n",
       "      <th>Engine</th>\n",
       "      <th>Brand</th>\n",
       "      <th>price</th>\n",
       "    </tr>\n",
       "  </thead>\n",
       "  <tbody>\n",
       "    <tr>\n",
       "      <th>48504</th>\n",
       "      <td>2009</td>\n",
       "      <td>77496.0</td>\n",
       "      <td>210.0</td>\n",
       "      <td>Diesel</td>\n",
       "      <td>Cambio automatico</td>\n",
       "      <td>2993.0</td>\n",
       "      <td>BMW</td>\n",
       "      <td>26800</td>\n",
       "    </tr>\n",
       "    <tr>\n",
       "      <th>9518</th>\n",
       "      <td>2017</td>\n",
       "      <td>29560.0</td>\n",
       "      <td>54.0</td>\n",
       "      <td>Benzina</td>\n",
       "      <td>Cambio manuale</td>\n",
       "      <td>1149.0</td>\n",
       "      <td>RENAULT</td>\n",
       "      <td>9600</td>\n",
       "    </tr>\n",
       "    <tr>\n",
       "      <th>128237</th>\n",
       "      <td>2016</td>\n",
       "      <td>22700.0</td>\n",
       "      <td>NaN</td>\n",
       "      <td>Diesel</td>\n",
       "      <td>Cambio manuale</td>\n",
       "      <td>1499.0</td>\n",
       "      <td>FORD</td>\n",
       "      <td>14500</td>\n",
       "    </tr>\n",
       "    <tr>\n",
       "      <th>34451</th>\n",
       "      <td>2017</td>\n",
       "      <td>17300.0</td>\n",
       "      <td>70.0</td>\n",
       "      <td>Diesel</td>\n",
       "      <td>Cambio manuale</td>\n",
       "      <td>1248.0</td>\n",
       "      <td>FIAT</td>\n",
       "      <td>13500</td>\n",
       "    </tr>\n",
       "    <tr>\n",
       "      <th>138208</th>\n",
       "      <td>2018</td>\n",
       "      <td>NaN</td>\n",
       "      <td>133.0</td>\n",
       "      <td>Diesel</td>\n",
       "      <td>Cambio manuale</td>\n",
       "      <td>2442.0</td>\n",
       "      <td>MITSUBISHI</td>\n",
       "      <td>32900</td>\n",
       "    </tr>\n",
       "  </tbody>\n",
       "</table>\n",
       "</div>"
      ],
      "text/plain": [
       "        MatriculationYear       km     cv FuelType        gearboxType  Engine  \\\n",
       "48504                2009  77496.0  210.0   Diesel  Cambio automatico  2993.0   \n",
       "9518                 2017  29560.0   54.0  Benzina     Cambio manuale  1149.0   \n",
       "128237               2016  22700.0    NaN   Diesel     Cambio manuale  1499.0   \n",
       "34451                2017  17300.0   70.0   Diesel     Cambio manuale  1248.0   \n",
       "138208               2018      NaN  133.0   Diesel     Cambio manuale  2442.0   \n",
       "\n",
       "             Brand  price  \n",
       "48504          BMW  26800  \n",
       "9518       RENAULT   9600  \n",
       "128237        FORD  14500  \n",
       "34451         FIAT  13500  \n",
       "138208  MITSUBISHI  32900  "
      ]
     },
     "execution_count": 8,
     "metadata": {},
     "output_type": "execute_result"
    }
   ],
   "source": [
    "df.head()"
   ]
  },
  {
   "cell_type": "code",
   "execution_count": 9,
   "metadata": {},
   "outputs": [],
   "source": [
    "from datetime import datetime\n",
    "currentYear = datetime.now().year\n",
    "df[\"year\"]=df[\"MatriculationYear\"].apply(lambda x: currentYear-int(x))"
   ]
  },
  {
   "cell_type": "code",
   "execution_count": 10,
   "metadata": {},
   "outputs": [],
   "source": [
    "df.drop([\"MatriculationYear\"], axis=1, inplace=True)"
   ]
  },
  {
   "cell_type": "code",
   "execution_count": 11,
   "metadata": {},
   "outputs": [
    {
     "data": {
      "text/html": [
       "<div>\n",
       "<style scoped>\n",
       "    .dataframe tbody tr th:only-of-type {\n",
       "        vertical-align: middle;\n",
       "    }\n",
       "\n",
       "    .dataframe tbody tr th {\n",
       "        vertical-align: top;\n",
       "    }\n",
       "\n",
       "    .dataframe thead th {\n",
       "        text-align: right;\n",
       "    }\n",
       "</style>\n",
       "<table border=\"1\" class=\"dataframe\">\n",
       "  <thead>\n",
       "    <tr style=\"text-align: right;\">\n",
       "      <th></th>\n",
       "      <th>km</th>\n",
       "      <th>cv</th>\n",
       "      <th>FuelType</th>\n",
       "      <th>gearboxType</th>\n",
       "      <th>Engine</th>\n",
       "      <th>Brand</th>\n",
       "      <th>price</th>\n",
       "      <th>year</th>\n",
       "    </tr>\n",
       "  </thead>\n",
       "  <tbody>\n",
       "    <tr>\n",
       "      <th>48504</th>\n",
       "      <td>77496.0</td>\n",
       "      <td>210.0</td>\n",
       "      <td>Diesel</td>\n",
       "      <td>Cambio automatico</td>\n",
       "      <td>2993.0</td>\n",
       "      <td>BMW</td>\n",
       "      <td>26800</td>\n",
       "      <td>15</td>\n",
       "    </tr>\n",
       "    <tr>\n",
       "      <th>9518</th>\n",
       "      <td>29560.0</td>\n",
       "      <td>54.0</td>\n",
       "      <td>Benzina</td>\n",
       "      <td>Cambio manuale</td>\n",
       "      <td>1149.0</td>\n",
       "      <td>RENAULT</td>\n",
       "      <td>9600</td>\n",
       "      <td>7</td>\n",
       "    </tr>\n",
       "    <tr>\n",
       "      <th>128237</th>\n",
       "      <td>22700.0</td>\n",
       "      <td>NaN</td>\n",
       "      <td>Diesel</td>\n",
       "      <td>Cambio manuale</td>\n",
       "      <td>1499.0</td>\n",
       "      <td>FORD</td>\n",
       "      <td>14500</td>\n",
       "      <td>8</td>\n",
       "    </tr>\n",
       "    <tr>\n",
       "      <th>34451</th>\n",
       "      <td>17300.0</td>\n",
       "      <td>70.0</td>\n",
       "      <td>Diesel</td>\n",
       "      <td>Cambio manuale</td>\n",
       "      <td>1248.0</td>\n",
       "      <td>FIAT</td>\n",
       "      <td>13500</td>\n",
       "      <td>7</td>\n",
       "    </tr>\n",
       "    <tr>\n",
       "      <th>138208</th>\n",
       "      <td>NaN</td>\n",
       "      <td>133.0</td>\n",
       "      <td>Diesel</td>\n",
       "      <td>Cambio manuale</td>\n",
       "      <td>2442.0</td>\n",
       "      <td>MITSUBISHI</td>\n",
       "      <td>32900</td>\n",
       "      <td>6</td>\n",
       "    </tr>\n",
       "  </tbody>\n",
       "</table>\n",
       "</div>"
      ],
      "text/plain": [
       "             km     cv FuelType        gearboxType  Engine       Brand  price  \\\n",
       "48504   77496.0  210.0   Diesel  Cambio automatico  2993.0         BMW  26800   \n",
       "9518    29560.0   54.0  Benzina     Cambio manuale  1149.0     RENAULT   9600   \n",
       "128237  22700.0    NaN   Diesel     Cambio manuale  1499.0        FORD  14500   \n",
       "34451   17300.0   70.0   Diesel     Cambio manuale  1248.0        FIAT  13500   \n",
       "138208      NaN  133.0   Diesel     Cambio manuale  2442.0  MITSUBISHI  32900   \n",
       "\n",
       "        year  \n",
       "48504     15  \n",
       "9518       7  \n",
       "128237     8  \n",
       "34451      7  \n",
       "138208     6  "
      ]
     },
     "execution_count": 11,
     "metadata": {},
     "output_type": "execute_result"
    }
   ],
   "source": [
    "df.head()"
   ]
  },
  {
   "cell_type": "code",
   "execution_count": 12,
   "metadata": {},
   "outputs": [
    {
     "data": {
      "text/plain": [
       "km             1645\n",
       "cv              640\n",
       "FuelType         40\n",
       "gearboxType      54\n",
       "Engine          458\n",
       "Brand             9\n",
       "price             0\n",
       "year              0\n",
       "dtype: int64"
      ]
     },
     "execution_count": 12,
     "metadata": {},
     "output_type": "execute_result"
    }
   ],
   "source": [
    "df.isna().sum()"
   ]
  },
  {
   "cell_type": "code",
   "execution_count": 13,
   "metadata": {},
   "outputs": [],
   "source": [
    "df.dropna(inplace = True)"
   ]
  },
  {
   "cell_type": "code",
   "execution_count": 14,
   "metadata": {},
   "outputs": [],
   "source": [
    "conteggio=df[\"Brand\"].value_counts().reset_index()\n",
    "lista=conteggio[conteggio[\"Brand\"]>500][\"index\"].values"
   ]
  },
  {
   "cell_type": "code",
   "execution_count": 15,
   "metadata": {},
   "outputs": [
    {
     "data": {
      "text/plain": [
       "array(['FIAT', 'BMW', 'MERCEDES BENZ', 'AUDI', 'VOLKSWAGEN'], dtype=object)"
      ]
     },
     "execution_count": 15,
     "metadata": {},
     "output_type": "execute_result"
    }
   ],
   "source": [
    "lista"
   ]
  },
  {
   "cell_type": "code",
   "execution_count": 16,
   "metadata": {},
   "outputs": [],
   "source": [
    "df[\"Brand\"]=df[\"Brand\"].apply(lambda x:  x if x in lista else \"Other\")"
   ]
  },
  {
   "cell_type": "code",
   "execution_count": 17,
   "metadata": {},
   "outputs": [
    {
     "data": {
      "text/html": [
       "<div>\n",
       "<style scoped>\n",
       "    .dataframe tbody tr th:only-of-type {\n",
       "        vertical-align: middle;\n",
       "    }\n",
       "\n",
       "    .dataframe tbody tr th {\n",
       "        vertical-align: top;\n",
       "    }\n",
       "\n",
       "    .dataframe thead th {\n",
       "        text-align: right;\n",
       "    }\n",
       "</style>\n",
       "<table border=\"1\" class=\"dataframe\">\n",
       "  <thead>\n",
       "    <tr style=\"text-align: right;\">\n",
       "      <th></th>\n",
       "      <th>km</th>\n",
       "      <th>cv</th>\n",
       "      <th>FuelType</th>\n",
       "      <th>gearboxType</th>\n",
       "      <th>Engine</th>\n",
       "      <th>Brand</th>\n",
       "      <th>price</th>\n",
       "      <th>year</th>\n",
       "    </tr>\n",
       "  </thead>\n",
       "  <tbody>\n",
       "    <tr>\n",
       "      <th>48504</th>\n",
       "      <td>77496.0</td>\n",
       "      <td>210.0</td>\n",
       "      <td>Diesel</td>\n",
       "      <td>Cambio automatico</td>\n",
       "      <td>2993.0</td>\n",
       "      <td>BMW</td>\n",
       "      <td>26800</td>\n",
       "      <td>15</td>\n",
       "    </tr>\n",
       "    <tr>\n",
       "      <th>9518</th>\n",
       "      <td>29560.0</td>\n",
       "      <td>54.0</td>\n",
       "      <td>Benzina</td>\n",
       "      <td>Cambio manuale</td>\n",
       "      <td>1149.0</td>\n",
       "      <td>Other</td>\n",
       "      <td>9600</td>\n",
       "      <td>7</td>\n",
       "    </tr>\n",
       "    <tr>\n",
       "      <th>34451</th>\n",
       "      <td>17300.0</td>\n",
       "      <td>70.0</td>\n",
       "      <td>Diesel</td>\n",
       "      <td>Cambio manuale</td>\n",
       "      <td>1248.0</td>\n",
       "      <td>FIAT</td>\n",
       "      <td>13500</td>\n",
       "      <td>7</td>\n",
       "    </tr>\n",
       "    <tr>\n",
       "      <th>26133</th>\n",
       "      <td>1.0</td>\n",
       "      <td>70.0</td>\n",
       "      <td>Diesel</td>\n",
       "      <td>Cambio manuale</td>\n",
       "      <td>1248.0</td>\n",
       "      <td>Other</td>\n",
       "      <td>13900</td>\n",
       "      <td>7</td>\n",
       "    </tr>\n",
       "    <tr>\n",
       "      <th>100193</th>\n",
       "      <td>24900.0</td>\n",
       "      <td>88.0</td>\n",
       "      <td>Diesel</td>\n",
       "      <td>Cambio automatico</td>\n",
       "      <td>1598.0</td>\n",
       "      <td>Other</td>\n",
       "      <td>24500</td>\n",
       "      <td>7</td>\n",
       "    </tr>\n",
       "  </tbody>\n",
       "</table>\n",
       "</div>"
      ],
      "text/plain": [
       "             km     cv FuelType        gearboxType  Engine  Brand  price  year\n",
       "48504   77496.0  210.0   Diesel  Cambio automatico  2993.0    BMW  26800    15\n",
       "9518    29560.0   54.0  Benzina     Cambio manuale  1149.0  Other   9600     7\n",
       "34451   17300.0   70.0   Diesel     Cambio manuale  1248.0   FIAT  13500     7\n",
       "26133       1.0   70.0   Diesel     Cambio manuale  1248.0  Other  13900     7\n",
       "100193  24900.0   88.0   Diesel  Cambio automatico  1598.0  Other  24500     7"
      ]
     },
     "execution_count": 17,
     "metadata": {},
     "output_type": "execute_result"
    }
   ],
   "source": [
    "df.head()"
   ]
  },
  {
   "cell_type": "code",
   "execution_count": 18,
   "metadata": {},
   "outputs": [],
   "source": [
    "cat_features = [\"FuelType\", \"gearboxType\", \"Brand\"]\n",
    "num_features = [\"km\", \"cv\", \"Engine\", \"year\"]\n",
    "\n",
    "y_vars = [\"price\"]"
   ]
  },
  {
   "cell_type": "code",
   "execution_count": 19,
   "metadata": {},
   "outputs": [],
   "source": [
    "#cat_features + num_features"
   ]
  },
  {
   "cell_type": "code",
   "execution_count": 20,
   "metadata": {},
   "outputs": [],
   "source": [
    "dummy_df = pd.get_dummies(df[cat_features])\n",
    "df_with_dummies = pd.concat([df[num_features],dummy_df], axis = 1)\n",
    "cat_features = list(dummy_df.columns)\n",
    "\n",
    "x_vars = cat_features + num_features"
   ]
  },
  {
   "cell_type": "code",
   "execution_count": 21,
   "metadata": {},
   "outputs": [],
   "source": [
    "x = df_with_dummies.copy()\n",
    "y = df[y_vars].copy()"
   ]
  },
  {
   "cell_type": "code",
   "execution_count": 22,
   "metadata": {},
   "outputs": [],
   "source": [
    "#y"
   ]
  },
  {
   "cell_type": "code",
   "execution_count": 23,
   "metadata": {},
   "outputs": [
    {
     "name": "stdout",
     "output_type": "stream",
     "text": [
      "(5966, 21) (5966, 1) (1492, 21) (1492, 1)\n"
     ]
    }
   ],
   "source": [
    "from sklearn.model_selection import train_test_split\n",
    "x_train, x_test,  y_train, y_test = train_test_split(x, y, test_size=0.2, random_state=0)\n",
    "print(x_train.shape, y_train.shape, x_test.shape,y_test.shape )"
   ]
  },
  {
   "cell_type": "code",
   "execution_count": 24,
   "metadata": {},
   "outputs": [],
   "source": [
    "from sklearn.preprocessing import StandardScaler\n",
    "sd = StandardScaler()\n",
    "sd.fit(x_train[num_features])\n",
    "\n",
    "x_train[num_features] = sd.transform(x_train[num_features])\n",
    "x_test[num_features] = sd.transform(x_test[num_features])"
   ]
  },
  {
   "cell_type": "code",
   "execution_count": 25,
   "metadata": {},
   "outputs": [],
   "source": [
    "#train_x"
   ]
  },
  {
   "cell_type": "code",
   "execution_count": 26,
   "metadata": {},
   "outputs": [],
   "source": [
    "from tensorflow import keras\n",
    "from tensorflow.keras import layers\n",
    "from keras import initializers"
   ]
  },
  {
   "cell_type": "code",
   "execution_count": 27,
   "metadata": {},
   "outputs": [],
   "source": [
    "def build_NN(num_layer, neurons_per_layer):\n",
    "    inputs = keras.Input(shape=(x_train.shape[1],))\n",
    "    support = inputs\n",
    "    for i in range(num_layer):\n",
    "        a_1 = layers.Dense(neurons_per_layer[i], activation=\"relu\", \n",
    "                           kernel_initializer=initializers.RandomNormal(stddev=0.01), bias_initializer=initializers.Zeros())(support)\n",
    "        support = a_1\n",
    "    outputs = layers.Dense(1, activation=\"relu\", \n",
    "                           kernel_initializer=initializers.RandomNormal(stddev=0.01), bias_initializer=initializers.Zeros())(support)\n",
    "    model = keras.Model(inputs=inputs, outputs=outputs, name=\"car_model\")\n",
    "    model.summary()\n",
    "    \n",
    "    model.compile(\n",
    "        loss=keras.losses.mean_squared_error,\n",
    "        optimizer=keras.optimizers.Adam(),\n",
    "        metrics=[\"mse\"]\n",
    "    )\n",
    "    return model\n",
    "    \n",
    "        "
   ]
  },
  {
   "cell_type": "code",
   "execution_count": 28,
   "metadata": {},
   "outputs": [],
   "source": [
    "params_dict = [\n",
    "    {\"num_layer\" : 3 , \"neurons_per_layer\" : [[12,12,12], [12,24,12]]},\n",
    "    {\"num_layer\" : 4 , \"neurons_per_layer\" : [[8,8,8,8], [12,24,24,12]]}\n",
    "]"
   ]
  },
  {
   "cell_type": "code",
   "execution_count": 29,
   "metadata": {},
   "outputs": [],
   "source": [
    "import itertools\n",
    "\n",
    "def param_iterator():\n",
    "    for dd in params_dict:\n",
    "        for num_lay, neuron_list in itertools.product([dd[\"num_layer\"]], dd[\"neurons_per_layer\"]):\n",
    "            yield num_lay, neuron_list"
   ]
  },
  {
   "cell_type": "code",
   "execution_count": 30,
   "metadata": {
    "scrolled": true
   },
   "outputs": [
    {
     "name": "stdout",
     "output_type": "stream",
     "text": [
      "Fold 0 3 [12, 12, 12]\n",
      "Model: \"car_model\"\n",
      "_________________________________________________________________\n",
      " Layer (type)                Output Shape              Param #   \n",
      "=================================================================\n",
      " input_1 (InputLayer)        [(None, 21)]              0         \n",
      "                                                                 \n",
      " dense (Dense)               (None, 12)                264       \n",
      "                                                                 \n",
      " dense_1 (Dense)             (None, 12)                156       \n",
      "                                                                 \n",
      " dense_2 (Dense)             (None, 12)                156       \n",
      "                                                                 \n",
      " dense_3 (Dense)             (None, 1)                 13        \n",
      "                                                                 \n",
      "=================================================================\n",
      "Total params: 589\n",
      "Trainable params: 589\n",
      "Non-trainable params: 0\n",
      "_________________________________________________________________\n",
      "[600983808.0, 600850112.0, 599966016.0, 596957952.0, 589595008.0, 575369600.0, 551518016.0, 515652512.0, 467524064.0, 413140096.0, 354937920.0, 295175936.0, 240409872.0, 197265632.0, 164398848.0, 146369808.0, 136563040.0, 131252472.0, 127156792.0, 124109712.0]\n"
     ]
    },
    {
     "data": {
      "image/png": "[encoded data removed]",
      "text/plain": [
       "<Figure size 720x360 with 1 Axes>"
      ]
     },
     "metadata": {
      "needs_background": "light"
     },
     "output_type": "display_data"
    },
    {
     "name": "stdout",
     "output_type": "stream",
     "text": [
      "Fold 1 3 [12, 12, 12]\n",
      "Model: \"car_model\"\n",
      "_________________________________________________________________\n",
      " Layer (type)                Output Shape              Param #   \n",
      "=================================================================\n",
      " input_2 (InputLayer)        [(None, 21)]              0         \n",
      "                                                                 \n",
      " dense_4 (Dense)             (None, 12)                264       \n",
      "                                                                 \n",
      " dense_5 (Dense)             (None, 12)                156       \n",
      "                                                                 \n",
      " dense_6 (Dense)             (None, 12)                156       \n",
      "                                                                 \n",
      " dense_7 (Dense)             (None, 1)                 13        \n",
      "                                                                 \n",
      "=================================================================\n",
      "Total params: 589\n",
      "Trainable params: 589\n",
      "Non-trainable params: 0\n",
      "_________________________________________________________________\n",
      "[718609600.0, 718321984.0, 716367296.0, 709921216.0, 694531776.0, 665417792.0, 617755072.0, 550744512.0, 467496064.0, 382571808.0, 304273632.0, 243594800.0, 205144176.0, 183358704.0, 172167344.0, 164446096.0, 159042880.0, 154071008.0, 150414704.0, 147194528.0]\n"
     ]
    },
    {
     "data": {
      "image/png": "[encoded data removed]",
      "text/plain": [
       "<Figure size 720x360 with 1 Axes>"
      ]
     },
     "metadata": {
      "needs_background": "light"
     },
     "output_type": "display_data"
    },
    {
     "name": "stdout",
     "output_type": "stream",
     "text": [
      "Fold 2 3 [12, 12, 12]\n",
      "Model: \"car_model\"\n",
      "_________________________________________________________________\n",
      " Layer (type)                Output Shape              Param #   \n",
      "=================================================================\n",
      " input_3 (InputLayer)        [(None, 21)]              0         \n",
      "                                                                 \n",
      " dense_8 (Dense)             (None, 12)                264       \n",
      "                                                                 \n",
      " dense_9 (Dense)             (None, 12)                156       \n",
      "                                                                 \n",
      " dense_10 (Dense)            (None, 12)                156       \n",
      "                                                                 \n",
      " dense_11 (Dense)            (None, 1)                 13        \n",
      "                                                                 \n",
      "=================================================================\n",
      "Total params: 589\n",
      "Trainable params: 589\n",
      "Non-trainable params: 0\n",
      "_________________________________________________________________\n",
      "[789440128.0, 789247680.0, 787913664.0, 783281280.0, 772010432.0, 750067520.0, 714419136.0, 662734592.0, 594897792.0, 515838400.0, 436962624.0, 368597344.0, 315672512.0, 283587456.0, 264366512.0, 253672832.0, 246523712.0, 240926560.0, 236268960.0, 232258512.0]\n"
     ]
    },
    {
     "data": {
      "image/png": "[encoded data removed]",
      "text/plain": [
       "<Figure size 720x360 with 1 Axes>"
      ]
     },
     "metadata": {
      "needs_background": "light"
     },
     "output_type": "display_data"
    },
    {
     "name": "stdout",
     "output_type": "stream",
     "text": [
      "Fold 0 3 [12, 24, 12]\n",
      "Model: \"car_model\"\n",
      "_________________________________________________________________\n",
      " Layer (type)                Output Shape              Param #   \n",
      "=================================================================\n",
      " input_4 (InputLayer)        [(None, 21)]              0         \n",
      "                                                                 \n",
      " dense_12 (Dense)            (None, 12)                264       \n",
      "                                                                 \n",
      " dense_13 (Dense)            (None, 24)                312       \n",
      "                                                                 \n",
      " dense_14 (Dense)            (None, 12)                300       \n",
      "                                                                 \n",
      " dense_15 (Dense)            (None, 1)                 13        \n",
      "                                                                 \n",
      "=================================================================\n",
      "Total params: 889\n",
      "Trainable params: 889\n",
      "Non-trainable params: 0\n",
      "_________________________________________________________________\n",
      "[600974912.0, 600536320.0, 597529536.0, 587294336.0, 564415680.0, 521441024.0, 454162848.0, 368952768.0, 278590976.0, 203815536.0, 158741024.0, 140108768.0, 130382200.0, 125276448.0, 121439600.0, 118502760.0, 116012224.0, 114407424.0, 112475544.0, 111346112.0]\n"
     ]
    },
    {
     "data": {
      "image/png": "[encoded data removed]",
      "text/plain": [
       "<Figure size 720x360 with 1 Axes>"
      ]
     },
     "metadata": {
      "needs_background": "light"
     },
     "output_type": "display_data"
    },
    {
     "name": "stdout",
     "output_type": "stream",
     "text": [
      "Fold 1 3 [12, 24, 12]\n",
      "Model: \"car_model\"\n",
      "_________________________________________________________________\n",
      " Layer (type)                Output Shape              Param #   \n",
      "=================================================================\n",
      " input_5 (InputLayer)        [(None, 21)]              0         \n",
      "                                                                 \n",
      " dense_16 (Dense)            (None, 12)                264       \n",
      "                                                                 \n",
      " dense_17 (Dense)            (None, 24)                312       \n",
      "                                                                 \n",
      " dense_18 (Dense)            (None, 12)                300       \n",
      "                                                                 \n",
      " dense_19 (Dense)            (None, 1)                 13        \n",
      "                                                                 \n",
      "=================================================================\n",
      "Total params: 889\n",
      "Trainable params: 889\n",
      "Non-trainable params: 0\n",
      "_________________________________________________________________\n",
      "[718613440.0, 718414592.0, 717064832.0, 712333312.0, 701036160.0, 679891264.0, 644535488.0, 592951936.0, 525740160.0, 448240864.0, 367790720.0, 294034272.0, 239569760.0, 204995456.0, 183922448.0, 172519232.0, 164051872.0, 158751648.0, 153802016.0, 150251168.0]\n"
     ]
    },
    {
     "data": {
      "image/png": "[encoded data removed]",
      "text/plain": [
       "<Figure size 720x360 with 1 Axes>"
      ]
     },
     "metadata": {
      "needs_background": "light"
     },
     "output_type": "display_data"
    },
    {
     "name": "stdout",
     "output_type": "stream",
     "text": [
      "Fold 2 3 [12, 24, 12]\n",
      "Model: \"car_model\"\n",
      "_________________________________________________________________\n",
      " Layer (type)                Output Shape              Param #   \n",
      "=================================================================\n",
      " input_6 (InputLayer)        [(None, 21)]              0         \n",
      "                                                                 \n",
      " dense_20 (Dense)            (None, 12)                264       \n",
      "                                                                 \n",
      " dense_21 (Dense)            (None, 24)                312       \n",
      "                                                                 \n",
      " dense_22 (Dense)            (None, 12)                300       \n",
      "                                                                 \n",
      " dense_23 (Dense)            (None, 1)                 13        \n",
      "                                                                 \n",
      "=================================================================\n",
      "Total params: 889\n",
      "Trainable params: 889\n",
      "Non-trainable params: 0\n",
      "_________________________________________________________________\n",
      "[789424832.0, 788704256.0, 783645888.0, 766695616.0, 726747008.0, 655119040.0, 551453568.0, 435326784.0, 339633888.0, 284226272.0, 260464688.0, 248460880.0, 240149536.0, 234427680.0, 229456144.0, 225496128.0, 222087648.0, 219607760.0, 217226864.0, 215255936.0]\n"
     ]
    },
    {
     "data": {
      "image/png": "[encoded data removed]",
      "text/plain": [
       "<Figure size 720x360 with 1 Axes>"
      ]
     },
     "metadata": {
      "needs_background": "light"
     },
     "output_type": "display_data"
    },
    {
     "name": "stdout",
     "output_type": "stream",
     "text": [
      "Fold 0 4 [8, 8, 8, 8]\n",
      "Model: \"car_model\"\n",
      "_________________________________________________________________\n",
      " Layer (type)                Output Shape              Param #   \n",
      "=================================================================\n",
      " input_7 (InputLayer)        [(None, 21)]              0         \n",
      "                                                                 \n",
      " dense_24 (Dense)            (None, 8)                 176       \n",
      "                                                                 \n",
      " dense_25 (Dense)            (None, 8)                 72        \n",
      "                                                                 \n",
      " dense_26 (Dense)            (None, 8)                 72        \n",
      "                                                                 \n",
      " dense_27 (Dense)            (None, 8)                 72        \n",
      "                                                                 \n",
      " dense_28 (Dense)            (None, 1)                 9         \n",
      "                                                                 \n",
      "=================================================================\n",
      "Total params: 401\n",
      "Trainable params: 401\n",
      "Non-trainable params: 0\n",
      "_________________________________________________________________\n",
      "[600985664.0, 600848128.0, 598973760.0, 588012928.0, 551785536.0, 465951840.0, 326118624.0, 196021440.0, 140298464.0, 128806216.0, 122381808.0, 118249760.0, 115080728.0, 112643824.0, 111245768.0, 109936104.0, 109143184.0, 108144616.0, 107937840.0, 107495800.0]\n"
     ]
    },
    {
     "data": {
      "image/png": "[encoded data removed]",
      "text/plain": [
       "<Figure size 720x360 with 1 Axes>"
      ]
     },
     "metadata": {
      "needs_background": "light"
     },
     "output_type": "display_data"
    },
    {
     "name": "stdout",
     "output_type": "stream",
     "text": [
      "Fold 1 4 [8, 8, 8, 8]\n",
      "Model: \"car_model\"\n",
      "_________________________________________________________________\n",
      " Layer (type)                Output Shape              Param #   \n",
      "=================================================================\n",
      " input_8 (InputLayer)        [(None, 21)]              0         \n",
      "                                                                 \n",
      " dense_29 (Dense)            (None, 8)                 176       \n",
      "                                                                 \n",
      " dense_30 (Dense)            (None, 8)                 72        \n",
      "                                                                 \n",
      " dense_31 (Dense)            (None, 8)                 72        \n",
      "                                                                 \n",
      " dense_32 (Dense)            (None, 8)                 72        \n",
      "                                                                 \n",
      " dense_33 (Dense)            (None, 1)                 9         \n",
      "                                                                 \n",
      "=================================================================\n",
      "Total params: 401\n",
      "Trainable params: 401\n",
      "Non-trainable params: 0\n",
      "_________________________________________________________________\n",
      "[718617664.0, 718562176.0, 717919168.0, 713968192.0, 698838528.0, 659071680.0, 577687360.0, 450115360.0, 308958016.0, 214536304.0, 180084704.0, 166580400.0, 157960800.0, 152533568.0, 147214512.0, 143454448.0, 140382736.0, 138443744.0, 136000080.0, 134240448.0]\n"
     ]
    },
    {
     "data": {
      "image/png": "[encoded data removed]",
      "text/plain": [
       "<Figure size 720x360 with 1 Axes>"
      ]
     },
     "metadata": {
      "needs_background": "light"
     },
     "output_type": "display_data"
    },
    {
     "name": "stdout",
     "output_type": "stream",
     "text": [
      "Fold 2 4 [8, 8, 8, 8]\n",
      "Model: \"car_model\"\n",
      "_________________________________________________________________\n",
      " Layer (type)                Output Shape              Param #   \n",
      "=================================================================\n",
      " input_9 (InputLayer)        [(None, 21)]              0         \n",
      "                                                                 \n",
      " dense_34 (Dense)            (None, 8)                 176       \n",
      "                                                                 \n",
      " dense_35 (Dense)            (None, 8)                 72        \n",
      "                                                                 \n",
      " dense_36 (Dense)            (None, 8)                 72        \n",
      "                                                                 \n",
      " dense_37 (Dense)            (None, 8)                 72        \n",
      "                                                                 \n",
      " dense_38 (Dense)            (None, 1)                 9         \n",
      "                                                                 \n",
      "=================================================================\n",
      "Total params: 401\n",
      "Trainable params: 401\n",
      "Non-trainable params: 0\n",
      "_________________________________________________________________\n",
      "[789446272.0, 789425216.0, 789214976.0, 788060864.0, 783888192.0, 773158784.0, 750400448.0, 709417856.0, 644903552.0, 556967808.0, 458298304.0, 366461344.0, 306071200.0, 272747104.0, 257874352.0, 249264560.0, 243891104.0, 238825072.0, 234777968.0, 231022800.0]\n"
     ]
    },
    {
     "data": {
      "image/png": "[encoded data removed]",
      "text/plain": [
       "<Figure size 720x360 with 1 Axes>"
      ]
     },
     "metadata": {
      "needs_background": "light"
     },
     "output_type": "display_data"
    },
    {
     "name": "stdout",
     "output_type": "stream",
     "text": [
      "Fold 0 4 [12, 24, 24, 12]\n",
      "Model: \"car_model\"\n",
      "_________________________________________________________________\n",
      " Layer (type)                Output Shape              Param #   \n",
      "=================================================================\n",
      " input_10 (InputLayer)       [(None, 21)]              0         \n",
      "                                                                 \n",
      " dense_39 (Dense)            (None, 12)                264       \n",
      "                                                                 \n",
      " dense_40 (Dense)            (None, 24)                312       \n",
      "                                                                 \n",
      " dense_41 (Dense)            (None, 24)                600       \n",
      "                                                                 \n",
      " dense_42 (Dense)            (None, 12)                300       \n",
      "                                                                 \n",
      " dense_43 (Dense)            (None, 1)                 13        \n",
      "                                                                 \n",
      "=================================================================\n",
      "Total params: 1,489\n",
      "Trainable params: 1,489\n",
      "Non-trainable params: 0\n",
      "_________________________________________________________________\n",
      "[600982080.0, 600273152.0, 589937920.0, 533436256.0, 382629152.0, 192764368.0, 134435680.0, 124162600.0, 118056640.0, 114328648.0, 112446504.0, 110246024.0, 109769112.0, 108871344.0, 107922944.0, 107735400.0, 107340352.0, 107315128.0, 106625208.0, 106948016.0]\n"
     ]
    },
    {
     "data": {
      "image/png": "[encoded data removed]",
      "text/plain": [
       "<Figure size 720x360 with 1 Axes>"
      ]
     },
     "metadata": {
      "needs_background": "light"
     },
     "output_type": "display_data"
    },
    {
     "name": "stdout",
     "output_type": "stream",
     "text": [
      "Fold 1 4 [12, 24, 24, 12]\n",
      "Model: \"car_model\"\n",
      "_________________________________________________________________\n",
      " Layer (type)                Output Shape              Param #   \n",
      "=================================================================\n",
      " input_11 (InputLayer)       [(None, 21)]              0         \n",
      "                                                                 \n",
      " dense_44 (Dense)            (None, 12)                264       \n",
      "                                                                 \n",
      " dense_45 (Dense)            (None, 24)                312       \n",
      "                                                                 \n",
      " dense_46 (Dense)            (None, 24)                600       \n",
      "                                                                 \n",
      " dense_47 (Dense)            (None, 12)                300       \n",
      "                                                                 \n",
      " dense_48 (Dense)            (None, 1)                 13        \n",
      "                                                                 \n",
      "=================================================================\n",
      "Total params: 1,489\n",
      "Trainable params: 1,489\n",
      "Non-trainable params: 0\n",
      "_________________________________________________________________\n",
      "[718616640.0, 718328000.0, 714081472.0, 689277312.0, 609769408.0, 451867776.0, 271097024.0, 187450976.0, 165387888.0, 155249808.0, 148045616.0, 143127280.0, 139287264.0, 135917792.0, 133444536.0, 131548632.0, 130097384.0, 129214968.0, 127976248.0, 127108432.0]\n"
     ]
    },
    {
     "data": {
      "image/png": "[encoded data removed]",
      "text/plain": [
       "<Figure size 720x360 with 1 Axes>"
      ]
     },
     "metadata": {
      "needs_background": "light"
     },
     "output_type": "display_data"
    },
    {
     "name": "stdout",
     "output_type": "stream",
     "text": [
      "Fold 2 4 [12, 24, 24, 12]\n",
      "Model: \"car_model\"\n",
      "_________________________________________________________________\n",
      " Layer (type)                Output Shape              Param #   \n",
      "=================================================================\n",
      " input_12 (InputLayer)       [(None, 21)]              0         \n",
      "                                                                 \n",
      " dense_49 (Dense)            (None, 12)                264       \n",
      "                                                                 \n",
      " dense_50 (Dense)            (None, 24)                312       \n",
      "                                                                 \n",
      " dense_51 (Dense)            (None, 24)                600       \n",
      "                                                                 \n",
      " dense_52 (Dense)            (None, 12)                300       \n",
      "                                                                 \n",
      " dense_53 (Dense)            (None, 1)                 13        \n",
      "                                                                 \n",
      "=================================================================\n",
      "Total params: 1,489\n",
      "Trainable params: 1,489\n",
      "Non-trainable params: 0\n",
      "_________________________________________________________________\n",
      "Epoch 6: early stopping\n",
      "[789449856.0, 789449856.0, 789449856.0, 789449856.0, 789449856.0, 789449856.0]\n"
     ]
    },
    {
     "data": {
      "image/png": "[encoded data removed]",
      "text/plain": [
       "<Figure size 720x360 with 1 Axes>"
      ]
     },
     "metadata": {
      "needs_background": "light"
     },
     "output_type": "display_data"
    }
   ],
   "source": [
    "from sklearn.model_selection import KFold\n",
    "\n",
    "import matplotlib.pyplot as plt\n",
    "\n",
    "\n",
    "kf = KFold(n_splits=3, random_state=None, shuffle=False)\n",
    "callback = keras.callbacks.EarlyStopping(monitor='val_loss', patience=5, verbose=1) \n",
    "\n",
    "results = {\n",
    "    \"layer\" : [],\n",
    "    \"arch\" : [],\n",
    "    \"val_loss\" : []\n",
    "}\n",
    "\n",
    "for layer_num, neurons in param_iterator():\n",
    "    ll = []\n",
    "    for i, (train_index, val_index) in enumerate(kf.split(x_train)):\n",
    "        print(f\"Fold {i} {layer_num} {neurons}\")\n",
    "        model = build_NN(layer_num, neurons)\n",
    "        x_train_data = x_train.values[train_index]\n",
    "        y_train_data = y_train.values[train_index]\n",
    "        \n",
    "        x_val_data = x_train.values[val_index]\n",
    "        y_val_data = y_train.values[val_index]\n",
    "        \n",
    "        # this is strange because if early stopping use validation data !!\n",
    "        # we should not use early stopping and cross-validate epochs !!\n",
    "        history = model.fit(x_train_data, y_train_data, \n",
    "                            batch_size=64, epochs=20, \n",
    "                            validation_data = (x_val_data, y_val_data) , \n",
    "                            callbacks=[callback], verbose=0)\n",
    "        \n",
    "        val_loss = model.history.history['val_loss']\n",
    "        print(val_loss)\n",
    "        ll.append(val_loss[-1])\n",
    "        \n",
    "        fig , ax = plt.subplots(1,1, figsize = (10,5))\n",
    "        ax.plot(history.history['mse'], label = \"train\")\n",
    "        ax.plot(history.history['val_mse'], label =\"valid\")\n",
    "        ax.set_xlabel(\"epoch\")\n",
    "        ax.set_ylabel(\"metric\")\n",
    "        ax.legend()\n",
    "        plt.show()\n",
    "    \n",
    "    results[\"layer\"].append(layer_num)\n",
    "    results[\"arch\"].append(neurons)\n",
    "    results[\"val_loss\"].append(ll)\n",
    "        \n",
    "        \n",
    "        \n",
    "    "
   ]
  },
  {
   "cell_type": "code",
   "execution_count": 31,
   "metadata": {},
   "outputs": [],
   "source": [
    "res = pd.DataFrame(results)"
   ]
  },
  {
   "cell_type": "code",
   "execution_count": 32,
   "metadata": {},
   "outputs": [
    {
     "data": {
      "text/html": [
       "<div>\n",
       "<style scoped>\n",
       "    .dataframe tbody tr th:only-of-type {\n",
       "        vertical-align: middle;\n",
       "    }\n",
       "\n",
       "    .dataframe tbody tr th {\n",
       "        vertical-align: top;\n",
       "    }\n",
       "\n",
       "    .dataframe thead th {\n",
       "        text-align: right;\n",
       "    }\n",
       "</style>\n",
       "<table border=\"1\" class=\"dataframe\">\n",
       "  <thead>\n",
       "    <tr style=\"text-align: right;\">\n",
       "      <th></th>\n",
       "      <th>layer</th>\n",
       "      <th>arch</th>\n",
       "      <th>val_loss</th>\n",
       "    </tr>\n",
       "  </thead>\n",
       "  <tbody>\n",
       "    <tr>\n",
       "      <th>0</th>\n",
       "      <td>3</td>\n",
       "      <td>[12, 12, 12]</td>\n",
       "      <td>[124109712.0, 147194528.0, 232258512.0]</td>\n",
       "    </tr>\n",
       "    <tr>\n",
       "      <th>1</th>\n",
       "      <td>3</td>\n",
       "      <td>[12, 24, 12]</td>\n",
       "      <td>[111346112.0, 150251168.0, 215255936.0]</td>\n",
       "    </tr>\n",
       "    <tr>\n",
       "      <th>2</th>\n",
       "      <td>4</td>\n",
       "      <td>[8, 8, 8, 8]</td>\n",
       "      <td>[107495800.0, 134240448.0, 231022800.0]</td>\n",
       "    </tr>\n",
       "    <tr>\n",
       "      <th>3</th>\n",
       "      <td>4</td>\n",
       "      <td>[12, 24, 24, 12]</td>\n",
       "      <td>[106948016.0, 127108432.0, 789449856.0]</td>\n",
       "    </tr>\n",
       "  </tbody>\n",
       "</table>\n",
       "</div>"
      ],
      "text/plain": [
       "   layer              arch                                 val_loss\n",
       "0      3      [12, 12, 12]  [124109712.0, 147194528.0, 232258512.0]\n",
       "1      3      [12, 24, 12]  [111346112.0, 150251168.0, 215255936.0]\n",
       "2      4      [8, 8, 8, 8]  [107495800.0, 134240448.0, 231022800.0]\n",
       "3      4  [12, 24, 24, 12]  [106948016.0, 127108432.0, 789449856.0]"
      ]
     },
     "execution_count": 32,
     "metadata": {},
     "output_type": "execute_result"
    }
   ],
   "source": [
    "res"
   ]
  },
  {
   "cell_type": "code",
   "execution_count": 33,
   "metadata": {},
   "outputs": [],
   "source": [
    "res[\"avg_val_loss\"] = res[\"val_loss\"].apply(lambda x: np.array(x).mean())"
   ]
  },
  {
   "cell_type": "code",
   "execution_count": null,
   "metadata": {},
   "outputs": [],
   "source": []
  },
  {
   "cell_type": "code",
   "execution_count": 34,
   "metadata": {},
   "outputs": [
    {
     "data": {
      "text/html": [
       "<div>\n",
       "<style scoped>\n",
       "    .dataframe tbody tr th:only-of-type {\n",
       "        vertical-align: middle;\n",
       "    }\n",
       "\n",
       "    .dataframe tbody tr th {\n",
       "        vertical-align: top;\n",
       "    }\n",
       "\n",
       "    .dataframe thead th {\n",
       "        text-align: right;\n",
       "    }\n",
       "</style>\n",
       "<table border=\"1\" class=\"dataframe\">\n",
       "  <thead>\n",
       "    <tr style=\"text-align: right;\">\n",
       "      <th></th>\n",
       "      <th>layer</th>\n",
       "      <th>arch</th>\n",
       "      <th>val_loss</th>\n",
       "      <th>avg_val_loss</th>\n",
       "    </tr>\n",
       "  </thead>\n",
       "  <tbody>\n",
       "    <tr>\n",
       "      <th>2</th>\n",
       "      <td>4</td>\n",
       "      <td>[8, 8, 8, 8]</td>\n",
       "      <td>[107495800.0, 134240448.0, 231022800.0]</td>\n",
       "      <td>1.575863e+08</td>\n",
       "    </tr>\n",
       "    <tr>\n",
       "      <th>1</th>\n",
       "      <td>3</td>\n",
       "      <td>[12, 24, 12]</td>\n",
       "      <td>[111346112.0, 150251168.0, 215255936.0]</td>\n",
       "      <td>1.589511e+08</td>\n",
       "    </tr>\n",
       "    <tr>\n",
       "      <th>0</th>\n",
       "      <td>3</td>\n",
       "      <td>[12, 12, 12]</td>\n",
       "      <td>[124109712.0, 147194528.0, 232258512.0]</td>\n",
       "      <td>1.678543e+08</td>\n",
       "    </tr>\n",
       "    <tr>\n",
       "      <th>3</th>\n",
       "      <td>4</td>\n",
       "      <td>[12, 24, 24, 12]</td>\n",
       "      <td>[106948016.0, 127108432.0, 789449856.0]</td>\n",
       "      <td>3.411688e+08</td>\n",
       "    </tr>\n",
       "  </tbody>\n",
       "</table>\n",
       "</div>"
      ],
      "text/plain": [
       "   layer              arch                                 val_loss  \\\n",
       "2      4      [8, 8, 8, 8]  [107495800.0, 134240448.0, 231022800.0]   \n",
       "1      3      [12, 24, 12]  [111346112.0, 150251168.0, 215255936.0]   \n",
       "0      3      [12, 12, 12]  [124109712.0, 147194528.0, 232258512.0]   \n",
       "3      4  [12, 24, 24, 12]  [106948016.0, 127108432.0, 789449856.0]   \n",
       "\n",
       "   avg_val_loss  \n",
       "2  1.575863e+08  \n",
       "1  1.589511e+08  \n",
       "0  1.678543e+08  \n",
       "3  3.411688e+08  "
      ]
     },
     "execution_count": 34,
     "metadata": {},
     "output_type": "execute_result"
    }
   ],
   "source": [
    "res.sort_values(\"avg_val_loss\")"
   ]
  },
  {
   "cell_type": "code",
   "execution_count": null,
   "metadata": {},
   "outputs": [],
   "source": []
  },
  {
   "cell_type": "code",
   "execution_count": 38,
   "metadata": {},
   "outputs": [
    {
     "name": "stdout",
     "output_type": "stream",
     "text": [
      "Model: \"car_model\"\n",
      "_________________________________________________________________\n",
      " Layer (type)                Output Shape              Param #   \n",
      "=================================================================\n",
      " input_15 (InputLayer)       [(None, 21)]              0         \n",
      "                                                                 \n",
      " dense_64 (Dense)            (None, 8)                 176       \n",
      "                                                                 \n",
      " dense_65 (Dense)            (None, 8)                 72        \n",
      "                                                                 \n",
      " dense_66 (Dense)            (None, 8)                 72        \n",
      "                                                                 \n",
      " dense_67 (Dense)            (None, 8)                 72        \n",
      "                                                                 \n",
      " dense_68 (Dense)            (None, 1)                 9         \n",
      "                                                                 \n",
      "=================================================================\n",
      "Total params: 401\n",
      "Trainable params: 401\n",
      "Non-trainable params: 0\n",
      "_________________________________________________________________\n",
      "Epoch 1/20\n",
      "94/94 [==============================] - 1s 1ms/step - loss: 703002560.0000 - mse: 703002560.0000\n",
      "Epoch 2/20\n",
      "94/94 [==============================] - 0s 2ms/step - loss: 702710848.0000 - mse: 702710848.0000\n",
      "Epoch 3/20\n",
      "94/94 [==============================] - 0s 2ms/step - loss: 697539904.0000 - mse: 697539904.0000\n",
      "Epoch 4/20\n",
      "94/94 [==============================] - 0s 2ms/step - loss: 664314496.0000 - mse: 664314496.0000\n",
      "Epoch 5/20\n",
      "94/94 [==============================] - 0s 2ms/step - loss: 559322176.0000 - mse: 559322176.0000\n",
      "Epoch 6/20\n",
      "94/94 [==============================] - 0s 2ms/step - loss: 378039872.0000 - mse: 378039872.0000\n",
      "Epoch 7/20\n",
      "94/94 [==============================] - 0s 1ms/step - loss: 230227312.0000 - mse: 230227312.0000\n",
      "Epoch 8/20\n",
      "94/94 [==============================] - 0s 2ms/step - loss: 185609568.0000 - mse: 185609568.0000\n",
      "Epoch 9/20\n",
      "94/94 [==============================] - 0s 2ms/step - loss: 173113936.0000 - mse: 173113936.0000\n",
      "Epoch 10/20\n",
      "94/94 [==============================] - 0s 1ms/step - loss: 165459680.0000 - mse: 165459680.0000\n",
      "Epoch 11/20\n",
      "94/94 [==============================] - 0s 1ms/step - loss: 160144592.0000 - mse: 160144592.0000\n",
      "Epoch 12/20\n",
      "94/94 [==============================] - 0s 2ms/step - loss: 156202224.0000 - mse: 156202224.0000\n",
      "Epoch 13/20\n",
      "94/94 [==============================] - 0s 2ms/step - loss: 153487952.0000 - mse: 153487952.0000\n",
      "Epoch 14/20\n",
      "94/94 [==============================] - 0s 1ms/step - loss: 151080064.0000 - mse: 151080064.0000\n",
      "Epoch 15/20\n",
      "94/94 [==============================] - 0s 1ms/step - loss: 149473008.0000 - mse: 149473008.0000\n",
      "Epoch 16/20\n",
      "94/94 [==============================] - 0s 1ms/step - loss: 147968992.0000 - mse: 147968992.0000\n",
      "Epoch 17/20\n",
      "94/94 [==============================] - 0s 1ms/step - loss: 146951680.0000 - mse: 146951680.0000\n",
      "Epoch 18/20\n",
      "94/94 [==============================] - 0s 2ms/step - loss: 146255840.0000 - mse: 146255840.0000\n",
      "Epoch 19/20\n",
      "94/94 [==============================] - 0s 2ms/step - loss: 145286208.0000 - mse: 145286208.0000\n",
      "Epoch 20/20\n",
      "94/94 [==============================] - 0s 1ms/step - loss: 144655008.0000 - mse: 144655008.0000\n"
     ]
    }
   ],
   "source": [
    "model = build_NN(4, [8, 8, 8, 8])\n",
    "history = model.fit(x_train, y_train, batch_size=64, epochs=20)"
   ]
  },
  {
   "cell_type": "code",
   "execution_count": null,
   "metadata": {},
   "outputs": [],
   "source": []
  },
  {
   "cell_type": "code",
   "execution_count": 41,
   "metadata": {},
   "outputs": [],
   "source": [
    "#import matplotlib.pyplot as plt\n",
    "#fig , ax = plt.subplots(1,1, figsize = (10,5))\n",
    "#\n",
    "#ax.plot(history.history['mse'], label = \"train\")\n",
    "#ax.plot(history.history['val_mse'], label =\"valid\")\n",
    "#ax.set_xlabel(\"epoch\")\n",
    "#ax.set_ylabel(\"metric\")\n",
    "#ax.legend()\n",
    "#plt.show()"
   ]
  },
  {
   "cell_type": "code",
   "execution_count": 42,
   "metadata": {},
   "outputs": [
    {
     "name": "stdout",
     "output_type": "stream",
     "text": [
      "47/47 [==============================] - 0s 965us/step\n"
     ]
    }
   ],
   "source": [
    "y_predict = model.predict(x_test)#, y_test, verbose=2)"
   ]
  },
  {
   "cell_type": "code",
   "execution_count": 43,
   "metadata": {},
   "outputs": [
    {
     "data": {
      "image/png": "[encoded data removed]",
      "text/plain": [
       "<Figure size 720x360 with 1 Axes>"
      ]
     },
     "metadata": {
      "needs_background": "light"
     },
     "output_type": "display_data"
    }
   ],
   "source": [
    "fig , ax = plt.subplots(1,1, figsize = (10,5))\n",
    "\n",
    "ax.scatter(y_test.values, y_predict.reshape(-1))\n",
    "ax.plot([0,250000], [0,250000], \"--\", c=\"red\")\n",
    "ax.set_xlabel(\"y_test\")\n",
    "ax.set_ylabel(\"y_predict\")\n",
    "plt.show()"
   ]
  },
  {
   "cell_type": "code",
   "execution_count": 44,
   "metadata": {},
   "outputs": [],
   "source": [
    "#y_predict.reshape(-1)"
   ]
  },
  {
   "cell_type": "code",
   "execution_count": null,
   "metadata": {},
   "outputs": [],
   "source": []
  },
  {
   "cell_type": "code",
   "execution_count": null,
   "metadata": {},
   "outputs": [],
   "source": []
  }
 ],
 "metadata": {
  "kernelspec": {
   "display_name": "Python 3 (ipykernel)",
   "language": "python",
   "name": "python3"
  },
  "language_info": {
   "codemirror_mode": {
    "name": "ipython",
    "version": 3
   },
   "file_extension": ".py",
   "mimetype": "text/x-python",
   "name": "python",
   "nbconvert_exporter": "python",
   "pygments_lexer": "ipython3",
   "version": "3.8.10"
  }
 },
 "nbformat": 4,
 "nbformat_minor": 2
}
