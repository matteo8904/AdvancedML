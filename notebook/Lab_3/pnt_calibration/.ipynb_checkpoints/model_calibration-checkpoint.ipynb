{
 "cells": [
  {
   "cell_type": "code",
   "execution_count": 1,
   "id": "9761561c",
   "metadata": {},
   "outputs": [],
   "source": [
    "import numpy  as np\n",
    "import pandas as pd\n",
    "\n",
    "from sklearn.preprocessing import StandardScaler\n",
    "\n",
    "import keras\n",
    "from tensorflow.keras.callbacks import EarlyStopping\n",
    "from keras import backend as K\n",
    "\n",
    "import matplotlib.pyplot as plt\n",
    "\n",
    "from pickle import load\n",
    "\n",
    "import time\n",
    "import scipy"
   ]
  },
  {
   "cell_type": "code",
   "execution_count": null,
   "id": "08dee4f1",
   "metadata": {},
   "outputs": [],
   "source": []
  },
  {
   "cell_type": "code",
   "execution_count": 2,
   "id": "9385585b",
   "metadata": {},
   "outputs": [],
   "source": [
    "TAG = '38520208'    # same as the seed you set for generation\n",
    "\n",
    "scalerFile = \"scaler_%s.pkl\" %TAG\n",
    "\n",
    "N_params_mdl = 5"
   ]
  },
  {
   "cell_type": "code",
   "execution_count": null,
   "id": "77aeae5f",
   "metadata": {},
   "outputs": [],
   "source": []
  },
  {
   "cell_type": "code",
   "execution_count": 3,
   "id": "4c7d6c90",
   "metadata": {},
   "outputs": [],
   "source": [
    "scaler = load(open(scalerFile, 'rb'))"
   ]
  },
  {
   "cell_type": "code",
   "execution_count": null,
   "id": "15a2b08e",
   "metadata": {},
   "outputs": [],
   "source": []
  },
  {
   "cell_type": "code",
   "execution_count": null,
   "id": "a7e92f95",
   "metadata": {},
   "outputs": [],
   "source": []
  },
  {
   "cell_type": "code",
   "execution_count": 4,
   "id": "40613560",
   "metadata": {},
   "outputs": [],
   "source": [
    "N_hiddenLayers = 4\n",
    "N_nodes = 64\n",
    "i = keras.layers.Input(shape=(N_params_mdl+1+1, ))\n",
    "x = keras.layers.Dense(N_nodes, activation='swish')(i)\n",
    "c = 0\n",
    "while c < N_hiddenLayers:\n",
    "    x = keras.layers.Dense(N_nodes, activation='swish')(x)\n",
    "    c += 1\n",
    "x = keras.layers.Dense(1, activation='linear')(x)\n",
    "\n",
    "model = keras.models.Model(inputs=i, outputs=x)"
   ]
  },
  {
   "cell_type": "code",
   "execution_count": 5,
   "id": "29fbc38a",
   "metadata": {},
   "outputs": [],
   "source": [
    "model.load_weights('Heston_NNWeights_pntwise_.h5')\n",
    "\n",
    "NNWeights = []\n",
    "for i in range(1, len(model.layers)):\n",
    "    NNWeights.append(model.layers[i].get_weights())"
   ]
  },
  {
   "cell_type": "code",
   "execution_count": null,
   "id": "d8b18fba",
   "metadata": {},
   "outputs": [],
   "source": []
  },
  {
   "cell_type": "markdown",
   "id": "af2d1a16",
   "metadata": {},
   "source": [
    "### Neural Network and derivatives using numpy"
   ]
  },
  {
   "cell_type": "code",
   "execution_count": 6,
   "id": "9716ab23",
   "metadata": {},
   "outputs": [],
   "source": [
    "N_layers = N_hiddenLayers + 1\n",
    "\n",
    "def swish(x):\n",
    "    return x/(np.exp(-x)+1)\n",
    "\n",
    "def swishPrime(x):\n",
    "    return (np.exp(-x)+1+x*np.exp(-x))/((np.exp(-x)+1)**2)\n",
    "\n",
    "def NNFun(params, T, K):\n",
    "    N = len(T)\n",
    "    PARAMS = np.array(N*[params])\n",
    "    input1 = np.c_[PARAMS, T, K] \n",
    "    for i in range(N_layers):\n",
    "        input1 = np.dot(input1, NNWeights[i][0]) + NNWeights[i][1]\n",
    "        input1 = swish(input1)\n",
    "    i += 1\n",
    "    X = np.dot(input1, NNWeights[i][0]) + NNWeights[i][1]\n",
    "    X = [el[0] for el in X]\n",
    "    X = np.array(X)\n",
    "    return X\n",
    "\n",
    "def NNGrad(params, T, K):\n",
    "    N = len(T)\n",
    "    PARAMS = np.array(N*[params])\n",
    "    input1 = np.c_[PARAMS, T, K] \n",
    "    # k = 0\n",
    "    input1 = np.dot(input1, NNWeights[0][0]) + NNWeights[0][1]\n",
    "    grad = np.ndarray(shape=(N, N_params_mdl+1+1, N_nodes))\n",
    "    for j in range(N):\n",
    "        grad[j] = NNWeights[0][0]\n",
    "    sP = swishPrime(input1)\n",
    "    grad *= sP[:, None, :]\n",
    "    input1 = swish(input1)\n",
    "    #\n",
    "    for k in range(1,N_layers):\n",
    "        input1 = np.dot(input1, NNWeights[k][0])\n",
    "        input1 += NNWeights[k][1]\n",
    "        for n in range(N):\n",
    "            grad[n] = np.dot(grad[n], NNWeights[k][0])\n",
    "        sP = swishPrime(input1)\n",
    "        grad *= sP[:, None, :]\n",
    "        input1 = swish(input1)\n",
    "    grad = np.dot(grad, NNWeights[k+1][0])\n",
    "    grad = grad[:,:N_params_mdl].reshape(N, N_params_mdl).T\n",
    "    return grad"
   ]
  },
  {
   "cell_type": "markdown",
   "id": "9e836b42",
   "metadata": {},
   "source": [
    "### Market Calibration Data"
   ]
  },
  {
   "cell_type": "code",
   "execution_count": 9,
   "id": "5a613bf8",
   "metadata": {},
   "outputs": [
    {
     "data": {
      "text/html": [
       "<div>\n",
       "<style scoped>\n",
       "    .dataframe tbody tr th:only-of-type {\n",
       "        vertical-align: middle;\n",
       "    }\n",
       "\n",
       "    .dataframe tbody tr th {\n",
       "        vertical-align: top;\n",
       "    }\n",
       "\n",
       "    .dataframe thead th {\n",
       "        text-align: right;\n",
       "    }\n",
       "</style>\n",
       "<table border=\"1\" class=\"dataframe\">\n",
       "  <thead>\n",
       "    <tr style=\"text-align: right;\">\n",
       "      <th></th>\n",
       "      <th>T</th>\n",
       "      <th>K</th>\n",
       "      <th>imp_vol</th>\n",
       "    </tr>\n",
       "  </thead>\n",
       "  <tbody>\n",
       "    <tr>\n",
       "      <th>0</th>\n",
       "      <td>0.15</td>\n",
       "      <td>0.806351</td>\n",
       "      <td>0.298422</td>\n",
       "    </tr>\n",
       "    <tr>\n",
       "      <th>1</th>\n",
       "      <td>0.15</td>\n",
       "      <td>0.822658</td>\n",
       "      <td>0.285506</td>\n",
       "    </tr>\n",
       "    <tr>\n",
       "      <th>2</th>\n",
       "      <td>0.15</td>\n",
       "      <td>0.838965</td>\n",
       "      <td>0.272368</td>\n",
       "    </tr>\n",
       "    <tr>\n",
       "      <th>3</th>\n",
       "      <td>0.15</td>\n",
       "      <td>0.855273</td>\n",
       "      <td>0.258959</td>\n",
       "    </tr>\n",
       "    <tr>\n",
       "      <th>4</th>\n",
       "      <td>0.15</td>\n",
       "      <td>0.871580</td>\n",
       "      <td>0.245243</td>\n",
       "    </tr>\n",
       "    <tr>\n",
       "      <th>...</th>\n",
       "      <td>...</td>\n",
       "      <td>...</td>\n",
       "      <td>...</td>\n",
       "    </tr>\n",
       "    <tr>\n",
       "      <th>155</th>\n",
       "      <td>2.00</td>\n",
       "      <td>0.921433</td>\n",
       "      <td>0.135054</td>\n",
       "    </tr>\n",
       "    <tr>\n",
       "      <th>156</th>\n",
       "      <td>2.00</td>\n",
       "      <td>1.047140</td>\n",
       "      <td>0.098306</td>\n",
       "    </tr>\n",
       "    <tr>\n",
       "      <th>157</th>\n",
       "      <td>2.00</td>\n",
       "      <td>1.172848</td>\n",
       "      <td>0.094581</td>\n",
       "    </tr>\n",
       "    <tr>\n",
       "      <th>158</th>\n",
       "      <td>2.00</td>\n",
       "      <td>1.298556</td>\n",
       "      <td>0.106119</td>\n",
       "    </tr>\n",
       "    <tr>\n",
       "      <th>159</th>\n",
       "      <td>2.00</td>\n",
       "      <td>1.424264</td>\n",
       "      <td>0.118240</td>\n",
       "    </tr>\n",
       "  </tbody>\n",
       "</table>\n",
       "<p>160 rows × 3 columns</p>\n",
       "</div>"
      ],
      "text/plain": [
       "        T         K   imp_vol\n",
       "0    0.15  0.806351  0.298422\n",
       "1    0.15  0.822658  0.285506\n",
       "2    0.15  0.838965  0.272368\n",
       "3    0.15  0.855273  0.258959\n",
       "4    0.15  0.871580  0.245243\n",
       "..    ...       ...       ...\n",
       "155  2.00  0.921433  0.135054\n",
       "156  2.00  1.047140  0.098306\n",
       "157  2.00  1.172848  0.094581\n",
       "158  2.00  1.298556  0.106119\n",
       "159  2.00  1.424264  0.118240\n",
       "\n",
       "[160 rows x 3 columns]"
      ]
     },
     "execution_count": 9,
     "metadata": {},
     "output_type": "execute_result"
    }
   ],
   "source": [
    "mktData = pd.read_csv('fictitious_mktData.csv')\n",
    "mktData"
   ]
  },
  {
   "cell_type": "code",
   "execution_count": 10,
   "id": "aadaec76",
   "metadata": {},
   "outputs": [],
   "source": [
    "maturities = mktData[\"T\"].values\n",
    "strikes = mktData[\"K\"].values\n",
    "mkt_vol = mktData[\"imp_vol\"].values"
   ]
  },
  {
   "cell_type": "code",
   "execution_count": 11,
   "id": "5e750d66",
   "metadata": {},
   "outputs": [],
   "source": [
    "T = []\n",
    "for maturity in maturities:\n",
    "    T.append(scaler.transform([N_params_mdl*[0] + [maturity] + [0]])[0][N_params_mdl])\n",
    "\n",
    "K = []\n",
    "for strike in strikes:\n",
    "    K.append(scaler.transform([N_params_mdl*[0] + [0] + [strike]])[0][N_params_mdl+1])"
   ]
  },
  {
   "cell_type": "code",
   "execution_count": null,
   "id": "a602b847",
   "metadata": {},
   "outputs": [],
   "source": []
  },
  {
   "cell_type": "markdown",
   "id": "d653833f",
   "metadata": {},
   "source": [
    "### write cost Function and derivatives"
   ]
  },
  {
   "cell_type": "code",
   "execution_count": 12,
   "id": "00dcc29e",
   "metadata": {},
   "outputs": [],
   "source": [
    "def CostFunc(params, T, K, target):\n",
    "    return np.sum(np.power((NNFun(params, T, K)-target), 2))\n",
    "def Jacobian(params, T, K, target):\n",
    "    return 2*np.sum((NNFun(params, T, K)-target)*NNGrad(params, T, K), axis=1)"
   ]
  },
  {
   "cell_type": "markdown",
   "id": "43f04e25",
   "metadata": {},
   "source": [
    "### Define bounds for the calibration optimization"
   ]
  },
  {
   "cell_type": "code",
   "execution_count": 14,
   "id": "7ae3e93e",
   "metadata": {},
   "outputs": [],
   "source": [
    "bounds = (scaler.transform([[2.00, 0.01, 1.00, 0.01, -0.90, 0.0, 0.0]])[0][:N_params_mdl], \n",
    "          scaler.transform([[6.00, 0.20, 2.50, 0.20, -0.50, 0.0, 0.0]])[0][:N_params_mdl])\n",
    "bounds = [(lower, upper) for lower, upper in zip(*bounds)]\n",
    "\n",
    "init = []\n",
    "for bound in bounds:\n",
    "    init.append(0.5*(bound[0]+bound[1]))"
   ]
  },
  {
   "cell_type": "code",
   "execution_count": 15,
   "id": "1fab7151",
   "metadata": {},
   "outputs": [
    {
     "data": {
      "text/plain": [
       "[0.00029767283878190387,\n",
       " -0.0008395342221633184,\n",
       " -0.00019106336034124816,\n",
       " -0.000944784300736301,\n",
       " -0.0014331056121930086]"
      ]
     },
     "execution_count": 15,
     "metadata": {},
     "output_type": "execute_result"
    }
   ],
   "source": [
    "init"
   ]
  },
  {
   "cell_type": "code",
   "execution_count": null,
   "id": "909db57f",
   "metadata": {},
   "outputs": [],
   "source": []
  },
  {
   "cell_type": "code",
   "execution_count": 16,
   "id": "68adbd56",
   "metadata": {},
   "outputs": [
    {
     "name": "stdout",
     "output_type": "stream",
     "text": [
      "elapsed: 0.4687535762786865\n",
      "optm params: [ 4.55005019  0.02642938  1.87688898  0.02418029 -0.64561762]\n",
      "fval: 0.00970572946082321\n"
     ]
    }
   ],
   "source": [
    "start = time.time()        \n",
    "res = scipy.optimize.minimize(lambda x: CostFunc(x, T, K, mkt_vol), x0=init, \n",
    "                              method='L-BFGS-B', jac=lambda x: Jacobian(x, T, K, mkt_vol), bounds=bounds, \n",
    "                              tol=1E-10, options={\"maxiter\":5000})\n",
    "stop = time.time()\n",
    "\n",
    "print('elapsed: ' + str(stop-start))\n",
    "\n",
    "optm_params = scaler.inverse_transform([res.x.tolist() + [0,0]])[0][:N_params_mdl]\n",
    "print('optm params: ' + str(optm_params))\n",
    "fval = res.fun\n",
    "print('fval: ' + str(fval))"
   ]
  },
  {
   "cell_type": "markdown",
   "id": "26af4f35",
   "metadata": {},
   "source": [
    "### Compute Implyed vol for the optimal params res.x"
   ]
  },
  {
   "cell_type": "code",
   "execution_count": 17,
   "id": "8fa3be36",
   "metadata": {},
   "outputs": [],
   "source": [
    "ivol_NN = NNFun(res.x, T, K)"
   ]
  },
  {
   "cell_type": "code",
   "execution_count": null,
   "id": "51758f41",
   "metadata": {},
   "outputs": [],
   "source": []
  },
  {
   "cell_type": "code",
   "execution_count": 18,
   "id": "4eae496e",
   "metadata": {},
   "outputs": [
    {
     "data": {
      "image/png": "[encoded data removed]",
      "text/plain": [
       "<Figure size 1008x864 with 8 Axes>"
      ]
     },
     "metadata": {
      "needs_background": "light"
     },
     "output_type": "display_data"
    }
   ],
   "source": [
    "spot = 1.\n",
    "\n",
    "ttm, ttm_count = np.unique(T, return_counts=True)\n",
    "ttm_count_cumsum = np.cumsum(ttm_count)\n",
    "ttm_count_cumsum  = np.insert(ttm_count_cumsum, 0, 0)\n",
    "\n",
    "plt.figure(1, figsize=(14,12))\n",
    "for i in range(8):\n",
    "    plt.subplot(4, 4, i+1)\n",
    "    \n",
    "    plt.plot(np.log(np.array(strikes[ttm_count_cumsum[i]:ttm_count_cumsum[i+1]])/spot), \n",
    "             mkt_vol[ttm_count_cumsum[i]:ttm_count_cumsum[i+1]], 'b'  , label=\"mkt vol\")\n",
    "    plt.plot(np.log(np.array(strikes[ttm_count_cumsum[i]:ttm_count_cumsum[i+1]])/spot), \n",
    "             ivol_NN[ttm_count_cumsum[i]:ttm_count_cumsum[i+1]], '--r', label=\"mdl vol [NN]\" )\n",
    "    \n",
    "    plt.title(\"Maturity=%1.2f \"%np.unique(maturities)[i])\n",
    "    plt.xlabel(\"log-moneyness\")\n",
    "    plt.ylabel(\"Implied vol\")\n",
    "    \n",
    "    plt.legend()\n",
    "plt.tight_layout()\n",
    "plt.show()"
   ]
  },
  {
   "cell_type": "code",
   "execution_count": null,
   "id": "7d5369e8",
   "metadata": {},
   "outputs": [],
   "source": []
  },
  {
   "cell_type": "code",
   "execution_count": null,
   "id": "f6565cc7",
   "metadata": {},
   "outputs": [],
   "source": []
  },
  {
   "cell_type": "code",
   "execution_count": null,
   "id": "bfafb15c",
   "metadata": {},
   "outputs": [],
   "source": []
  },
  {
   "cell_type": "code",
   "execution_count": null,
   "id": "2408f535",
   "metadata": {},
   "outputs": [],
   "source": []
  }
 ],
 "metadata": {
  "kernelspec": {
   "display_name": "Python 3 (ipykernel)",
   "language": "python",
   "name": "python3"
  },
  "language_info": {
   "codemirror_mode": {
    "name": "ipython",
    "version": 3
   },
   "file_extension": ".py",
   "mimetype": "text/x-python",
   "name": "python",
   "nbconvert_exporter": "python",
   "pygments_lexer": "ipython3",
   "version": "3.8.10"
  }
 },
 "nbformat": 4,
 "nbformat_minor": 5
}
