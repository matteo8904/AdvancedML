{
 "cells": [
  {
   "cell_type": "code",
   "execution_count": 1,
   "id": "3975b48c-ea3f-419c-9519-450760100229",
   "metadata": {},
   "outputs": [],
   "source": [
    "import numpy  as np\n",
    "import pandas as pd\n",
    "\n",
    "from pickle import load\n",
    "\n",
    "from tensorflow import keras"
   ]
  },
  {
   "cell_type": "code",
   "execution_count": null,
   "id": "55ca22a1-0cd3-430b-a6f2-814595f78d39",
   "metadata": {},
   "outputs": [],
   "source": []
  },
  {
   "cell_type": "code",
   "execution_count": 2,
   "id": "ce26860c-8ae7-48db-a50f-5059ba43913c",
   "metadata": {},
   "outputs": [],
   "source": [
    "TAG = '1986436'    # same as the seed you set for generation\n",
    "\n",
    "inputFile = \"challenge_%s.csv\" %TAG\n",
    "outputFile = \"prediction_%s.csv\" %TAG\n",
    "scalerFile = \"scaler_%s.pkl\" %TAG\n",
    "mdlDir = \"model_%s.krs\" %TAG"
   ]
  },
  {
   "cell_type": "code",
   "execution_count": null,
   "id": "192203c7-3c28-4644-b24b-95d47c89b84f",
   "metadata": {},
   "outputs": [],
   "source": []
  },
  {
   "cell_type": "markdown",
   "id": "ce138b47-6d91-445e-8b45-1a694b2d6e30",
   "metadata": {},
   "source": [
    "<h3> import db for challenge ..."
   ]
  },
  {
   "cell_type": "code",
   "execution_count": 3,
   "id": "3b829770-e8e7-473c-a332-18017d68f03b",
   "metadata": {},
   "outputs": [
    {
     "name": "stdout",
     "output_type": "stream",
     "text": [
      "@ Info       : reading challenge data from 'challenge_1986436.csv'\n"
     ]
    }
   ],
   "source": [
    "print(\"@ %-11s: reading challenge data from '%s'\" %(\"Info\", inputFile))\n",
    "db_chlng = pd.read_csv(inputFile, sep=',')"
   ]
  },
  {
   "cell_type": "markdown",
   "id": "7a79cd0d-e9cf-440c-92d2-74dd53a353b1",
   "metadata": {},
   "source": [
    ">    and check it reads as expected"
   ]
  },
  {
   "cell_type": "code",
   "execution_count": 4,
   "id": "4d5d602f-49bd-4a49-9038-a5a6548ade00",
   "metadata": {},
   "outputs": [
    {
     "name": "stdout",
     "output_type": "stream",
     "text": [
      "          T      Sgma    Strike\n",
      "0  1.859970  0.300896  0.774921\n",
      "1  1.195663  0.686714  0.643488\n",
      "2  0.661087  0.175569  0.742181\n",
      "3  0.585922  0.362865  0.803925\n",
      "4  1.925247  0.710320  0.772174\n"
     ]
    }
   ],
   "source": [
    "print(db_chlng.head(5))"
   ]
  },
  {
   "cell_type": "code",
   "execution_count": null,
   "id": "2ae389d0-96b3-463a-ac1e-10865d2be0a2",
   "metadata": {},
   "outputs": [],
   "source": []
  },
  {
   "cell_type": "markdown",
   "id": "6a843859-1499-4ebc-9622-0c6542d8b905",
   "metadata": {},
   "source": [
    "<h3> load the model"
   ]
  },
  {
   "cell_type": "code",
   "execution_count": 5,
   "id": "380b704d-9c0e-4267-8a8d-36a6b7a62813",
   "metadata": {},
   "outputs": [
    {
     "name": "stdout",
     "output_type": "stream",
     "text": [
      "@ Info       : loading model from directory 'model_1986436.krs'\n"
     ]
    }
   ],
   "source": [
    "print(\"@ %-11s: loading model from directory '%s'\" %(\"Info\", mdlDir))\n",
    "model = keras.models.load_model(mdlDir)"
   ]
  },
  {
   "cell_type": "code",
   "execution_count": null,
   "id": "60836536-4860-4275-8baa-89f92e191bf0",
   "metadata": {},
   "outputs": [],
   "source": []
  },
  {
   "cell_type": "markdown",
   "id": "9f7715b1-61a9-4e52-8580-a90407f566d1",
   "metadata": {},
   "source": [
    "<h3> load the scaler"
   ]
  },
  {
   "cell_type": "code",
   "execution_count": 6,
   "id": "cce60a91-9e4c-4409-a3ae-c828fdc5c51e",
   "metadata": {},
   "outputs": [],
   "source": [
    "scaler = load(open(scalerFile, 'rb'))"
   ]
  },
  {
   "cell_type": "markdown",
   "id": "72e661bd-8032-4e2a-9a8d-77561adab658",
   "metadata": {},
   "source": [
    ">    and apply the normalization"
   ]
  },
  {
   "cell_type": "code",
   "execution_count": 7,
   "id": "af7938b2-bb6c-4443-8b80-bcebad589e0a",
   "metadata": {},
   "outputs": [],
   "source": [
    "x_chlng_transform = scaler.transform(db_chlng)"
   ]
  },
  {
   "cell_type": "code",
   "execution_count": null,
   "id": "3fae3148-df17-4c8b-b47b-175a7e203156",
   "metadata": {},
   "outputs": [],
   "source": []
  },
  {
   "cell_type": "markdown",
   "id": "ac8df583-e7de-451d-b879-51ac7f7d48d0",
   "metadata": {},
   "source": [
    "<h3> make predictions with the NN model"
   ]
  },
  {
   "cell_type": "code",
   "execution_count": 8,
   "id": "79ee0b8d-e189-4066-9612-63b3c57685fa",
   "metadata": {},
   "outputs": [],
   "source": [
    "y_chlng = model.predict(x_chlng_transform)"
   ]
  },
  {
   "cell_type": "code",
   "execution_count": null,
   "id": "6c25162e-49c3-49e0-8924-2d88f1d50b18",
   "metadata": {},
   "outputs": [],
   "source": []
  },
  {
   "cell_type": "markdown",
   "id": "094b765d-80c4-4d57-9b69-de6c8d3a1d44",
   "metadata": {},
   "source": [
    "<h3> save predictions to file"
   ]
  },
  {
   "cell_type": "code",
   "execution_count": 9,
   "id": "5d5ab2da-c9af-46d1-9545-ccd698fa7e33",
   "metadata": {},
   "outputs": [
    {
     "name": "stdout",
     "output_type": "stream",
     "text": [
      "      Price\n",
      "0  0.275553\n",
      "1  0.457465\n",
      "2  0.255482\n",
      "3  0.232437\n",
      "4  0.466940\n"
     ]
    }
   ],
   "source": [
    "y_chlng_db = pd.DataFrame({\"Price\": y_chlng[:,0]})\n",
    "print(y_chlng_db.head(5))"
   ]
  },
  {
   "cell_type": "code",
   "execution_count": 10,
   "id": "76ec5240-0c30-43d8-bc27-e97e417d4dda",
   "metadata": {},
   "outputs": [
    {
     "name": "stdout",
     "output_type": "stream",
     "text": [
      "@ Info       : predictions written to 'prediction_1986436.csv'\n"
     ]
    }
   ],
   "source": [
    "y_chlng_db.to_csv(outputFile, sep=',', float_format=\"%.6f\", index=False)\n",
    "print(\"@ %-11s: predictions written to '%s'\" %(\"Info\", outputFile))"
   ]
  },
  {
   "cell_type": "code",
   "execution_count": null,
   "id": "c3c97b31-f726-4f07-aec6-7a6bbb76ffa9",
   "metadata": {},
   "outputs": [],
   "source": []
  }
 ],
 "metadata": {
  "kernelspec": {
   "display_name": "Python 3",
   "language": "python",
   "name": "python3"
  },
  "language_info": {
   "codemirror_mode": {
    "name": "ipython",
    "version": 3
   },
   "file_extension": ".py",
   "mimetype": "text/x-python",
   "name": "python",
   "nbconvert_exporter": "python",
   "pygments_lexer": "ipython3",
   "version": "3.8.10"
  }
 },
 "nbformat": 4,
 "nbformat_minor": 5
}
