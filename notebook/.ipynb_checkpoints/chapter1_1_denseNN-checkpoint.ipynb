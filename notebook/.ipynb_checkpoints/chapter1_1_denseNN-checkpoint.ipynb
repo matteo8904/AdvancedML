{
 "cells": [
  {
   "cell_type": "code",
   "execution_count": null,
   "metadata": {},
   "outputs": [],
   "source": [
    "# !pip install tensorflow"
   ]
  },
  {
   "cell_type": "code",
   "execution_count": 1,
   "metadata": {},
   "outputs": [],
   "source": [
    "import pandas as pd\n",
    "import numpy as np\n",
    "import os\n",
    "\n",
    "DATA_FOLDER = \"data\""
   ]
  },
  {
   "cell_type": "code",
   "execution_count": 2,
   "metadata": {},
   "outputs": [],
   "source": [
    "filename = os.path.join(DATA_FOLDER, \"auto_price.csv\")\n",
    "df=pd.read_csv(filename) \n",
    "df.drop_duplicates(inplace = True)\n",
    "df = df[df[\"price\"]< 600000].copy()"
   ]
  },
  {
   "cell_type": "code",
   "execution_count": 3,
   "metadata": {},
   "outputs": [
    {
     "data": {
      "text/plain": [
       "Index(['price', 'MatriculationMonth', 'MatriculationYear', 'km', 'cv',\n",
       "       'FuelType', 'gearboxType', 'Consume', 'city', 'province', 'Brand',\n",
       "       'Model', 'Preparation', 'Engine', 'Seats', 'ConsumeFuel',\n",
       "       'ConsumeFuelNotUrban', 'Emissions', 'Color', 'Metallizzato', 'Airbag',\n",
       "       'NumberDoors', 'EmissionClass', 'AirConditioning', 'Interior'],\n",
       "      dtype='object')"
      ]
     },
     "execution_count": 3,
     "metadata": {},
     "output_type": "execute_result"
    }
   ],
   "source": [
    "df.columns"
   ]
  },
  {
   "cell_type": "code",
   "execution_count": 4,
   "metadata": {},
   "outputs": [
    {
     "data": {
      "text/html": [
       "<div>\n",
       "<style scoped>\n",
       "    .dataframe tbody tr th:only-of-type {\n",
       "        vertical-align: middle;\n",
       "    }\n",
       "\n",
       "    .dataframe tbody tr th {\n",
       "        vertical-align: top;\n",
       "    }\n",
       "\n",
       "    .dataframe thead th {\n",
       "        text-align: right;\n",
       "    }\n",
       "</style>\n",
       "<table border=\"1\" class=\"dataframe\">\n",
       "  <thead>\n",
       "    <tr style=\"text-align: right;\">\n",
       "      <th></th>\n",
       "      <th>price</th>\n",
       "      <th>MatriculationMonth</th>\n",
       "      <th>MatriculationYear</th>\n",
       "      <th>km</th>\n",
       "      <th>cv</th>\n",
       "      <th>FuelType</th>\n",
       "      <th>gearboxType</th>\n",
       "      <th>Consume</th>\n",
       "      <th>city</th>\n",
       "      <th>province</th>\n",
       "      <th>...</th>\n",
       "      <th>ConsumeFuel</th>\n",
       "      <th>ConsumeFuelNotUrban</th>\n",
       "      <th>Emissions</th>\n",
       "      <th>Color</th>\n",
       "      <th>Metallizzato</th>\n",
       "      <th>Airbag</th>\n",
       "      <th>NumberDoors</th>\n",
       "      <th>EmissionClass</th>\n",
       "      <th>AirConditioning</th>\n",
       "      <th>Interior</th>\n",
       "    </tr>\n",
       "  </thead>\n",
       "  <tbody>\n",
       "    <tr>\n",
       "      <th>0</th>\n",
       "      <td>15500</td>\n",
       "      <td>Luglio</td>\n",
       "      <td>2013</td>\n",
       "      <td>82914.0</td>\n",
       "      <td>85.0</td>\n",
       "      <td>Diesel</td>\n",
       "      <td>Cambio automatico</td>\n",
       "      <td>4.1</td>\n",
       "      <td>Modena</td>\n",
       "      <td>Modena</td>\n",
       "      <td>...</td>\n",
       "      <td>4.1</td>\n",
       "      <td>3.6</td>\n",
       "      <td>109.0</td>\n",
       "      <td>NaN</td>\n",
       "      <td>NaN</td>\n",
       "      <td>NaN</td>\n",
       "      <td>NaN</td>\n",
       "      <td>NaN</td>\n",
       "      <td>NaN</td>\n",
       "      <td>NaN</td>\n",
       "    </tr>\n",
       "    <tr>\n",
       "      <th>1</th>\n",
       "      <td>3900</td>\n",
       "      <td>Novembre</td>\n",
       "      <td>2006</td>\n",
       "      <td>161038.0</td>\n",
       "      <td>75.0</td>\n",
       "      <td>Benzina</td>\n",
       "      <td>Cambio manuale</td>\n",
       "      <td>7.2</td>\n",
       "      <td>Modena</td>\n",
       "      <td>Modena</td>\n",
       "      <td>...</td>\n",
       "      <td>7.2</td>\n",
       "      <td>5.6</td>\n",
       "      <td>176.0</td>\n",
       "      <td>Blu</td>\n",
       "      <td>NaN</td>\n",
       "      <td>NaN</td>\n",
       "      <td>NaN</td>\n",
       "      <td>NaN</td>\n",
       "      <td>NaN</td>\n",
       "      <td>NaN</td>\n",
       "    </tr>\n",
       "    <tr>\n",
       "      <th>2</th>\n",
       "      <td>15900</td>\n",
       "      <td>Giugno</td>\n",
       "      <td>2014</td>\n",
       "      <td>114830.0</td>\n",
       "      <td>80.0</td>\n",
       "      <td>Diesel</td>\n",
       "      <td>Cambio manuale</td>\n",
       "      <td>3.8</td>\n",
       "      <td>Modena</td>\n",
       "      <td>Modena</td>\n",
       "      <td>...</td>\n",
       "      <td>3.8</td>\n",
       "      <td>3.3</td>\n",
       "      <td>98.0</td>\n",
       "      <td>Grigio</td>\n",
       "      <td>NaN</td>\n",
       "      <td>NaN</td>\n",
       "      <td>NaN</td>\n",
       "      <td>NaN</td>\n",
       "      <td>NaN</td>\n",
       "      <td>NaN</td>\n",
       "    </tr>\n",
       "    <tr>\n",
       "      <th>3</th>\n",
       "      <td>54900</td>\n",
       "      <td>Maggio</td>\n",
       "      <td>2016</td>\n",
       "      <td>61700.0</td>\n",
       "      <td>183.0</td>\n",
       "      <td>Diesel</td>\n",
       "      <td>Cambio automatico</td>\n",
       "      <td>5.9</td>\n",
       "      <td>Padova</td>\n",
       "      <td>Padova</td>\n",
       "      <td>...</td>\n",
       "      <td>5.9</td>\n",
       "      <td>5.5</td>\n",
       "      <td>156.0</td>\n",
       "      <td>Nero</td>\n",
       "      <td>NaN</td>\n",
       "      <td>NaN</td>\n",
       "      <td>NaN</td>\n",
       "      <td>NaN</td>\n",
       "      <td>NaN</td>\n",
       "      <td>NaN</td>\n",
       "    </tr>\n",
       "    <tr>\n",
       "      <th>4</th>\n",
       "      <td>45900</td>\n",
       "      <td>Settembre</td>\n",
       "      <td>2014</td>\n",
       "      <td>25790.0</td>\n",
       "      <td>190.0</td>\n",
       "      <td>Diesel</td>\n",
       "      <td>Cambio automatico</td>\n",
       "      <td>6.2</td>\n",
       "      <td>Padova</td>\n",
       "      <td>Padova</td>\n",
       "      <td>...</td>\n",
       "      <td>6.2</td>\n",
       "      <td>5.7</td>\n",
       "      <td>162.0</td>\n",
       "      <td>Grigio</td>\n",
       "      <td>Sì</td>\n",
       "      <td>NaN</td>\n",
       "      <td>NaN</td>\n",
       "      <td>NaN</td>\n",
       "      <td>NaN</td>\n",
       "      <td>NaN</td>\n",
       "    </tr>\n",
       "  </tbody>\n",
       "</table>\n",
       "<p>5 rows × 25 columns</p>\n",
       "</div>"
      ],
      "text/plain": [
       "   price MatriculationMonth  MatriculationYear        km     cv FuelType  \\\n",
       "0  15500             Luglio               2013   82914.0   85.0   Diesel   \n",
       "1   3900           Novembre               2006  161038.0   75.0  Benzina   \n",
       "2  15900             Giugno               2014  114830.0   80.0   Diesel   \n",
       "3  54900             Maggio               2016   61700.0  183.0   Diesel   \n",
       "4  45900          Settembre               2014   25790.0  190.0   Diesel   \n",
       "\n",
       "         gearboxType Consume    city province  ... ConsumeFuel  \\\n",
       "0  Cambio automatico     4.1  Modena   Modena  ...         4.1   \n",
       "1     Cambio manuale     7.2  Modena   Modena  ...         7.2   \n",
       "2     Cambio manuale     3.8  Modena   Modena  ...         3.8   \n",
       "3  Cambio automatico     5.9  Padova   Padova  ...         5.9   \n",
       "4  Cambio automatico     6.2  Padova   Padova  ...         6.2   \n",
       "\n",
       "  ConsumeFuelNotUrban Emissions   Color  Metallizzato  Airbag  NumberDoors  \\\n",
       "0                 3.6     109.0     NaN           NaN     NaN          NaN   \n",
       "1                 5.6     176.0     Blu           NaN     NaN          NaN   \n",
       "2                 3.3      98.0  Grigio           NaN     NaN          NaN   \n",
       "3                 5.5     156.0    Nero           NaN     NaN          NaN   \n",
       "4                 5.7     162.0  Grigio            Sì     NaN          NaN   \n",
       "\n",
       "   EmissionClass AirConditioning Interior  \n",
       "0            NaN             NaN      NaN  \n",
       "1            NaN             NaN      NaN  \n",
       "2            NaN             NaN      NaN  \n",
       "3            NaN             NaN      NaN  \n",
       "4            NaN             NaN      NaN  \n",
       "\n",
       "[5 rows x 25 columns]"
      ]
     },
     "execution_count": 4,
     "metadata": {},
     "output_type": "execute_result"
    }
   ],
   "source": [
    "df.head()"
   ]
  },
  {
   "cell_type": "code",
   "execution_count": 5,
   "metadata": {},
   "outputs": [
    {
     "data": {
      "text/plain": [
       "(131828, 25)"
      ]
     },
     "execution_count": 5,
     "metadata": {},
     "output_type": "execute_result"
    }
   ],
   "source": [
    "df.shape"
   ]
  },
  {
   "cell_type": "code",
   "execution_count": 6,
   "metadata": {},
   "outputs": [],
   "source": [
    "col_to_keep = [\"MatriculationYear\", \"km\", \"cv\", \"FuelType\", \"gearboxType\", \"Engine\", \"Brand\", \"price\"]\n",
    "df = df[col_to_keep].copy()"
   ]
  },
  {
   "cell_type": "code",
   "execution_count": 7,
   "metadata": {},
   "outputs": [
    {
     "data": {
      "text/html": [
       "<div>\n",
       "<style scoped>\n",
       "    .dataframe tbody tr th:only-of-type {\n",
       "        vertical-align: middle;\n",
       "    }\n",
       "\n",
       "    .dataframe tbody tr th {\n",
       "        vertical-align: top;\n",
       "    }\n",
       "\n",
       "    .dataframe thead th {\n",
       "        text-align: right;\n",
       "    }\n",
       "</style>\n",
       "<table border=\"1\" class=\"dataframe\">\n",
       "  <thead>\n",
       "    <tr style=\"text-align: right;\">\n",
       "      <th></th>\n",
       "      <th>MatriculationYear</th>\n",
       "      <th>km</th>\n",
       "      <th>cv</th>\n",
       "      <th>FuelType</th>\n",
       "      <th>gearboxType</th>\n",
       "      <th>Engine</th>\n",
       "      <th>Brand</th>\n",
       "      <th>price</th>\n",
       "    </tr>\n",
       "  </thead>\n",
       "  <tbody>\n",
       "    <tr>\n",
       "      <th>0</th>\n",
       "      <td>2013</td>\n",
       "      <td>82914.0</td>\n",
       "      <td>85.0</td>\n",
       "      <td>Diesel</td>\n",
       "      <td>Cambio automatico</td>\n",
       "      <td>1995.0</td>\n",
       "      <td>BMW</td>\n",
       "      <td>15500</td>\n",
       "    </tr>\n",
       "    <tr>\n",
       "      <th>1</th>\n",
       "      <td>2006</td>\n",
       "      <td>161038.0</td>\n",
       "      <td>75.0</td>\n",
       "      <td>Benzina</td>\n",
       "      <td>Cambio manuale</td>\n",
       "      <td>1595.0</td>\n",
       "      <td>VOLKSWAGEN</td>\n",
       "      <td>3900</td>\n",
       "    </tr>\n",
       "    <tr>\n",
       "      <th>2</th>\n",
       "      <td>2014</td>\n",
       "      <td>114830.0</td>\n",
       "      <td>80.0</td>\n",
       "      <td>Diesel</td>\n",
       "      <td>Cambio manuale</td>\n",
       "      <td>1461.0</td>\n",
       "      <td>MERCEDES BENZ</td>\n",
       "      <td>15900</td>\n",
       "    </tr>\n",
       "    <tr>\n",
       "      <th>3</th>\n",
       "      <td>2016</td>\n",
       "      <td>61700.0</td>\n",
       "      <td>183.0</td>\n",
       "      <td>Diesel</td>\n",
       "      <td>Cambio automatico</td>\n",
       "      <td>2993.0</td>\n",
       "      <td>BMW</td>\n",
       "      <td>54900</td>\n",
       "    </tr>\n",
       "    <tr>\n",
       "      <th>4</th>\n",
       "      <td>2014</td>\n",
       "      <td>25790.0</td>\n",
       "      <td>190.0</td>\n",
       "      <td>Diesel</td>\n",
       "      <td>Cambio automatico</td>\n",
       "      <td>2993.0</td>\n",
       "      <td>BMW</td>\n",
       "      <td>45900</td>\n",
       "    </tr>\n",
       "  </tbody>\n",
       "</table>\n",
       "</div>"
      ],
      "text/plain": [
       "   MatriculationYear        km     cv FuelType        gearboxType  Engine  \\\n",
       "0               2013   82914.0   85.0   Diesel  Cambio automatico  1995.0   \n",
       "1               2006  161038.0   75.0  Benzina     Cambio manuale  1595.0   \n",
       "2               2014  114830.0   80.0   Diesel     Cambio manuale  1461.0   \n",
       "3               2016   61700.0  183.0   Diesel  Cambio automatico  2993.0   \n",
       "4               2014   25790.0  190.0   Diesel  Cambio automatico  2993.0   \n",
       "\n",
       "           Brand  price  \n",
       "0            BMW  15500  \n",
       "1     VOLKSWAGEN   3900  \n",
       "2  MERCEDES BENZ  15900  \n",
       "3            BMW  54900  \n",
       "4            BMW  45900  "
      ]
     },
     "execution_count": 7,
     "metadata": {},
     "output_type": "execute_result"
    }
   ],
   "source": [
    "df.head()"
   ]
  },
  {
   "cell_type": "code",
   "execution_count": 8,
   "metadata": {},
   "outputs": [],
   "source": [
    "from datetime import datetime\n",
    "currentYear = datetime.now().year\n",
    "df[\"year\"]=df[\"MatriculationYear\"].apply(lambda x: currentYear-int(x))"
   ]
  },
  {
   "cell_type": "code",
   "execution_count": 9,
   "metadata": {},
   "outputs": [],
   "source": [
    "df.drop([\"MatriculationYear\"], axis=1, inplace=True)"
   ]
  },
  {
   "cell_type": "code",
   "execution_count": 10,
   "metadata": {},
   "outputs": [
    {
     "data": {
      "text/html": [
       "<div>\n",
       "<style scoped>\n",
       "    .dataframe tbody tr th:only-of-type {\n",
       "        vertical-align: middle;\n",
       "    }\n",
       "\n",
       "    .dataframe tbody tr th {\n",
       "        vertical-align: top;\n",
       "    }\n",
       "\n",
       "    .dataframe thead th {\n",
       "        text-align: right;\n",
       "    }\n",
       "</style>\n",
       "<table border=\"1\" class=\"dataframe\">\n",
       "  <thead>\n",
       "    <tr style=\"text-align: right;\">\n",
       "      <th></th>\n",
       "      <th>km</th>\n",
       "      <th>cv</th>\n",
       "      <th>FuelType</th>\n",
       "      <th>gearboxType</th>\n",
       "      <th>Engine</th>\n",
       "      <th>Brand</th>\n",
       "      <th>price</th>\n",
       "      <th>year</th>\n",
       "    </tr>\n",
       "  </thead>\n",
       "  <tbody>\n",
       "    <tr>\n",
       "      <th>0</th>\n",
       "      <td>82914.0</td>\n",
       "      <td>85.0</td>\n",
       "      <td>Diesel</td>\n",
       "      <td>Cambio automatico</td>\n",
       "      <td>1995.0</td>\n",
       "      <td>BMW</td>\n",
       "      <td>15500</td>\n",
       "      <td>10</td>\n",
       "    </tr>\n",
       "    <tr>\n",
       "      <th>1</th>\n",
       "      <td>161038.0</td>\n",
       "      <td>75.0</td>\n",
       "      <td>Benzina</td>\n",
       "      <td>Cambio manuale</td>\n",
       "      <td>1595.0</td>\n",
       "      <td>VOLKSWAGEN</td>\n",
       "      <td>3900</td>\n",
       "      <td>17</td>\n",
       "    </tr>\n",
       "    <tr>\n",
       "      <th>2</th>\n",
       "      <td>114830.0</td>\n",
       "      <td>80.0</td>\n",
       "      <td>Diesel</td>\n",
       "      <td>Cambio manuale</td>\n",
       "      <td>1461.0</td>\n",
       "      <td>MERCEDES BENZ</td>\n",
       "      <td>15900</td>\n",
       "      <td>9</td>\n",
       "    </tr>\n",
       "    <tr>\n",
       "      <th>3</th>\n",
       "      <td>61700.0</td>\n",
       "      <td>183.0</td>\n",
       "      <td>Diesel</td>\n",
       "      <td>Cambio automatico</td>\n",
       "      <td>2993.0</td>\n",
       "      <td>BMW</td>\n",
       "      <td>54900</td>\n",
       "      <td>7</td>\n",
       "    </tr>\n",
       "    <tr>\n",
       "      <th>4</th>\n",
       "      <td>25790.0</td>\n",
       "      <td>190.0</td>\n",
       "      <td>Diesel</td>\n",
       "      <td>Cambio automatico</td>\n",
       "      <td>2993.0</td>\n",
       "      <td>BMW</td>\n",
       "      <td>45900</td>\n",
       "      <td>9</td>\n",
       "    </tr>\n",
       "  </tbody>\n",
       "</table>\n",
       "</div>"
      ],
      "text/plain": [
       "         km     cv FuelType        gearboxType  Engine          Brand  price  \\\n",
       "0   82914.0   85.0   Diesel  Cambio automatico  1995.0            BMW  15500   \n",
       "1  161038.0   75.0  Benzina     Cambio manuale  1595.0     VOLKSWAGEN   3900   \n",
       "2  114830.0   80.0   Diesel     Cambio manuale  1461.0  MERCEDES BENZ  15900   \n",
       "3   61700.0  183.0   Diesel  Cambio automatico  2993.0            BMW  54900   \n",
       "4   25790.0  190.0   Diesel  Cambio automatico  2993.0            BMW  45900   \n",
       "\n",
       "   year  \n",
       "0    10  \n",
       "1    17  \n",
       "2     9  \n",
       "3     7  \n",
       "4     9  "
      ]
     },
     "execution_count": 10,
     "metadata": {},
     "output_type": "execute_result"
    }
   ],
   "source": [
    "df.head()"
   ]
  },
  {
   "cell_type": "code",
   "execution_count": 11,
   "metadata": {},
   "outputs": [
    {
     "data": {
      "text/plain": [
       "km             21354\n",
       "cv              8146\n",
       "FuelType         656\n",
       "gearboxType      761\n",
       "Engine          5912\n",
       "Brand            143\n",
       "price              0\n",
       "year               0\n",
       "dtype: int64"
      ]
     },
     "execution_count": 11,
     "metadata": {},
     "output_type": "execute_result"
    }
   ],
   "source": [
    "df.isna().sum()"
   ]
  },
  {
   "cell_type": "code",
   "execution_count": 12,
   "metadata": {},
   "outputs": [],
   "source": [
    "df.dropna(inplace = True)"
   ]
  },
  {
   "cell_type": "code",
   "execution_count": 13,
   "metadata": {},
   "outputs": [],
   "source": [
    "conteggio=df[\"Brand\"].value_counts().reset_index()\n",
    "lista=conteggio[conteggio[\"Brand\"]>500][\"index\"].values"
   ]
  },
  {
   "cell_type": "code",
   "execution_count": 14,
   "metadata": {},
   "outputs": [
    {
     "data": {
      "text/plain": [
       "array(['FIAT', 'BMW', 'MERCEDES BENZ', 'AUDI', 'VOLKSWAGEN', 'FORD',\n",
       "       'MINI', 'RENAULT', 'NISSAN', 'OPEL', 'PEUGEOT', 'CITROEN',\n",
       "       'ALFA ROMEO', 'TOYOTA', 'LANCIA', 'SMART', 'LAND ROVER', 'JEEP',\n",
       "       'VOLVO', 'KIA', 'PORSCHE', 'HYUNDAI', 'SKODA', 'SEAT', 'SUZUKI',\n",
       "       'JAGUAR', 'DACIA', 'CHEVROLET'], dtype=object)"
      ]
     },
     "execution_count": 14,
     "metadata": {},
     "output_type": "execute_result"
    }
   ],
   "source": [
    "lista"
   ]
  },
  {
   "cell_type": "code",
   "execution_count": 15,
   "metadata": {},
   "outputs": [],
   "source": [
    "df[\"Brand\"]=df[\"Brand\"].apply(lambda x:  x if x in lista else \"Other\")"
   ]
  },
  {
   "cell_type": "code",
   "execution_count": 16,
   "metadata": {},
   "outputs": [
    {
     "data": {
      "text/html": [
       "<div>\n",
       "<style scoped>\n",
       "    .dataframe tbody tr th:only-of-type {\n",
       "        vertical-align: middle;\n",
       "    }\n",
       "\n",
       "    .dataframe tbody tr th {\n",
       "        vertical-align: top;\n",
       "    }\n",
       "\n",
       "    .dataframe thead th {\n",
       "        text-align: right;\n",
       "    }\n",
       "</style>\n",
       "<table border=\"1\" class=\"dataframe\">\n",
       "  <thead>\n",
       "    <tr style=\"text-align: right;\">\n",
       "      <th></th>\n",
       "      <th>km</th>\n",
       "      <th>cv</th>\n",
       "      <th>FuelType</th>\n",
       "      <th>gearboxType</th>\n",
       "      <th>Engine</th>\n",
       "      <th>Brand</th>\n",
       "      <th>price</th>\n",
       "      <th>year</th>\n",
       "    </tr>\n",
       "  </thead>\n",
       "  <tbody>\n",
       "    <tr>\n",
       "      <th>0</th>\n",
       "      <td>82914.0</td>\n",
       "      <td>85.0</td>\n",
       "      <td>Diesel</td>\n",
       "      <td>Cambio automatico</td>\n",
       "      <td>1995.0</td>\n",
       "      <td>BMW</td>\n",
       "      <td>15500</td>\n",
       "      <td>10</td>\n",
       "    </tr>\n",
       "    <tr>\n",
       "      <th>1</th>\n",
       "      <td>161038.0</td>\n",
       "      <td>75.0</td>\n",
       "      <td>Benzina</td>\n",
       "      <td>Cambio manuale</td>\n",
       "      <td>1595.0</td>\n",
       "      <td>VOLKSWAGEN</td>\n",
       "      <td>3900</td>\n",
       "      <td>17</td>\n",
       "    </tr>\n",
       "    <tr>\n",
       "      <th>2</th>\n",
       "      <td>114830.0</td>\n",
       "      <td>80.0</td>\n",
       "      <td>Diesel</td>\n",
       "      <td>Cambio manuale</td>\n",
       "      <td>1461.0</td>\n",
       "      <td>MERCEDES BENZ</td>\n",
       "      <td>15900</td>\n",
       "      <td>9</td>\n",
       "    </tr>\n",
       "    <tr>\n",
       "      <th>3</th>\n",
       "      <td>61700.0</td>\n",
       "      <td>183.0</td>\n",
       "      <td>Diesel</td>\n",
       "      <td>Cambio automatico</td>\n",
       "      <td>2993.0</td>\n",
       "      <td>BMW</td>\n",
       "      <td>54900</td>\n",
       "      <td>7</td>\n",
       "    </tr>\n",
       "    <tr>\n",
       "      <th>4</th>\n",
       "      <td>25790.0</td>\n",
       "      <td>190.0</td>\n",
       "      <td>Diesel</td>\n",
       "      <td>Cambio automatico</td>\n",
       "      <td>2993.0</td>\n",
       "      <td>BMW</td>\n",
       "      <td>45900</td>\n",
       "      <td>9</td>\n",
       "    </tr>\n",
       "  </tbody>\n",
       "</table>\n",
       "</div>"
      ],
      "text/plain": [
       "         km     cv FuelType        gearboxType  Engine          Brand  price  \\\n",
       "0   82914.0   85.0   Diesel  Cambio automatico  1995.0            BMW  15500   \n",
       "1  161038.0   75.0  Benzina     Cambio manuale  1595.0     VOLKSWAGEN   3900   \n",
       "2  114830.0   80.0   Diesel     Cambio manuale  1461.0  MERCEDES BENZ  15900   \n",
       "3   61700.0  183.0   Diesel  Cambio automatico  2993.0            BMW  54900   \n",
       "4   25790.0  190.0   Diesel  Cambio automatico  2993.0            BMW  45900   \n",
       "\n",
       "   year  \n",
       "0    10  \n",
       "1    17  \n",
       "2     9  \n",
       "3     7  \n",
       "4     9  "
      ]
     },
     "execution_count": 16,
     "metadata": {},
     "output_type": "execute_result"
    }
   ],
   "source": [
    "df.head()"
   ]
  },
  {
   "cell_type": "code",
   "execution_count": 17,
   "metadata": {},
   "outputs": [],
   "source": [
    "cat_features = [\"FuelType\", \"gearboxType\", \"Brand\"]\n",
    "num_features = [\"km\", \"cv\", \"Engine\", \"year\"]\n",
    "\n",
    "y_vars = [\"price\"]"
   ]
  },
  {
   "cell_type": "code",
   "execution_count": 18,
   "metadata": {},
   "outputs": [],
   "source": [
    "#cat_features + num_features"
   ]
  },
  {
   "cell_type": "code",
   "execution_count": 19,
   "metadata": {},
   "outputs": [],
   "source": [
    "dummy_df = pd.get_dummies(df[cat_features])\n",
    "df_with_dummies = pd.concat([df[num_features],dummy_df], axis = 1)\n",
    "cat_features = list(dummy_df.columns)\n",
    "\n",
    "x_vars = cat_features + num_features"
   ]
  },
  {
   "cell_type": "code",
   "execution_count": 20,
   "metadata": {},
   "outputs": [],
   "source": [
    "x = df_with_dummies.copy()\n",
    "y = df[y_vars].copy()"
   ]
  },
  {
   "cell_type": "code",
   "execution_count": 21,
   "metadata": {},
   "outputs": [],
   "source": [
    "#y"
   ]
  },
  {
   "cell_type": "code",
   "execution_count": 22,
   "metadata": {},
   "outputs": [
    {
     "name": "stdout",
     "output_type": "stream",
     "text": [
      "(79156, 45) (79156, 1) (19790, 45) (19790, 1)\n"
     ]
    }
   ],
   "source": [
    "from sklearn.model_selection import train_test_split\n",
    "x_train, x_test,  y_train, y_test = train_test_split(x, y, test_size=0.2, random_state=0)\n",
    "print(x_train.shape, y_train.shape, x_test.shape,y_test.shape )"
   ]
  },
  {
   "cell_type": "code",
   "execution_count": 23,
   "metadata": {},
   "outputs": [],
   "source": [
    "from sklearn.preprocessing import StandardScaler\n",
    "sd = StandardScaler()\n",
    "sd.fit(x_train[num_features])\n",
    "\n",
    "x_train[num_features] = sd.transform(x_train[num_features])\n",
    "x_test[num_features] = sd.transform(x_test[num_features])"
   ]
  },
  {
   "cell_type": "code",
   "execution_count": 24,
   "metadata": {},
   "outputs": [],
   "source": [
    "#train_x"
   ]
  },
  {
   "cell_type": "code",
   "execution_count": 25,
   "metadata": {},
   "outputs": [],
   "source": [
    "from tensorflow import keras\n",
    "from tensorflow.keras import layers"
   ]
  },
  {
   "cell_type": "code",
   "execution_count": 26,
   "metadata": {},
   "outputs": [],
   "source": [
    "inputs = keras.Input(shape=(x_train.shape[1],))\n",
    "\n",
    "a_1 = layers.Dense(64, activation=\"relu\")(inputs)\n",
    "a_2 = layers.Dense(128, activation=\"relu\")(a_1)\n",
    "a_3 = layers.Dense(256, activation=\"relu\")(a_2)\n",
    "a_4 = layers.Dense(512, activation=\"relu\")(a_3)\n",
    "outputs = layers.Dense(1, activation=\"relu\")(a_4) # because is a price"
   ]
  },
  {
   "cell_type": "code",
   "execution_count": 27,
   "metadata": {},
   "outputs": [],
   "source": [
    "model = keras.Model(inputs=inputs, outputs=outputs, name=\"car_model\")"
   ]
  },
  {
   "cell_type": "code",
   "execution_count": 28,
   "metadata": {},
   "outputs": [
    {
     "name": "stdout",
     "output_type": "stream",
     "text": [
      "Model: \"car_model\"\n",
      "_________________________________________________________________\n",
      " Layer (type)                Output Shape              Param #   \n",
      "=================================================================\n",
      " input_1 (InputLayer)        [(None, 45)]              0         \n",
      "                                                                 \n",
      " dense (Dense)               (None, 64)                2944      \n",
      "                                                                 \n",
      " dense_1 (Dense)             (None, 128)               8320      \n",
      "                                                                 \n",
      " dense_2 (Dense)             (None, 256)               33024     \n",
      "                                                                 \n",
      " dense_3 (Dense)             (None, 512)               131584    \n",
      "                                                                 \n",
      " dense_4 (Dense)             (None, 1)                 513       \n",
      "                                                                 \n",
      "=================================================================\n",
      "Total params: 176,385\n",
      "Trainable params: 176,385\n",
      "Non-trainable params: 0\n",
      "_________________________________________________________________\n"
     ]
    }
   ],
   "source": [
    "model.summary()"
   ]
  },
  {
   "cell_type": "code",
   "execution_count": 29,
   "metadata": {},
   "outputs": [],
   "source": [
    "#keras.utils.plot_model(model, show_shapes=True)"
   ]
  },
  {
   "cell_type": "code",
   "execution_count": 30,
   "metadata": {},
   "outputs": [],
   "source": [
    "callback = keras.callbacks.EarlyStopping(monitor='val_loss', patience=5, verbose=1)\n",
    "\n",
    "model.compile(\n",
    "    loss=keras.losses.mean_squared_error,\n",
    "    optimizer=keras.optimizers.Adam(),\n",
    "    metrics=[\"mse\"]\n",
    ")"
   ]
  },
  {
   "cell_type": "code",
   "execution_count": 31,
   "metadata": {},
   "outputs": [],
   "source": [
    "#keras.optimizers.Adam"
   ]
  },
  {
   "cell_type": "code",
   "execution_count": 32,
   "metadata": {},
   "outputs": [],
   "source": [
    "#y_train"
   ]
  },
  {
   "cell_type": "code",
   "execution_count": 33,
   "metadata": {
    "collapsed": true
   },
   "outputs": [
    {
     "name": "stdout",
     "output_type": "stream",
     "text": [
      "Epoch 1/250\n",
      "990/990 [==============================] - 3s 2ms/step - loss: 235575184.0000 - mse: 235575184.0000 - val_loss: 203666592.0000 - val_mse: 203666592.0000\n",
      "Epoch 2/250\n",
      "990/990 [==============================] - 2s 2ms/step - loss: 150992448.0000 - mse: 150992448.0000 - val_loss: 158584704.0000 - val_mse: 158584704.0000\n",
      "Epoch 3/250\n",
      "990/990 [==============================] - 2s 2ms/step - loss: 122590976.0000 - mse: 122590976.0000 - val_loss: 125703184.0000 - val_mse: 125703184.0000\n",
      "Epoch 4/250\n",
      "990/990 [==============================] - 2s 2ms/step - loss: 102625088.0000 - mse: 102625088.0000 - val_loss: 101745832.0000 - val_mse: 101745832.0000\n",
      "Epoch 5/250\n",
      "990/990 [==============================] - 3s 3ms/step - loss: 82497688.0000 - mse: 82497688.0000 - val_loss: 84581120.0000 - val_mse: 84581120.0000\n",
      "Epoch 6/250\n",
      "990/990 [==============================] - 3s 3ms/step - loss: 74422264.0000 - mse: 74422264.0000 - val_loss: 77025672.0000 - val_mse: 77025672.0000\n",
      "Epoch 7/250\n",
      "990/990 [==============================] - 2s 2ms/step - loss: 71638528.0000 - mse: 71638528.0000 - val_loss: 71335608.0000 - val_mse: 71335608.0000\n",
      "Epoch 8/250\n",
      "990/990 [==============================] - 2s 2ms/step - loss: 69909160.0000 - mse: 69909160.0000 - val_loss: 77915184.0000 - val_mse: 77915184.0000\n",
      "Epoch 9/250\n",
      "990/990 [==============================] - 2s 2ms/step - loss: 68894768.0000 - mse: 68894768.0000 - val_loss: 70935976.0000 - val_mse: 70935976.0000\n",
      "Epoch 10/250\n",
      "990/990 [==============================] - 2s 2ms/step - loss: 67660976.0000 - mse: 67660976.0000 - val_loss: 68211680.0000 - val_mse: 68211680.0000\n",
      "Epoch 11/250\n",
      "990/990 [==============================] - 2s 2ms/step - loss: 67112320.0000 - mse: 67112320.0000 - val_loss: 69334736.0000 - val_mse: 69334736.0000\n",
      "Epoch 12/250\n",
      "990/990 [==============================] - 2s 2ms/step - loss: 66155528.0000 - mse: 66155528.0000 - val_loss: 68425288.0000 - val_mse: 68425288.0000\n",
      "Epoch 13/250\n",
      "990/990 [==============================] - 2s 2ms/step - loss: 65833764.0000 - mse: 65833764.0000 - val_loss: 71492544.0000 - val_mse: 71492544.0000\n",
      "Epoch 14/250\n",
      "990/990 [==============================] - 2s 2ms/step - loss: 65040512.0000 - mse: 65040512.0000 - val_loss: 68668120.0000 - val_mse: 68668120.0000\n",
      "Epoch 15/250\n",
      "990/990 [==============================] - 2s 2ms/step - loss: 64351784.0000 - mse: 64351784.0000 - val_loss: 66118548.0000 - val_mse: 66118548.0000\n",
      "Epoch 16/250\n",
      "990/990 [==============================] - 2s 2ms/step - loss: 63611764.0000 - mse: 63611764.0000 - val_loss: 70490928.0000 - val_mse: 70490928.0000\n",
      "Epoch 17/250\n",
      "990/990 [==============================] - 2s 2ms/step - loss: 64233380.0000 - mse: 64233380.0000 - val_loss: 65585288.0000 - val_mse: 65585288.0000\n",
      "Epoch 18/250\n",
      "990/990 [==============================] - 2s 2ms/step - loss: 62951508.0000 - mse: 62951508.0000 - val_loss: 68233000.0000 - val_mse: 68233000.0000\n",
      "Epoch 19/250\n",
      "990/990 [==============================] - 2s 2ms/step - loss: 63350964.0000 - mse: 63350964.0000 - val_loss: 83901568.0000 - val_mse: 83901568.0000\n",
      "Epoch 20/250\n",
      "990/990 [==============================] - 3s 3ms/step - loss: 61316296.0000 - mse: 61316296.0000 - val_loss: 64829116.0000 - val_mse: 64829116.0000\n",
      "Epoch 21/250\n",
      "990/990 [==============================] - 2s 3ms/step - loss: 62738628.0000 - mse: 62738628.0000 - val_loss: 67274064.0000 - val_mse: 67274064.0000\n",
      "Epoch 22/250\n",
      "990/990 [==============================] - 2s 2ms/step - loss: 61247892.0000 - mse: 61247892.0000 - val_loss: 66374340.0000 - val_mse: 66374340.0000\n",
      "Epoch 23/250\n",
      "990/990 [==============================] - 2s 2ms/step - loss: 61497016.0000 - mse: 61497016.0000 - val_loss: 76378376.0000 - val_mse: 76378376.0000\n",
      "Epoch 24/250\n",
      "990/990 [==============================] - 3s 3ms/step - loss: 62302112.0000 - mse: 62302112.0000 - val_loss: 64579348.0000 - val_mse: 64579348.0000\n",
      "Epoch 25/250\n",
      "990/990 [==============================] - 2s 2ms/step - loss: 61703852.0000 - mse: 61703852.0000 - val_loss: 70282832.0000 - val_mse: 70282832.0000\n",
      "Epoch 26/250\n",
      "990/990 [==============================] - 3s 3ms/step - loss: 60383292.0000 - mse: 60383292.0000 - val_loss: 66766176.0000 - val_mse: 66766176.0000\n",
      "Epoch 27/250\n",
      "990/990 [==============================] - 3s 3ms/step - loss: 59859048.0000 - mse: 59859048.0000 - val_loss: 62922652.0000 - val_mse: 62922652.0000\n",
      "Epoch 28/250\n",
      "990/990 [==============================] - 2s 2ms/step - loss: 59681592.0000 - mse: 59681592.0000 - val_loss: 63131576.0000 - val_mse: 63131576.0000\n",
      "Epoch 29/250\n",
      "990/990 [==============================] - 2s 3ms/step - loss: 60211316.0000 - mse: 60211316.0000 - val_loss: 64749072.0000 - val_mse: 64749072.0000\n",
      "Epoch 30/250\n",
      "990/990 [==============================] - 2s 2ms/step - loss: 58342064.0000 - mse: 58342064.0000 - val_loss: 69945728.0000 - val_mse: 69945728.0000\n",
      "Epoch 31/250\n",
      "990/990 [==============================] - 2s 2ms/step - loss: 60532496.0000 - mse: 60532496.0000 - val_loss: 62711248.0000 - val_mse: 62711248.0000\n",
      "Epoch 32/250\n",
      "990/990 [==============================] - 2s 3ms/step - loss: 58791428.0000 - mse: 58791428.0000 - val_loss: 66381160.0000 - val_mse: 66381160.0000\n",
      "Epoch 33/250\n",
      "990/990 [==============================] - 2s 2ms/step - loss: 58912360.0000 - mse: 58912360.0000 - val_loss: 64429296.0000 - val_mse: 64429296.0000\n",
      "Epoch 34/250\n",
      "990/990 [==============================] - 2s 2ms/step - loss: 58363684.0000 - mse: 58363684.0000 - val_loss: 61986596.0000 - val_mse: 61986596.0000\n",
      "Epoch 35/250\n",
      "990/990 [==============================] - 2s 2ms/step - loss: 58812372.0000 - mse: 58812372.0000 - val_loss: 65942248.0000 - val_mse: 65942248.0000\n",
      "Epoch 36/250\n",
      "990/990 [==============================] - 2s 2ms/step - loss: 57728712.0000 - mse: 57728712.0000 - val_loss: 61386984.0000 - val_mse: 61386984.0000\n",
      "Epoch 37/250\n",
      "990/990 [==============================] - 2s 2ms/step - loss: 58020168.0000 - mse: 58020168.0000 - val_loss: 67351992.0000 - val_mse: 67351992.0000\n",
      "Epoch 38/250\n",
      "990/990 [==============================] - 2s 2ms/step - loss: 57521208.0000 - mse: 57521208.0000 - val_loss: 63817496.0000 - val_mse: 63817496.0000\n",
      "Epoch 39/250\n",
      "990/990 [==============================] - 2s 2ms/step - loss: 57937064.0000 - mse: 57937064.0000 - val_loss: 63589680.0000 - val_mse: 63589680.0000\n",
      "Epoch 40/250\n",
      "990/990 [==============================] - 2s 2ms/step - loss: 56742380.0000 - mse: 56742380.0000 - val_loss: 64667628.0000 - val_mse: 64667628.0000\n",
      "Epoch 41/250\n",
      "990/990 [==============================] - 2s 2ms/step - loss: 56439696.0000 - mse: 56439696.0000 - val_loss: 63628644.0000 - val_mse: 63628644.0000\n",
      "Epoch 41: early stopping\n"
     ]
    }
   ],
   "source": [
    "history = model.fit(x_train.values, y_train.values, batch_size=64, epochs=250, validation_split = 0.2, callbacks=[callback])"
   ]
  },
  {
   "cell_type": "code",
   "execution_count": 37,
   "metadata": {},
   "outputs": [
    {
     "data": {
      "image/png": "[encoded data removed]",
      "text/plain": [
       "<Figure size 720x360 with 1 Axes>"
      ]
     },
     "metadata": {
      "needs_background": "light"
     },
     "output_type": "display_data"
    }
   ],
   "source": [
    "import matplotlib.pyplot as plt\n",
    "fig , ax = plt.subplots(1,1, figsize = (10,5))\n",
    "\n",
    "ax.plot(history.history['mse'], label = \"train\")\n",
    "ax.plot(history.history['val_mse'], label =\"valid\")\n",
    "ax.set_xlabel(\"epoch\")\n",
    "ax.set_ylabel(\"metric\")\n",
    "ax.legend()\n",
    "plt.show()"
   ]
  },
  {
   "cell_type": "code",
   "execution_count": 38,
   "metadata": {},
   "outputs": [
    {
     "name": "stdout",
     "output_type": "stream",
     "text": [
      "619/619 [==============================] - 1s 890us/step\n"
     ]
    }
   ],
   "source": [
    "y_predict = model.predict(x_test)#, y_test, verbose=2)"
   ]
  },
  {
   "cell_type": "code",
   "execution_count": 39,
   "metadata": {},
   "outputs": [
    {
     "data": {
      "image/png": "[encoded data removed]",
      "text/plain": [
       "<Figure size 720x360 with 1 Axes>"
      ]
     },
     "metadata": {
      "needs_background": "light"
     },
     "output_type": "display_data"
    }
   ],
   "source": [
    "fig , ax = plt.subplots(1,1, figsize = (10,5))\n",
    "\n",
    "ax.scatter(y_test.values, y_predict.reshape(-1))\n",
    "ax.plot([0,250000], [0,250000], \"--\", c=\"red\")\n",
    "ax.set_xlabel(\"y_test\")\n",
    "ax.set_ylabel(\"y_predict\")\n",
    "plt.show()"
   ]
  },
  {
   "cell_type": "code",
   "execution_count": null,
   "metadata": {},
   "outputs": [],
   "source": [
    "#y_predict.reshape(-1)"
   ]
  },
  {
   "cell_type": "code",
   "execution_count": null,
   "metadata": {},
   "outputs": [],
   "source": []
  }
 ],
 "metadata": {
  "kernelspec": {
   "display_name": "Python 3 (ipykernel)",
   "language": "python",
   "name": "python3"
  },
  "language_info": {
   "codemirror_mode": {
    "name": "ipython",
    "version": 3
   },
   "file_extension": ".py",
   "mimetype": "text/x-python",
   "name": "python",
   "nbconvert_exporter": "python",
   "pygments_lexer": "ipython3",
   "version": "3.8.10"
  }
 },
 "nbformat": 4,
 "nbformat_minor": 2
}
